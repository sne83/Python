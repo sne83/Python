{
  "nbformat": 4,
  "nbformat_minor": 0,
  "metadata": {
    "colab": {
      "provenance": []
    },
    "kernelspec": {
      "name": "python3",
      "display_name": "Python 3"
    },
    "language_info": {
      "name": "python"
    }
  },
  "cells": [
    {
      "cell_type": "code",
      "execution_count": 1,
      "metadata": {
        "colab": {
          "base_uri": "https://localhost:8080/"
        },
        "id": "EaHGiYUz2-Zg",
        "outputId": "9a88f005-4bca-4392-eb26-4d99fde04ba9"
      },
      "outputs": [
        {
          "output_type": "stream",
          "name": "stdout",
          "text": [
            "2023-09-30 11:33:52.967509\n"
          ]
        }
      ],
      "source": [
        "# 1: Print current date and time in Python\n",
        "import datetime\n",
        "print(datetime.datetime.now())"
      ]
    },
    {
      "cell_type": "code",
      "source": [
        "# 2: Convert string into a datetime object\n",
        "date_string = \"Feb 25 2020 4:20PM\"\n",
        "from datetime import datetime\n",
        "date1 = datetime.strptime(date_string,'%b %d %Y %I:%M%p')\n",
        "print(date1)"
      ],
      "metadata": {
        "colab": {
          "base_uri": "https://localhost:8080/"
        },
        "id": "7ra1s8w33gy0",
        "outputId": "4c8f9b31-3811-4b9b-f889-8c15db371c50"
      },
      "execution_count": 2,
      "outputs": [
        {
          "output_type": "stream",
          "name": "stdout",
          "text": [
            "2020-02-25 16:20:00\n"
          ]
        }
      ]
    },
    {
      "cell_type": "code",
      "source": [
        "# 3: Subtract a week (7 days)  from a given date in Python\n",
        "\n",
        "from datetime import datetime, timedelta\n",
        "\n",
        "given_date = datetime(2020, 2, 25)\n",
        "print(\"Given date\")\n",
        "print(given_date)\n",
        "\n",
        "days_to_subtract = 7\n",
        "res_date = given_date - timedelta(days=days_to_subtract)\n",
        "print(\"New Date\")\n",
        "print(res_date)\n"
      ],
      "metadata": {
        "colab": {
          "base_uri": "https://localhost:8080/"
        },
        "id": "2u_-LO3pFEa4",
        "outputId": "c934ecb3-39a6-4730-d673-d1829cf93220"
      },
      "execution_count": 3,
      "outputs": [
        {
          "output_type": "stream",
          "name": "stdout",
          "text": [
            "Given date\n",
            "2020-02-25 00:00:00\n",
            "New Date\n",
            "2020-02-18 00:00:00\n"
          ]
        }
      ]
    },
    {
      "cell_type": "code",
      "source": [
        "# 4: Print a date in a the following format\n",
        "from datetime import datetime\n",
        "\n",
        "given_date = datetime(2020, 2, 25)\n",
        "print(\"Given date is\")\n",
        "print(given_date.strftime('%A %d %B %Y'))\n"
      ],
      "metadata": {
        "colab": {
          "base_uri": "https://localhost:8080/"
        },
        "id": "Zmea8yOWQAuC",
        "outputId": "11069b6f-9826-4e8d-9c49-d3e8ad22a8d7"
      },
      "execution_count": 4,
      "outputs": [
        {
          "output_type": "stream",
          "name": "stdout",
          "text": [
            "Given date is\n",
            "Tuesday 25 February 2020\n"
          ]
        }
      ]
    },
    {
      "cell_type": "code",
      "source": [
        "# 5: Find the day of the week of a given date\n",
        "from datetime import datetime\n",
        "\n",
        "given_date = datetime(2020, 7, 26)\n",
        "\n",
        "# to get weekday as integer\n",
        "print(given_date.today().weekday())\n",
        "\n",
        "# To get the english name of the weekday\n",
        "print(given_date.strftime('%A'))"
      ],
      "metadata": {
        "colab": {
          "base_uri": "https://localhost:8080/"
        },
        "id": "vfbzcTtqQQhH",
        "outputId": "40af19d4-c22c-4869-8cdd-ceaf4f92ca49"
      },
      "execution_count": 5,
      "outputs": [
        {
          "output_type": "stream",
          "name": "stdout",
          "text": [
            "5\n",
            "Sunday\n"
          ]
        }
      ]
    },
    {
      "cell_type": "code",
      "source": [
        "import calendar\n",
        "from datetime import datetime\n",
        "\n",
        "given_date = datetime(2020, 7, 26)\n",
        "weekday = calendar.day_name[given_date.weekday()]\n",
        "print(weekday)"
      ],
      "metadata": {
        "colab": {
          "base_uri": "https://localhost:8080/"
        },
        "id": "8EmM6HE0Qdnk",
        "outputId": "6d867a33-ea40-42d4-d7a2-768ba8bd0646"
      },
      "execution_count": 6,
      "outputs": [
        {
          "output_type": "stream",
          "name": "stdout",
          "text": [
            "Sunday\n"
          ]
        }
      ]
    },
    {
      "cell_type": "code",
      "source": [
        "# 6: Add a week (7 days) and 12 hours to a given date\n",
        "from datetime import datetime, timedelta\n",
        "\n",
        "given_date = datetime(2020, 3, 22, 10, 00, 00)\n",
        "print(\"Given date\")\n",
        "print(given_date)\n",
        "\n",
        "days_to_add = 7\n",
        "res_date = given_date + timedelta(days=days_to_add, hours=12)\n",
        "print(\"New Date\")\n",
        "print(res_date)"
      ],
      "metadata": {
        "colab": {
          "base_uri": "https://localhost:8080/"
        },
        "id": "ctWwU-UQRGs9",
        "outputId": "2b37574f-1df9-4227-be5c-42301b96eae2"
      },
      "execution_count": 7,
      "outputs": [
        {
          "output_type": "stream",
          "name": "stdout",
          "text": [
            "Given date\n",
            "2020-03-22 10:00:00\n",
            "New Date\n",
            "2020-03-29 22:00:00\n"
          ]
        }
      ]
    },
    {
      "cell_type": "code",
      "source": [
        "# 7: Print current time in milliseconds\n",
        "\n",
        "import time\n",
        "milliseconds = int(round(time.time() * 1000))\n",
        "print(milliseconds)"
      ],
      "metadata": {
        "colab": {
          "base_uri": "https://localhost:8080/"
        },
        "id": "YAtv5dwLRazg",
        "outputId": "d00c01a5-1431-4e42-bf2d-99dbb449daa7"
      },
      "execution_count": 1,
      "outputs": [
        {
          "output_type": "stream",
          "name": "stdout",
          "text": [
            "1696092894089\n"
          ]
        }
      ]
    },
    {
      "cell_type": "code",
      "source": [
        "# 8: Convert the following datetime into a string\n",
        "from datetime import datetime\n",
        "\n",
        "given_date = datetime(2020, 2, 25)\n",
        "string_date = given_date.strftime(\"%Y-%m-%d %H:%M:%S\")\n",
        "print(string_date)\n"
      ],
      "metadata": {
        "colab": {
          "base_uri": "https://localhost:8080/"
        },
        "id": "ZRFSwxRiBdm7",
        "outputId": "406c38a2-7741-44bc-e8b8-b23a22219414"
      },
      "execution_count": 2,
      "outputs": [
        {
          "output_type": "stream",
          "name": "stdout",
          "text": [
            "2020-02-25 00:00:00\n"
          ]
        }
      ]
    },
    {
      "cell_type": "code",
      "source": [
        "# 9: Calculate the date 4 months from the current date\n",
        "from datetime import datetime\n",
        "\n",
        "from dateutil.relativedelta import relativedelta\n",
        "\n",
        "# 2020-02-25\n",
        "given_date = datetime(2020, 2, 25).date()\n",
        "\n",
        "months_to_add = 4\n",
        "new_date = given_date + relativedelta(months=+ months_to_add)\n",
        "print(new_date)\n"
      ],
      "metadata": {
        "colab": {
          "base_uri": "https://localhost:8080/"
        },
        "id": "fA4bJOgvBsEZ",
        "outputId": "f14ffefc-c411-43a5-91c3-33c92e9939f4"
      },
      "execution_count": 3,
      "outputs": [
        {
          "output_type": "stream",
          "name": "stdout",
          "text": [
            "2020-06-25\n"
          ]
        }
      ]
    },
    {
      "cell_type": "code",
      "source": [
        "# 10: Calculate number of days between two given dates\n",
        "from datetime import datetime\n",
        "\n",
        "# 2020-02-25\n",
        "date_1 = datetime(2020, 2, 25).date()\n",
        "# 2020-09-17\n",
        "date_2 = datetime(2020, 9, 17).date()\n",
        "\n",
        "delta = None\n",
        "if date_1 > date_2:\n",
        "    print(\"date_1 is greater\")\n",
        "    delta = date_1 - date_2\n",
        "else:\n",
        "    print(\"date_2 is greater\")\n",
        "    delta = date_2 - date_1\n",
        "print(\"Difference is\", delta.days, \"days\")\n"
      ],
      "metadata": {
        "colab": {
          "base_uri": "https://localhost:8080/"
        },
        "id": "3GANMChIB81a",
        "outputId": "18aac3ca-c3ac-4144-d4c3-e82b057e5fe8"
      },
      "execution_count": 4,
      "outputs": [
        {
          "output_type": "stream",
          "name": "stdout",
          "text": [
            "date_2 is greater\n",
            "Difference is 205 days\n"
          ]
        }
      ]
    }
  ]
}