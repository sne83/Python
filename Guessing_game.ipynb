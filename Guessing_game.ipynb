{
  "nbformat": 4,
  "nbformat_minor": 0,
  "metadata": {
    "colab": {
      "provenance": [],
      "authorship_tag": "ABX9TyPQ662wZHH29wR3eZ+hSMHx"
    },
    "kernelspec": {
      "name": "python3",
      "display_name": "Python 3"
    },
    "language_info": {
      "name": "python"
    }
  },
  "cells": [
    {
      "cell_type": "code",
      "source": [
        "number = int(input('Enter the number: '))\n",
        "i = 1\n",
        "while i<11:\n",
        "  print(number,'*',i,'=',number * i)\n",
        "  i += 1"
      ],
      "metadata": {
        "id": "rSe7ITd8yyW8",
        "colab": {
          "base_uri": "https://localhost:8080/"
        },
        "outputId": "e1709b8e-6fd3-47e8-c366-fb50e34b127a"
      },
      "execution_count": 3,
      "outputs": [
        {
          "output_type": "stream",
          "name": "stdout",
          "text": [
            "Enter the number: 24\n",
            "24 * 1 = 24\n",
            "24 * 2 = 48\n",
            "24 * 3 = 72\n",
            "24 * 4 = 96\n",
            "24 * 5 = 120\n",
            "24 * 6 = 144\n",
            "24 * 7 = 168\n",
            "24 * 8 = 192\n",
            "24 * 9 = 216\n",
            "24 * 10 = 240\n"
          ]
        }
      ]
    },
    {
      "cell_type": "code",
      "source": [
        "import random  # to generate random numbers"
      ],
      "metadata": {
        "id": "WHhJ0B3iyyZd"
      },
      "execution_count": 4,
      "outputs": []
    },
    {
      "cell_type": "code",
      "source": [
        "random.randint(1,100) # eg"
      ],
      "metadata": {
        "id": "5yd8Q1suyycR",
        "colab": {
          "base_uri": "https://localhost:8080/"
        },
        "outputId": "ea8e3a13-510e-4df3-fc5c-b492d5c31661"
      },
      "execution_count": 5,
      "outputs": [
        {
          "output_type": "execute_result",
          "data": {
            "text/plain": [
              "73"
            ]
          },
          "metadata": {},
          "execution_count": 5
        }
      ]
    },
    {
      "cell_type": "code",
      "source": [
        "jackpot = random.randint(1,100)      # to guess any number bet 1-100\n",
        "\n",
        "guess = int(input('Chal guess kar: '))\n",
        "counter = 1\n",
        "while guess != jackpot:\n",
        "  if guess < jackpot:\n",
        "    print('Guess higher')\n",
        "  else:\n",
        "    print('Guess lower')\n",
        "\n",
        "  guess = int(input('Chal guess kar: '))\n",
        "  counter += 1\n",
        "print('Sahi Jawab')\n",
        "print('You took',counter,'attempts')"
      ],
      "metadata": {
        "id": "KTt0fbaxyyer",
        "colab": {
          "base_uri": "https://localhost:8080/"
        },
        "outputId": "b6f3e809-0f04-4853-bcf2-3348a49039b2"
      },
      "execution_count": 7,
      "outputs": [
        {
          "output_type": "stream",
          "name": "stdout",
          "text": [
            "Chal guess kar: 50\n",
            "Guess lower\n",
            "Chal guess kar: 30\n",
            "Guess lower\n",
            "Chal guess kar: 20\n",
            "Guess higher\n",
            "Chal guess kar: 23\n",
            "Guess higher\n",
            "Chal guess kar: 25\n",
            "Guess higher\n",
            "Chal guess kar: 28\n",
            "Guess lower\n",
            "Chal guess kar: 27\n",
            "Guess lower\n",
            "Chal guess kar: 26\n",
            "Sahi Jawab\n",
            "You took 8 attempts\n"
          ]
        }
      ]
    }
  ]
}