{
  "nbformat": 4,
  "nbformat_minor": 0,
  "metadata": {
    "colab": {
      "provenance": []
    },
    "kernelspec": {
      "name": "python3",
      "display_name": "Python 3"
    },
    "language_info": {
      "name": "python"
    }
  },
  "cells": [
    {
      "cell_type": "code",
      "execution_count": 2,
      "metadata": {
        "colab": {
          "base_uri": "https://localhost:8080/"
        },
        "id": "Vqr4A28gqQ1I",
        "outputId": "88ee452f-9408-4bb7-874e-c69f0d7073ba"
      },
      "outputs": [
        {
          "output_type": "stream",
          "name": "stdout",
          "text": [
            "[7, 14, 21, 28, 35, 42, 49, 56, 63, 70, 77, 84, 91, 98, 105, 112, 119, 126, 133, 140, 147, 154, 161, 168, 175, 182, 189, 196, 203, 210, 217, 224, 231, 238, 245, 252, 259, 266, 273, 280, 287, 294, 301, 308, 315, 322, 329, 336, 343, 350, 357, 364, 371, 378, 385, 392, 399, 406, 413, 420, 427, 434, 441, 448, 455, 462, 469, 476, 483, 490, 497, 504, 511, 518, 525, 532, 539, 546, 553, 560, 567, 574, 581, 588, 595, 602, 609, 616, 623, 630, 637, 644, 651, 658, 665, 672, 679, 686, 693, 700, 707, 714, 721, 728, 735, 742, 749, 756, 763, 770, 777, 784, 791, 798, 805, 812, 819, 826, 833, 840, 847, 854, 861, 868, 875, 882, 889, 896, 903, 910, 917, 924, 931, 938, 945, 952, 959, 966, 973, 980, 987, 994] "
          ]
        }
      ],
      "source": [
        "# Find all of the numbers from 1-1000 that are divisible by 7\n",
        "list1 = [i for i in range(1,1000) if i%7==0]\n",
        "print(list1,end= ' ')"
      ]
    },
    {
      "cell_type": "code",
      "source": [
        "# Find all of the numbers from 1-1000 that have a 3 in them\n",
        "list2 = [i for i in range (1,1000) if '3' in str(i)]\n",
        "print(list2,end=' ')"
      ],
      "metadata": {
        "colab": {
          "base_uri": "https://localhost:8080/"
        },
        "id": "Nl5gFg1_v7m2",
        "outputId": "e880719f-07b4-45f2-cdbe-4a480476e92d"
      },
      "execution_count": 4,
      "outputs": [
        {
          "output_type": "stream",
          "name": "stdout",
          "text": [
            "[3, 13, 23, 30, 31, 32, 33, 34, 35, 36, 37, 38, 39, 43, 53, 63, 73, 83, 93, 103, 113, 123, 130, 131, 132, 133, 134, 135, 136, 137, 138, 139, 143, 153, 163, 173, 183, 193, 203, 213, 223, 230, 231, 232, 233, 234, 235, 236, 237, 238, 239, 243, 253, 263, 273, 283, 293, 300, 301, 302, 303, 304, 305, 306, 307, 308, 309, 310, 311, 312, 313, 314, 315, 316, 317, 318, 319, 320, 321, 322, 323, 324, 325, 326, 327, 328, 329, 330, 331, 332, 333, 334, 335, 336, 337, 338, 339, 340, 341, 342, 343, 344, 345, 346, 347, 348, 349, 350, 351, 352, 353, 354, 355, 356, 357, 358, 359, 360, 361, 362, 363, 364, 365, 366, 367, 368, 369, 370, 371, 372, 373, 374, 375, 376, 377, 378, 379, 380, 381, 382, 383, 384, 385, 386, 387, 388, 389, 390, 391, 392, 393, 394, 395, 396, 397, 398, 399, 403, 413, 423, 430, 431, 432, 433, 434, 435, 436, 437, 438, 439, 443, 453, 463, 473, 483, 493, 503, 513, 523, 530, 531, 532, 533, 534, 535, 536, 537, 538, 539, 543, 553, 563, 573, 583, 593, 603, 613, 623, 630, 631, 632, 633, 634, 635, 636, 637, 638, 639, 643, 653, 663, 673, 683, 693, 703, 713, 723, 730, 731, 732, 733, 734, 735, 736, 737, 738, 739, 743, 753, 763, 773, 783, 793, 803, 813, 823, 830, 831, 832, 833, 834, 835, 836, 837, 838, 839, 843, 853, 863, 873, 883, 893, 903, 913, 923, 930, 931, 932, 933, 934, 935, 936, 937, 938, 939, 943, 953, 963, 973, 983, 993] "
          ]
        }
      ]
    },
    {
      "cell_type": "code",
      "source": [
        "# Count the number of spaces in a string\n",
        "\n",
        "some_string = 'the slow solid squid swam sumptuously through the slimy swamp'\n",
        "list1 = [i for i in some_string if i == ' ']\n",
        "print(len(list1))"
      ],
      "metadata": {
        "colab": {
          "base_uri": "https://localhost:8080/"
        },
        "id": "qx1M-KEJwmK1",
        "outputId": "086fc1ab-54f6-4dcc-d8b2-7373ff316d4f"
      },
      "execution_count": 7,
      "outputs": [
        {
          "output_type": "stream",
          "name": "stdout",
          "text": [
            "9\n"
          ]
        }
      ]
    },
    {
      "cell_type": "code",
      "source": [
        "# Create a list of all the consonants in the string\n",
        "\n",
        "sentence = \"Yellow Yaks like yelling and yawning and yesturday they yodled while eating yuky yams\"\n",
        "list1 = [i for i in sentence if i not in 'a,e,i,o,u']\n",
        "print(list1,end = ' ')"
      ],
      "metadata": {
        "colab": {
          "base_uri": "https://localhost:8080/"
        },
        "id": "2aeBHInqxLin",
        "outputId": "26d6e730-2d3e-4260-a2fe-9d9de98c01ed"
      },
      "execution_count": 9,
      "outputs": [
        {
          "output_type": "stream",
          "name": "stdout",
          "text": [
            "['Y', 'l', 'l', 'w', ' ', 'Y', 'k', 's', ' ', 'l', 'k', ' ', 'y', 'l', 'l', 'n', 'g', ' ', 'n', 'd', ' ', 'y', 'w', 'n', 'n', 'g', ' ', 'n', 'd', ' ', 'y', 's', 't', 'r', 'd', 'y', ' ', 't', 'h', 'y', ' ', 'y', 'd', 'l', 'd', ' ', 'w', 'h', 'l', ' ', 't', 'n', 'g', ' ', 'y', 'k', 'y', ' ', 'y', 'm', 's'] "
          ]
        }
      ]
    },
    {
      "cell_type": "code",
      "source": [
        "# Get the index and the value as a tuple for items in the list .  Result would look like [(index, value), (index, value)]\n",
        "\n",
        "items = [\"hi\", 4, 8.99, 'apple', ('t,b','n')]\n",
        "list1 = [tuple([index,items[index]]) for index in range(len(items))]\n",
        "list1"
      ],
      "metadata": {
        "colab": {
          "base_uri": "https://localhost:8080/"
        },
        "id": "xzgZxpmRyHRG",
        "outputId": "fb5b7255-3b63-4ee8-d47f-c00812b6c53c"
      },
      "execution_count": 13,
      "outputs": [
        {
          "output_type": "execute_result",
          "data": {
            "text/plain": [
              "[(0, 'hi'), (1, 4), (2, 8.99), (3, 'apple'), (4, ('t,b', 'n'))]"
            ]
          },
          "metadata": {},
          "execution_count": 13
        }
      ]
    },
    {
      "cell_type": "code",
      "source": [
        "# Find the common numbers in two lists (without using a tuple or set)\n",
        "list_a = [1, 2, 3, 4]\n",
        "list_b = [2, 3, 4, 5]\n",
        "list1 = [i for i in list_a if i in list_b]\n",
        "list1\n"
      ],
      "metadata": {
        "colab": {
          "base_uri": "https://localhost:8080/"
        },
        "id": "hoJo9L32zQ0B",
        "outputId": "8a92e0e2-085f-4c76-d3f4-7e4e71608c82"
      },
      "execution_count": 14,
      "outputs": [
        {
          "output_type": "execute_result",
          "data": {
            "text/plain": [
              "[2, 3, 4]"
            ]
          },
          "metadata": {},
          "execution_count": 14
        }
      ]
    },
    {
      "cell_type": "code",
      "source": [
        "# Get only the numbers in a sentence.\n",
        "\n",
        "sentence = 'In 1984 there were 13 instances of a protest with over 1000 people attending'\n",
        "# word = sentence.split()\n",
        "list1 = [i for i in sentence.split() if i.isdigit() ]\n",
        "list1"
      ],
      "metadata": {
        "colab": {
          "base_uri": "https://localhost:8080/"
        },
        "id": "k3mQ5yeEz3r9",
        "outputId": "dcc4a23a-711a-4617-a8c4-ec6148a0b633"
      },
      "execution_count": 16,
      "outputs": [
        {
          "output_type": "execute_result",
          "data": {
            "text/plain": [
              "['1984', '13', '1000']"
            ]
          },
          "metadata": {},
          "execution_count": 16
        }
      ]
    },
    {
      "cell_type": "code",
      "source": [
        "# Given numbers = range(20), produce a list containing the word 'even' if a number in the numbers is even, and the word 'odd' if the number is odd.  Result would look like ['odd','odd', 'even']\n",
        "list1 = ['even' if i%2==0 else 'false' for i in range(20)]\n",
        "print(list1,end = ' ')"
      ],
      "metadata": {
        "colab": {
          "base_uri": "https://localhost:8080/"
        },
        "id": "H2egVUY90tKF",
        "outputId": "084dfd32-33da-4ee9-8162-0fc7ba963349"
      },
      "execution_count": 18,
      "outputs": [
        {
          "output_type": "stream",
          "name": "stdout",
          "text": [
            "['even', 'false', 'even', 'false', 'even', 'false', 'even', 'false', 'even', 'false', 'even', 'false', 'even', 'false', 'even', 'false', 'even', 'false', 'even', 'false'] "
          ]
        }
      ]
    },
    {
      "cell_type": "code",
      "source": [
        "# Produce a list of tuples consisting of only the matching numbers in these lists.  Result would look like (4,4), (12,12)\n",
        "\n",
        "list_a = [1, 2, 3,4,5,6,7,8,9]\n",
        "list_b = [2, 7, 1, 12]\n",
        "list1 = [(i,j) for i in list_a for j in list_b if i == j ]\n",
        "list1"
      ],
      "metadata": {
        "colab": {
          "base_uri": "https://localhost:8080/"
        },
        "id": "4KTsZKG11w-f",
        "outputId": "fcfe2731-1a48-46f5-d4eb-4d99583a3c46"
      },
      "execution_count": 19,
      "outputs": [
        {
          "output_type": "execute_result",
          "data": {
            "text/plain": [
              "[(1, 1), (2, 2), (7, 7)]"
            ]
          },
          "metadata": {},
          "execution_count": 19
        }
      ]
    },
    {
      "cell_type": "code",
      "source": [
        "# Find all of the words in a string that are less than 4 letters.\n",
        "\n",
        "sentence = 'On a summer day somner smith went simming in the sun and his red skin stung'\n",
        "list1 = [i for i in sentence.split() if len(i)<4]\n",
        "list1"
      ],
      "metadata": {
        "colab": {
          "base_uri": "https://localhost:8080/"
        },
        "id": "TRLaaM3P2YCm",
        "outputId": "c408d708-6ed1-4de3-f8e8-14f49d404768"
      },
      "execution_count": 20,
      "outputs": [
        {
          "output_type": "execute_result",
          "data": {
            "text/plain": [
              "['On', 'a', 'day', 'in', 'the', 'sun', 'and', 'his', 'red']"
            ]
          },
          "metadata": {},
          "execution_count": 20
        }
      ]
    },
    {
      "cell_type": "code",
      "source": [
        "# Use a nested list comprehension to find all of the numbers from 1-100 that are divisible by any single digit besides 1 (2-9)\n",
        "\n",
        "list1 = [i for i in range(1,101) if True in[True for d in range(2,10) if i%d == 0]]\n",
        "print(list1,end = ' ')"
      ],
      "metadata": {
        "colab": {
          "base_uri": "https://localhost:8080/"
        },
        "id": "r5lJYqeF3dMT",
        "outputId": "49734e14-c9d6-4b71-8d44-6d6fe29e79d8"
      },
      "execution_count": 21,
      "outputs": [
        {
          "output_type": "stream",
          "name": "stdout",
          "text": [
            "[2, 3, 4, 5, 6, 7, 8, 9, 10, 12, 14, 15, 16, 18, 20, 21, 22, 24, 25, 26, 27, 28, 30, 32, 33, 34, 35, 36, 38, 39, 40, 42, 44, 45, 46, 48, 49, 50, 51, 52, 54, 55, 56, 57, 58, 60, 62, 63, 64, 65, 66, 68, 69, 70, 72, 74, 75, 76, 77, 78, 80, 81, 82, 84, 85, 86, 87, 88, 90, 91, 92, 93, 94, 95, 96, 98, 99, 100] "
          ]
        }
      ]
    }
  ]
}