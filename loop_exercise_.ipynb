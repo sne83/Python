{
  "nbformat": 4,
  "nbformat_minor": 0,
  "metadata": {
    "colab": {
      "provenance": []
    },
    "kernelspec": {
      "name": "python3",
      "display_name": "Python 3"
    },
    "language_info": {
      "name": "python"
    }
  },
  "cells": [
    {
      "cell_type": "code",
      "source": [
        "# 1.Print First 10 natural numbers using while loop.\n",
        "\n",
        "i = 1\n",
        "while i<=10:\n",
        "  print(i)\n",
        "  i += 1"
      ],
      "metadata": {
        "colab": {
          "base_uri": "https://localhost:8080/"
        },
        "id": "Xu0ArWUpQbUx",
        "outputId": "6e70dd87-9c23-4541-df63-e4b33f0eb9dc"
      },
      "execution_count": null,
      "outputs": [
        {
          "output_type": "stream",
          "name": "stdout",
          "text": [
            "1\n",
            "2\n",
            "3\n",
            "4\n",
            "5\n",
            "6\n",
            "7\n",
            "8\n",
            "9\n",
            "10\n"
          ]
        }
      ]
    },
    {
      "cell_type": "code",
      "source": [
        "# 2: Print the following pattern\n",
        "'''\n",
        "1\n",
        "1 2\n",
        "1 2 3\n",
        "1 2 3 4\n",
        "1 2 3 4 5\n",
        "'''\n",
        "\n",
        "for i in range(1,6):\n",
        "  for j in range(1,i+1):\n",
        "    print(j,end=' ')\n",
        "  print('\\n')"
      ],
      "metadata": {
        "colab": {
          "base_uri": "https://localhost:8080/"
        },
        "id": "2t3tDWxKQv6Z",
        "outputId": "1a9fec7a-1a4f-4271-ba2e-2841ff0ddf07"
      },
      "execution_count": null,
      "outputs": [
        {
          "output_type": "stream",
          "name": "stdout",
          "text": [
            "1 \n",
            "\n",
            "1 2 \n",
            "\n",
            "1 2 3 \n",
            "\n",
            "1 2 3 4 \n",
            "\n",
            "1 2 3 4 5 \n",
            "\n"
          ]
        }
      ]
    },
    {
      "cell_type": "code",
      "source": [
        "# 3: Calculate the sum of all numbers from 1 to a given number\n",
        "\n",
        "n = int(input('enter number:'))\n",
        "sum = 0\n",
        "for i in range (1,n+1):\n",
        "  sum += i\n",
        "print('sum:',sum)"
      ],
      "metadata": {
        "colab": {
          "base_uri": "https://localhost:8080/"
        },
        "id": "tUDksY6QR5-M",
        "outputId": "984627bc-3d79-4c70-9252-e7333e21a09c"
      },
      "execution_count": null,
      "outputs": [
        {
          "output_type": "stream",
          "name": "stdout",
          "text": [
            "enter number:10\n",
            "sum: 55\n"
          ]
        }
      ]
    },
    {
      "cell_type": "code",
      "source": [
        "# 4: Write a program to print multiplication table of a given number\n",
        "\n",
        "num = 2\n",
        "p = 1\n",
        "for i in range (1,11):\n",
        "  p = num * i\n",
        "  print(p)\n",
        "\n"
      ],
      "metadata": {
        "colab": {
          "base_uri": "https://localhost:8080/"
        },
        "id": "RCpaiqDTS-PC",
        "outputId": "07cd1ffb-c75e-4218-f651-e5e85a852283"
      },
      "execution_count": null,
      "outputs": [
        {
          "output_type": "stream",
          "name": "stdout",
          "text": [
            "2\n",
            "4\n",
            "6\n",
            "8\n",
            "10\n",
            "12\n",
            "14\n",
            "16\n",
            "18\n",
            "20\n"
          ]
        }
      ]
    },
    {
      "cell_type": "code",
      "source": [
        "# 5: Display numbers from a list using loop\n",
        "'''The number must be divisible by five\n",
        "   If the number is greater than 150, then skip it and move to the next number\n",
        "   If the number is greater than 500, then stop the loop\n",
        "'''\n",
        "\n",
        "numbers = [12, 75, 150, 180, 145, 525, 50]\n",
        "\n",
        "for i in range(len(numbers)):\n",
        "  if i>500:\n",
        "    break\n",
        "  elif i>150:\n",
        "    continue\n",
        "  elif (i%5 == 0):\n",
        "    print(i)\n",
        "\n",
        "\n",
        "\n"
      ],
      "metadata": {
        "colab": {
          "base_uri": "https://localhost:8080/"
        },
        "id": "kXWjiixeTpdt",
        "outputId": "ecdc2776-0a4e-494e-98e9-4732f3cb5a1f"
      },
      "execution_count": null,
      "outputs": [
        {
          "output_type": "stream",
          "name": "stdout",
          "text": [
            "0\n",
            "5\n"
          ]
        }
      ]
    },
    {
      "cell_type": "code",
      "source": [
        "# 6: Count the total number of digits in a number.\n",
        "\n",
        "num = 75869\n",
        "count = 0\n",
        "while num != 0:\n",
        "  num = num // 10\n",
        "  count += 1\n",
        "print(count)"
      ],
      "metadata": {
        "colab": {
          "base_uri": "https://localhost:8080/"
        },
        "id": "hf-TrZYmIXU-",
        "outputId": "4e3b750f-ee55-4b82-dfd3-0b85138f96c2"
      },
      "execution_count": 1,
      "outputs": [
        {
          "output_type": "stream",
          "name": "stdout",
          "text": [
            "5\n"
          ]
        }
      ]
    },
    {
      "cell_type": "code",
      "source": [
        "# 7: Print the following pattern\n",
        "'''\n",
        "5 4 3 2 1\n",
        "4 3 2 1\n",
        "3 2 1\n",
        "2 1\n",
        "1\n",
        "'''\n",
        "n = 5\n",
        "k = 5\n",
        "for i in range(0,n+1):\n",
        "  for j in range(k-i,0,-1):\n",
        "    print(j,end = ' ')\n",
        "  print('\\n')\n"
      ],
      "metadata": {
        "colab": {
          "base_uri": "https://localhost:8080/"
        },
        "id": "dPdVofXvJcPB",
        "outputId": "23c8b384-4a9b-42a1-b68f-fb86b8653e00"
      },
      "execution_count": 8,
      "outputs": [
        {
          "output_type": "stream",
          "name": "stdout",
          "text": [
            "5 4 3 2 1 \n",
            "\n",
            "4 3 2 1 \n",
            "\n",
            "3 2 1 \n",
            "\n",
            "2 1 \n",
            "\n",
            "1 \n",
            "\n",
            "\n",
            "\n"
          ]
        }
      ]
    },
    {
      "cell_type": "code",
      "source": [
        "# 8: Print list in reverse order using a loop\n",
        "\n",
        "list1 = [10, 20, 30, 40, 50]\n",
        "len(list1)\n",
        "for i in range(len(list1),0,-1):\n",
        "  print(list1[i-1])"
      ],
      "metadata": {
        "colab": {
          "base_uri": "https://localhost:8080/"
        },
        "id": "RZtZGcVTMSwA",
        "outputId": "e05acf23-f8c7-4056-f668-1a5d3f1c9193"
      },
      "execution_count": 14,
      "outputs": [
        {
          "output_type": "stream",
          "name": "stdout",
          "text": [
            "50\n",
            "40\n",
            "30\n",
            "20\n",
            "10\n"
          ]
        }
      ]
    },
    {
      "cell_type": "code",
      "source": [
        "list1 = [10, 20, 30, 40, 50]\n",
        "list2 = reversed(list1)\n",
        "for i in list2:\n",
        "  print(i)"
      ],
      "metadata": {
        "colab": {
          "base_uri": "https://localhost:8080/"
        },
        "id": "5oQnf12bNNV6",
        "outputId": "23246054-cac7-4712-ee39-7c74afd14db0"
      },
      "execution_count": 15,
      "outputs": [
        {
          "output_type": "stream",
          "name": "stdout",
          "text": [
            "50\n",
            "40\n",
            "30\n",
            "20\n",
            "10\n"
          ]
        }
      ]
    },
    {
      "cell_type": "code",
      "source": [
        "# 9: Display numbers from -10 to -1 using for loop\n",
        "for i in range(-10,0,1):\n",
        "  print(i)"
      ],
      "metadata": {
        "colab": {
          "base_uri": "https://localhost:8080/"
        },
        "id": "PXwMRMcxNaBB",
        "outputId": "81beed97-ba2d-4441-8dde-974d4bb513dc"
      },
      "execution_count": 19,
      "outputs": [
        {
          "output_type": "stream",
          "name": "stdout",
          "text": [
            "-10\n",
            "-9\n",
            "-8\n",
            "-7\n",
            "-6\n",
            "-5\n",
            "-4\n",
            "-3\n",
            "-2\n",
            "-1\n"
          ]
        }
      ]
    },
    {
      "cell_type": "code",
      "source": [
        "# 10: Use else block to display a message “Done” after successful execution of for loop\n",
        "\n",
        "for i in range(5):\n",
        "  print(i)\n",
        "else:\n",
        "  print('Done!')"
      ],
      "metadata": {
        "colab": {
          "base_uri": "https://localhost:8080/"
        },
        "id": "pX-IXnGNN3IO",
        "outputId": "302521f8-ffe2-4f69-dfa4-6cef6e4254e2"
      },
      "execution_count": 21,
      "outputs": [
        {
          "output_type": "stream",
          "name": "stdout",
          "text": [
            "0\n",
            "1\n",
            "2\n",
            "3\n",
            "4\n",
            "Done!\n"
          ]
        }
      ]
    },
    {
      "cell_type": "code",
      "source": [
        "# 11: Write a program to display all prime numbers within a range\n",
        "print('All prime numbers between 25 and 50 are : ')\n",
        "for i in range(25,51):\n",
        "  if i > 1:\n",
        "    for j in range(2,i):\n",
        "      if (i % j == 0):\n",
        "        break\n",
        "    else :\n",
        "      print(i)\n",
        "\n"
      ],
      "metadata": {
        "colab": {
          "base_uri": "https://localhost:8080/"
        },
        "id": "q8S6kp7gONNt",
        "outputId": "85b0929e-e769-406c-bb7b-57f53b80b855"
      },
      "execution_count": 22,
      "outputs": [
        {
          "output_type": "stream",
          "name": "stdout",
          "text": [
            "All prime numbers between 25 and 50 are : \n",
            "29\n",
            "31\n",
            "37\n",
            "41\n",
            "43\n",
            "47\n"
          ]
        }
      ]
    },
    {
      "cell_type": "code",
      "source": [
        "# 12: Display Fibonacci series up to 10 terms\n",
        "# The next number is found by adding up the two numbers before it.\n",
        "\n",
        "num1, num2 = 0,1\n",
        "\n",
        "for i in range(10):\n",
        "  print(num1,end = ' ')\n",
        "  res = num1 + num2\n",
        "  num1 = num2\n",
        "  num2 = res\n",
        "\n"
      ],
      "metadata": {
        "colab": {
          "base_uri": "https://localhost:8080/"
        },
        "id": "-2yT__chPgA0",
        "outputId": "3dd93bb5-5fdc-434d-d007-b34b96763ed5"
      },
      "execution_count": 27,
      "outputs": [
        {
          "output_type": "stream",
          "name": "stdout",
          "text": [
            "0 1 1 2 3 5 8 13 21 34 "
          ]
        }
      ]
    },
    {
      "cell_type": "code",
      "source": [
        "# 13: Find the factorial of a given number\n",
        "\n",
        "num = 5\n",
        "factorial = 1\n",
        "if num < 0 :\n",
        "  print('Factorial does not exist for given number ')\n",
        "elif num == 0:\n",
        "  print('Factorial for 0 is 1.')\n",
        "else:\n",
        "  for i in range(1,num+1):\n",
        "    factorial *= i\n",
        "print(factorial)"
      ],
      "metadata": {
        "colab": {
          "base_uri": "https://localhost:8080/"
        },
        "id": "tnxwIhcpRNAk",
        "outputId": "8d1a268e-d911-42f4-e17a-e240782ebb4b"
      },
      "execution_count": 28,
      "outputs": [
        {
          "output_type": "stream",
          "name": "stdout",
          "text": [
            "120\n"
          ]
        }
      ]
    },
    {
      "cell_type": "code",
      "source": [
        "# 14: Reverse a given integer number\n",
        "\n",
        "n = 76542\n",
        "reverse_num = 0\n",
        "while n > 0:\n",
        "  reminder = n % 10\n",
        "  reverse_num = (reverse_num * 10) + reminder\n",
        "  n = n // 10\n",
        "print(reverse_num)\n",
        "\n"
      ],
      "metadata": {
        "colab": {
          "base_uri": "https://localhost:8080/"
        },
        "id": "OJRq3MxSSOJ9",
        "outputId": "accbd9b3-75f5-4834-ec0c-75c8bd20e4ee"
      },
      "execution_count": 33,
      "outputs": [
        {
          "output_type": "stream",
          "name": "stdout",
          "text": [
            "24567\n"
          ]
        }
      ]
    },
    {
      "cell_type": "code",
      "source": [
        "#15: Use a loop to display elements from a given list present at odd index positions\n",
        "\n",
        "my_list = [10, 20, 30, 40, 50, 60, 70, 80, 90, 100]\n",
        "print(my_list[1::2])"
      ],
      "metadata": {
        "colab": {
          "base_uri": "https://localhost:8080/"
        },
        "id": "t6ASt1Q_TsbD",
        "outputId": "0e6e1864-6eb3-4e17-a8d7-e5437cd83046"
      },
      "execution_count": 34,
      "outputs": [
        {
          "output_type": "stream",
          "name": "stdout",
          "text": [
            "[20, 40, 60, 80, 100]\n"
          ]
        }
      ]
    },
    {
      "cell_type": "code",
      "source": [
        "# 16: Calculate the cube of all numbers from 1 to a given number\n",
        "\n",
        "for i in range(1,7):\n",
        "  c = i * i * i\n",
        "  print('Cube of',i,'is:',c)"
      ],
      "metadata": {
        "colab": {
          "base_uri": "https://localhost:8080/"
        },
        "id": "nvRItFFOTsVV",
        "outputId": "ed0b74b5-d084-4b68-f246-d16e9c1b3133"
      },
      "execution_count": 35,
      "outputs": [
        {
          "output_type": "stream",
          "name": "stdout",
          "text": [
            "Cube of 1 is: 1\n",
            "Cube of 2 is: 8\n",
            "Cube of 3 is: 27\n",
            "Cube of 4 is: 64\n",
            "Cube of 5 is: 125\n",
            "Cube of 6 is: 216\n"
          ]
        }
      ]
    },
    {
      "cell_type": "code",
      "source": [
        "# 17: Find the sum of the series upto n terms.\n",
        "# For example, if n =5 the series will become 2 + 22 + 222 + 2222 + 22222 = 24690\n",
        "\n",
        "n = 5\n",
        "start = 2\n",
        "sum = 0\n",
        "for i in range(0,n):\n",
        "  print(start, end = '+')\n",
        "  sum += start\n",
        "  start = start * 10 + 2\n",
        "print('\\nsum of above series:',sum)\n",
        "\n"
      ],
      "metadata": {
        "colab": {
          "base_uri": "https://localhost:8080/"
        },
        "id": "4TZd6nlCWTMw",
        "outputId": "655b130c-ec81-4d2d-8bf8-1eb87436a3c5"
      },
      "execution_count": 40,
      "outputs": [
        {
          "output_type": "stream",
          "name": "stdout",
          "text": [
            "2+22+222+2222+22222+\n",
            "sum of above series: 24690\n"
          ]
        }
      ]
    },
    {
      "cell_type": "code",
      "source": [
        "# 18: Print the following pattern\n",
        "'''\n",
        "*\n",
        "* *\n",
        "* * *\n",
        "* * * *\n",
        "* * * * *\n",
        "* * * *\n",
        "* * *\n",
        "* *\n",
        "*\n",
        "'''\n",
        "for i in range (5):\n",
        "  for j in range(i+1):\n",
        "    print('*',end = ' ')\n",
        "  print('\\n')\n",
        "for i in range(5,0,-1):\n",
        "  for j in range(0,i-1):\n",
        "    print('*',end=' ')\n",
        "  print('\\n')\n",
        "\n"
      ],
      "metadata": {
        "colab": {
          "base_uri": "https://localhost:8080/"
        },
        "id": "SldPyOVtYZos",
        "outputId": "a96e1135-a8c8-474a-e311-de0ad0c2e143"
      },
      "execution_count": 54,
      "outputs": [
        {
          "output_type": "stream",
          "name": "stdout",
          "text": [
            "* \n",
            "\n",
            "* * \n",
            "\n",
            "* * * \n",
            "\n",
            "* * * * \n",
            "\n",
            "* * * * * \n",
            "\n",
            "* * * * \n",
            "\n",
            "* * * \n",
            "\n",
            "* * \n",
            "\n",
            "* \n",
            "\n",
            "\n",
            "\n"
          ]
        }
      ]
    },
    {
      "cell_type": "code",
      "source": [],
      "metadata": {
        "id": "U7gn8-oEa60a"
      },
      "execution_count": null,
      "outputs": []
    }
  ]
}