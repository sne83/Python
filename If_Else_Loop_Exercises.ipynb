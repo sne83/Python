{
  "nbformat": 4,
  "nbformat_minor": 0,
  "metadata": {
    "colab": {
      "provenance": []
    },
    "kernelspec": {
      "name": "python3",
      "display_name": "Python 3"
    },
    "language_info": {
      "name": "python"
    }
  },
  "cells": [
    {
      "cell_type": "code",
      "source": [
        "# 1. Write a Python program to check if a number is positive, negative, or zero.\n",
        "\n",
        "num = 10\n",
        "if (num % 2 == 0):\n",
        "  print(num,'is Positive number.')\n",
        "elif num == 0:\n",
        "  print(num,'is zero.')\n",
        "else:\n",
        "  print(num,'is negative number.')"
      ],
      "metadata": {
        "colab": {
          "base_uri": "https://localhost:8080/"
        },
        "id": "Y8vZSStI8sUR",
        "outputId": "99596d96-488d-4ff7-e9b0-9c389ed9aea4"
      },
      "execution_count": 3,
      "outputs": [
        {
          "output_type": "stream",
          "name": "stdout",
          "text": [
            "10 is Positive number.\n"
          ]
        }
      ]
    },
    {
      "cell_type": "code",
      "source": [
        "# 2. Write a Python program to check if a number is even or odd.\n",
        "\n",
        "num = 9\n",
        "if (num % 2 == 0):\n",
        "  print(num,'is even.')\n",
        "else:\n",
        "  print('number is odd')"
      ],
      "metadata": {
        "colab": {
          "base_uri": "https://localhost:8080/"
        },
        "id": "b1AmBer08vYb",
        "outputId": "113177e0-080a-4c64-88bd-74fb8b492cc6"
      },
      "execution_count": 5,
      "outputs": [
        {
          "output_type": "stream",
          "name": "stdout",
          "text": [
            "number is odd\n"
          ]
        }
      ]
    },
    {
      "cell_type": "code",
      "source": [
        "# 3. Write a Python program to check if a year is a leap year or not.\n",
        "\n",
        "def leap_check(year):\n",
        "  if (year % 4 == 0 and year % 100 != 0) or (year % 400 == 0):\n",
        "    return True\n",
        "  else:\n",
        "    return False\n",
        "year = 2024\n",
        "if leap_check(year):\n",
        "  print(year, 'is leap year.')\n",
        "else:\n",
        "  print(year,'is not a leap year.')\n",
        "\n"
      ],
      "metadata": {
        "colab": {
          "base_uri": "https://localhost:8080/"
        },
        "id": "7rIZiAFv8vU9",
        "outputId": "c894cf8a-491d-4f20-a0ee-91504672644f"
      },
      "execution_count": 8,
      "outputs": [
        {
          "output_type": "stream",
          "name": "stdout",
          "text": [
            "2024 is leap year.\n"
          ]
        }
      ]
    },
    {
      "cell_type": "code",
      "source": [
        "# 4. Write a Python program to find the maximum of three numbers using if-else.\n",
        "\n",
        "def find_max(num1,num2,num3):\n",
        "  maximum = num1\n",
        "\n",
        "  if num2 > num1:\n",
        "    maximum = num2\n",
        "\n",
        "  if num3 > maximum:\n",
        "    maximum = num3\n",
        "\n",
        "  return maximum\n",
        "\n",
        "num1 = 10\n",
        "num2 = 20\n",
        "num3 = 15\n",
        "max_number = find_max(num1, num2, num3)\n",
        "print(f'Maximum of {num1},{num2},{num3} is {max_number}')"
      ],
      "metadata": {
        "colab": {
          "base_uri": "https://localhost:8080/"
        },
        "id": "HglaDcNW8vST",
        "outputId": "1ad781e5-ad74-47d2-bc46-c0f6a7baa51a"
      },
      "execution_count": 10,
      "outputs": [
        {
          "output_type": "stream",
          "name": "stdout",
          "text": [
            "Maximum of 10,20,15 is 20\n"
          ]
        }
      ]
    },
    {
      "cell_type": "code",
      "source": [
        "# 5. Write a Python program to check if a number is prime.\n",
        "\n",
        "def prime_num(num):\n",
        "\n",
        "  if num < 2:\n",
        "    return False\n",
        "\n",
        "  for i in range(2, int(num/2)+1):\n",
        "    if num % i == 0:\n",
        "      return False\n",
        "\n",
        "  return True\n",
        "\n",
        "num = 19\n",
        "prime = prime_num(num)\n",
        "\n",
        "if prime_num(num):\n",
        "  print(num, 'is prime number')\n",
        "else:\n",
        "  print(num,'is not prime number')\n",
        "\n",
        "\n"
      ],
      "metadata": {
        "colab": {
          "base_uri": "https://localhost:8080/"
        },
        "id": "ofAbQSEa8vPv",
        "outputId": "775c8d2f-25df-40ee-a221-64c0908a827d"
      },
      "execution_count": 13,
      "outputs": [
        {
          "output_type": "stream",
          "name": "stdout",
          "text": [
            "19 is prime number\n"
          ]
        }
      ]
    },
    {
      "cell_type": "code",
      "source": [
        "# 6. Write a Python program to check if a number is divisible by both 3 and 5.\n",
        "\n",
        "def div(num):\n",
        "  if (num % 3 == 0 and num % 5 == 0):\n",
        "    print(num,'is divisible by 3 & 5.')\n",
        "  else:\n",
        "    print(num,'is not divisible by 3 & 5.')\n",
        "\n",
        "num = 15\n",
        "division = div(num)\n"
      ],
      "metadata": {
        "colab": {
          "base_uri": "https://localhost:8080/"
        },
        "id": "njaguz-o8vJ3",
        "outputId": "1a40932a-e20e-42c2-d093-d5e949784791"
      },
      "execution_count": 16,
      "outputs": [
        {
          "output_type": "stream",
          "name": "stdout",
          "text": [
            "15 is divisible by 3 & 5.\n"
          ]
        }
      ]
    },
    {
      "cell_type": "code",
      "source": [
        "# 7.Write a Python program to check if a character is a vowel or consonant.\n",
        "\n",
        "def vow_con(num):\n",
        "\n",
        "  chark = char.lower()\n",
        "  if chark in ['a','e','i','o','u']:\n",
        "    print(char,'is vowel.')\n",
        "  else:\n",
        "    print(char,'is consonant.')\n",
        "\n",
        "char = 'A'\n",
        "check = vow_con(char)\n"
      ],
      "metadata": {
        "colab": {
          "base_uri": "https://localhost:8080/"
        },
        "id": "ih_TzM9S8vCi",
        "outputId": "47fb95ec-0196-49f9-e935-aae8fbe9a316"
      },
      "execution_count": 20,
      "outputs": [
        {
          "output_type": "stream",
          "name": "stdout",
          "text": [
            "A is vowel.\n"
          ]
        }
      ]
    },
    {
      "cell_type": "code",
      "source": [
        "# 8. Write a Python program to check if a given string is a palindrome using if-else.\n",
        "\n",
        "str1 = 'DAD'\n",
        "str2 = str1[::-1]\n",
        "\n",
        "if str1 == str2:\n",
        "  print('string is palindrome.')\n",
        "else:\n",
        "  print('Not palindrome.')"
      ],
      "metadata": {
        "colab": {
          "base_uri": "https://localhost:8080/"
        },
        "id": "6ohpwkgF8u5a",
        "outputId": "58390ffa-65b9-4662-eca1-a3c3e878ad43"
      },
      "execution_count": 21,
      "outputs": [
        {
          "output_type": "stream",
          "name": "stdout",
          "text": [
            "string is palindrome.\n"
          ]
        }
      ]
    },
    {
      "cell_type": "code",
      "source": [
        "# 9. Write a Python program to determine the largest among three numbers using nested if-else.\n",
        "\n",
        "def find_max(num1,num2,num3):\n",
        "  maximum = num1\n",
        "\n",
        "  if num2 > num1:\n",
        "    maximum = num2\n",
        "\n",
        "  if num3 > maximum:\n",
        "    maximum = num3\n",
        "\n",
        "  return maximum\n",
        "\n",
        "num1 = 10\n",
        "num2 = 20\n",
        "num3 = 15\n",
        "max_number = find_max(num1, num2, num3)\n",
        "print(f'Maximum of {num1},{num2},{num3} is {max_number}')"
      ],
      "metadata": {
        "colab": {
          "base_uri": "https://localhost:8080/"
        },
        "id": "Ca-xo-ES8urW",
        "outputId": "4348ab85-3e00-4095-eb59-3617521a6d4c"
      },
      "execution_count": 22,
      "outputs": [
        {
          "output_type": "stream",
          "name": "stdout",
          "text": [
            "Maximum of 10,20,15 is 20\n"
          ]
        }
      ]
    },
    {
      "cell_type": "code",
      "source": [
        "# 10. Write a Python program to check if a triangle is equilateral, isosceles, or scalene based on its side lengths using if-else.\n",
        "\n",
        "def check_triangle_type(a, b, c):\n",
        "    if a == b == c:\n",
        "        return \"Equilateral triangle\"\n",
        "    elif a == b or a == c or b == c:\n",
        "        return \"Isosceles triangle\"\n",
        "    else:\n",
        "        return \"Scalene triangle\"\n",
        "\n",
        "# Example usage\n",
        "side_a = 5\n",
        "side_b = 5\n",
        "side_c = 5\n",
        "\n",
        "triangle_type = check_triangle_type(side_a, side_b, side_c)\n",
        "print(f\"The triangle with sides {side_a}, {side_b}, and {side_c} is a {triangle_type}.\")\n"
      ],
      "metadata": {
        "colab": {
          "base_uri": "https://localhost:8080/"
        },
        "id": "bQwEA2G28stk",
        "outputId": "3ede43e2-26a4-4885-edfe-7d228e2f8429"
      },
      "execution_count": 23,
      "outputs": [
        {
          "output_type": "stream",
          "name": "stdout",
          "text": [
            "The triangle with sides 5, 5, and 5 is a Equilateral triangle.\n"
          ]
        }
      ]
    }
  ]
}