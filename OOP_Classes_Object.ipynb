{
  "nbformat": 4,
  "nbformat_minor": 0,
  "metadata": {
    "colab": {
      "provenance": []
    },
    "kernelspec": {
      "name": "python3",
      "display_name": "Python 3"
    },
    "language_info": {
      "name": "python"
    }
  },
  "cells": [
    {
      "cell_type": "code",
      "execution_count": 2,
      "metadata": {
        "id": "qstjN1v_Cq57",
        "colab": {
          "base_uri": "https://localhost:8080/"
        },
        "outputId": "9d88d4b3-8145-48c0-f53c-53f0674af767"
      },
      "outputs": [
        {
          "output_type": "stream",
          "name": "stdout",
          "text": [
            "240 18\n"
          ]
        }
      ],
      "source": [
        "# 1: Create a Class with instance attributes\n",
        "# Write a Python program to create a Vehicle class with max_speed and mileage instance attributes.\n",
        "\n",
        "class Vehicle:\n",
        "  def __init__(self,max_speed,mileage):\n",
        "    self.max_speed = max_speed\n",
        "    self.mileage = mileage\n",
        "\n",
        "x = Vehicle(240,18)\n",
        "print(x.max_speed, x.mileage)"
      ]
    },
    {
      "cell_type": "code",
      "source": [
        "# 2: Create a Vehicle class without any variables and methods\n",
        "class Vehicle:\n",
        "  pass"
      ],
      "metadata": {
        "id": "bSujHffqqwpY"
      },
      "execution_count": 3,
      "outputs": []
    },
    {
      "cell_type": "code",
      "source": [
        "# 3: Create a child class Bus that will inherit all of the variables and methods of the Vehicle class\n",
        "\n",
        "class Vehicle:\n",
        "   def __init__(self,name,max_speed,mileage):\n",
        "    self.name = name\n",
        "    self.max_speed = max_speed\n",
        "    self.mileage = mileage\n",
        "\n",
        "class Bus(Vehicle):\n",
        "  pass\n",
        "\n",
        "school = Bus('Volvo',180,12)\n",
        "print('Bus name:',school.name,'Speed:',school.max_speed,'Mileage:',school.mileage)\n"
      ],
      "metadata": {
        "colab": {
          "base_uri": "https://localhost:8080/"
        },
        "id": "xw5bnxWUq2sN",
        "outputId": "383ec4b4-28cf-410b-a322-827670aad458"
      },
      "execution_count": 5,
      "outputs": [
        {
          "output_type": "stream",
          "name": "stdout",
          "text": [
            "Bus name: Volvo Speed: 180 Mileage: 12\n"
          ]
        }
      ]
    },
    {
      "cell_type": "code",
      "source": [
        "# 4: Class Inheritance\n",
        "# Create a Bus class that inherits from the Vehicle class. Give the capacity argument of Bus.seating_capacity() a default value of 50.\n",
        "\n",
        "class Vehicle:\n",
        "   def __init__(self,name,max_speed,mileage):\n",
        "    self.name = name\n",
        "    self.max_speed = max_speed\n",
        "    self.mileage = mileage\n",
        "\n",
        "   def seating_capacity(self,capacity):\n",
        "    return f'The seating capacity of {self.name} is {capacity} passengers.'\n",
        "\n",
        "class Bus(Vehicle):\n",
        "  def seating_capacity(self, capacity=50):\n",
        "    return super().seating_capacity(capacity = 50)\n",
        "\n",
        "school = Bus('Volvo',180,12)\n",
        "print(school.seating_capacity())"
      ],
      "metadata": {
        "colab": {
          "base_uri": "https://localhost:8080/"
        },
        "id": "wYZQoD4ssqB-",
        "outputId": "7f521bb3-aa7c-4eab-85b2-a82b797ac2d2"
      },
      "execution_count": 12,
      "outputs": [
        {
          "output_type": "stream",
          "name": "stdout",
          "text": [
            "The seating capacity of Volvo is 50 passengers.\n"
          ]
        }
      ]
    },
    {
      "cell_type": "code",
      "source": [
        "# 5: Define a property that must have the same value for every class instance (object)\n",
        "# Define a class attribute”color” with a default value white. I.e., Every Vehicle should be white.\n",
        "class Vehicle:\n",
        "    # Class attribute\n",
        "    color = \"White\"\n",
        "\n",
        "    def __init__(self, name, max_speed, mileage):\n",
        "        self.name = name\n",
        "        self.max_speed = max_speed\n",
        "        self.mileage = mileage\n",
        "\n",
        "class Bus(Vehicle):\n",
        "    pass\n",
        "\n",
        "class Car(Vehicle):\n",
        "    pass\n",
        "\n",
        "School_bus = Bus(\"School Volvo\", 180, 12)\n",
        "print(School_bus.color, School_bus.name, \"Speed:\", School_bus.max_speed, \"Mileage:\", School_bus.mileage)\n",
        "\n",
        "car = Car(\"Audi Q5\", 240, 18)\n",
        "print(car.color, car.name, \"Speed:\", car.max_speed, \"Mileage:\", car.mileage)"
      ],
      "metadata": {
        "colab": {
          "base_uri": "https://localhost:8080/"
        },
        "id": "xV4lw8j_uaC4",
        "outputId": "74e72a6a-69e2-4443-c81f-e7079bc89803"
      },
      "execution_count": 13,
      "outputs": [
        {
          "output_type": "stream",
          "name": "stdout",
          "text": [
            "White School Volvo Speed: 180 Mileage: 12\n",
            "White Audi Q5 Speed: 240 Mileage: 18\n"
          ]
        }
      ]
    },
    {
      "cell_type": "code",
      "source": [
        "# 6: Class Inheritance"
      ],
      "metadata": {
        "id": "iofGrrI5wGkx"
      },
      "execution_count": null,
      "outputs": []
    },
    {
      "cell_type": "markdown",
      "source": [
        "Create a Bus child class that inherits from the Vehicle class. The default fare charge of any vehicle is seating capacity * 100. If Vehicle is Bus instance, we need to add an extra 10% on full fare as a maintenance charge. So total fare for bus instance will become the final amount = total fare + 10% of the total fare.\n",
        "Note: The bus seating capacity is 50. so the final fare amount should be 5500. You need to override the fare() method of a Vehicle class in Bus class."
      ],
      "metadata": {
        "id": "u2q2iC1awLvP"
      }
    },
    {
      "cell_type": "code",
      "source": [
        "class Vehicle:\n",
        "    def __init__(self, name, mileage, capacity):\n",
        "        self.name = name\n",
        "        self.mileage = mileage\n",
        "        self.capacity = capacity\n",
        "\n",
        "    def fare(self):\n",
        "        return self.capacity * 100\n",
        "\n",
        "class Bus(Vehicle):\n",
        "    def fare(self):\n",
        "        amount = super().fare()\n",
        "        amount += amount * 10 / 100\n",
        "        return amount\n",
        "\n",
        "School_bus = Bus(\"School Volvo\", 12, 50)\n",
        "print(\"Total Bus fare is:\", School_bus.fare())\n"
      ],
      "metadata": {
        "colab": {
          "base_uri": "https://localhost:8080/"
        },
        "id": "Eq2-qWqfwRPk",
        "outputId": "f723ef5c-3e0b-4672-f065-7b07ca640f0c"
      },
      "execution_count": 14,
      "outputs": [
        {
          "output_type": "stream",
          "name": "stdout",
          "text": [
            "Total Bus fare is: 5500.0\n"
          ]
        }
      ]
    },
    {
      "cell_type": "code",
      "source": [
        "# 7.determine which class a given Bus object belongs to.\n",
        "class Vehicle:\n",
        "    def __init__(self, name, mileage, capacity):\n",
        "        self.name = name\n",
        "        self.mileage = mileage\n",
        "        self.capacity = capacity\n",
        "\n",
        "class Bus(Vehicle):\n",
        "    pass\n",
        "\n",
        "School_bus = Bus(\"School Volvo\", 12, 50)\n",
        "\n",
        "# Python's built-in type()\n",
        "print(type(School_bus))"
      ],
      "metadata": {
        "colab": {
          "base_uri": "https://localhost:8080/"
        },
        "id": "1-tTz10swu1G",
        "outputId": "f104ab20-86fb-4452-d3fc-774b4ec54d6f"
      },
      "execution_count": 15,
      "outputs": [
        {
          "output_type": "stream",
          "name": "stdout",
          "text": [
            "<class '__main__.Bus'>\n"
          ]
        }
      ]
    },
    {
      "cell_type": "code",
      "source": [
        "# 8: Determine if School_bus is also an instance of the Vehicle class\n",
        "class Vehicle:\n",
        "    def __init__(self, name, mileage, capacity):\n",
        "        self.name = name\n",
        "        self.mileage = mileage\n",
        "        self.capacity = capacity\n",
        "\n",
        "class Bus(Vehicle):\n",
        "    pass\n",
        "\n",
        "School_bus = Bus(\"School Volvo\", 12, 50)\n",
        "\n",
        "# Python's built-in isinstance() function\n",
        "print(isinstance(School_bus, Vehicle))"
      ],
      "metadata": {
        "colab": {
          "base_uri": "https://localhost:8080/"
        },
        "id": "w4fJcZ9bw4m5",
        "outputId": "31fb2d01-de08-47a6-eff9-d33a76c3cb31"
      },
      "execution_count": 17,
      "outputs": [
        {
          "output_type": "stream",
          "name": "stdout",
          "text": [
            "True\n"
          ]
        }
      ]
    }
  ]
}