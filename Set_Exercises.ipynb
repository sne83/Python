{
  "nbformat": 4,
  "nbformat_minor": 0,
  "metadata": {
    "colab": {
      "provenance": []
    },
    "kernelspec": {
      "name": "python3",
      "display_name": "Python 3"
    },
    "language_info": {
      "name": "python"
    }
  },
  "cells": [
    {
      "cell_type": "code",
      "source": [
        "# 1. Write a Python program to find the union of two sets.\n",
        "set1 = {1, 2, 3}\n",
        "set2 = {3, 4, 5}\n",
        "print(\"Set 1:\", set1)\n",
        "print(\"Set 2:\", set2)\n",
        "set1.union(set2)"
      ],
      "metadata": {
        "colab": {
          "base_uri": "https://localhost:8080/"
        },
        "id": "qFpLsFRvXJ4w",
        "outputId": "bdb22d6d-bb1f-4cff-db64-8e35784842cb"
      },
      "execution_count": 1,
      "outputs": [
        {
          "output_type": "stream",
          "name": "stdout",
          "text": [
            "Set 1: {1, 2, 3}\n",
            "Set 2: {3, 4, 5}\n"
          ]
        },
        {
          "output_type": "execute_result",
          "data": {
            "text/plain": [
              "{1, 2, 3, 4, 5}"
            ]
          },
          "metadata": {},
          "execution_count": 1
        }
      ]
    },
    {
      "cell_type": "code",
      "source": [
        "# 2. Write a Python program to find the intersection of two sets.\n",
        "set1 = {1, 2, 3}\n",
        "set2 = {3, 4, 5}\n",
        "print(\"Set 1:\", set1)\n",
        "print(\"Set 2:\", set2)\n",
        "set1.intersection(set2)"
      ],
      "metadata": {
        "colab": {
          "base_uri": "https://localhost:8080/"
        },
        "id": "Uk6qcboV177R",
        "outputId": "1dea1901-a88e-426f-c4d5-7c876a457c01"
      },
      "execution_count": 2,
      "outputs": [
        {
          "output_type": "stream",
          "name": "stdout",
          "text": [
            "Set 1: {1, 2, 3}\n",
            "Set 2: {3, 4, 5}\n"
          ]
        },
        {
          "output_type": "execute_result",
          "data": {
            "text/plain": [
              "{3}"
            ]
          },
          "metadata": {},
          "execution_count": 2
        }
      ]
    },
    {
      "cell_type": "code",
      "source": [
        "# 3. Write a Python program to check if a set is a subset of another set.\n",
        "set1 = {1, 2}\n",
        "set2 = {1, 2, 3, 4}\n",
        "print(\"Set 1:\", set1)\n",
        "print(\"Set 2:\", set2)\n",
        "set1.issubset(set2)\n"
      ],
      "metadata": {
        "colab": {
          "base_uri": "https://localhost:8080/"
        },
        "id": "nTQzErsr2POv",
        "outputId": "42188c77-1823-450e-e562-a703dbc25535"
      },
      "execution_count": 3,
      "outputs": [
        {
          "output_type": "stream",
          "name": "stdout",
          "text": [
            "Set 1: {1, 2}\n",
            "Set 2: {1, 2, 3, 4}\n"
          ]
        },
        {
          "output_type": "execute_result",
          "data": {
            "text/plain": [
              "True"
            ]
          },
          "metadata": {},
          "execution_count": 3
        }
      ]
    },
    {
      "cell_type": "code",
      "source": [
        "# 4. Write a Python program to remove duplicate elements from a set.\n",
        "# Create a set with duplicate elements\n",
        "my_set = {1, 2, 3, 3, 4, 4, 5}\n",
        "\n",
        "# Print the set (automatically removes duplicates)\n",
        "print(\"Original set:\", my_set)"
      ],
      "metadata": {
        "colab": {
          "base_uri": "https://localhost:8080/"
        },
        "id": "iwKq3N6n2h5N",
        "outputId": "1785e5b0-da38-4769-f571-f5475329773a"
      },
      "execution_count": 4,
      "outputs": [
        {
          "output_type": "stream",
          "name": "stdout",
          "text": [
            "Original set: {1, 2, 3, 4, 5}\n"
          ]
        }
      ]
    },
    {
      "cell_type": "code",
      "source": [
        "# 5. Write a Python program to add an element to a set.\n",
        "def add(my_set,element):\n",
        "  return my_set.add(element)\n",
        "\n",
        "my_set = {1, 2, 3}\n",
        "print(\"Original set:\", my_set)\n",
        "element = 5\n",
        "add(my_set,element)\n",
        "print('Set after adding element:',my_set)"
      ],
      "metadata": {
        "colab": {
          "base_uri": "https://localhost:8080/"
        },
        "id": "daTwP4c62ypZ",
        "outputId": "788ead2a-6ce4-4b1c-aaf3-ce3377505649"
      },
      "execution_count": 11,
      "outputs": [
        {
          "output_type": "stream",
          "name": "stdout",
          "text": [
            "Original set: {1, 2, 3}\n",
            "Set after adding element: {1, 2, 3, 5}\n"
          ]
        }
      ]
    },
    {
      "cell_type": "code",
      "source": [
        "# 6. Write a Python program to remove an element from a set.\n",
        "def e_remove(my_set,remove):\n",
        "  return my_set.discard(remove)\n",
        "my_set = {1, 2, 3, 4}\n",
        "print(\"Original set:\", my_set)\n",
        "remove = 3\n",
        "e_remove(my_set,remove)\n",
        "print('Set after removing element:',my_set)"
      ],
      "metadata": {
        "colab": {
          "base_uri": "https://localhost:8080/"
        },
        "id": "LvmK75DW3-hr",
        "outputId": "c5d1f101-707f-4243-c77a-80970754dfbc"
      },
      "execution_count": 13,
      "outputs": [
        {
          "output_type": "stream",
          "name": "stdout",
          "text": [
            "Original set: {1, 2, 3, 4}\n",
            "Set after removing element: {1, 2, 4}\n"
          ]
        }
      ]
    },
    {
      "cell_type": "code",
      "source": [
        "# 7. Write a Python program to find the difference between two sets.\n",
        "\n",
        "set1 = {1, 2, 3, 4}\n",
        "set2 = {3, 4, 5, 6}\n",
        "print(\"Set 1:\", set1)\n",
        "print(\"Set 2:\", set2)\n",
        "set1.difference(set2)"
      ],
      "metadata": {
        "colab": {
          "base_uri": "https://localhost:8080/"
        },
        "id": "ChEQ1USL4l9Y",
        "outputId": "539683a8-1f89-41f4-809e-38d9a0e1af4d"
      },
      "execution_count": 14,
      "outputs": [
        {
          "output_type": "stream",
          "name": "stdout",
          "text": [
            "Set 1: {1, 2, 3, 4}\n",
            "Set 2: {3, 4, 5, 6}\n"
          ]
        },
        {
          "output_type": "execute_result",
          "data": {
            "text/plain": [
              "{1, 2}"
            ]
          },
          "metadata": {},
          "execution_count": 14
        }
      ]
    },
    {
      "cell_type": "code",
      "source": [
        "# 8. Write a Python program to check if two sets are disjoint.\n",
        "set1 = {1, 2, 3}\n",
        "set2 = {4, 5, 6}\n",
        "print(\"Set 1:\", set1)\n",
        "print(\"Set 2:\", set2)\n",
        "set1.isdisjoint(set2)"
      ],
      "metadata": {
        "colab": {
          "base_uri": "https://localhost:8080/"
        },
        "id": "aEe0nFEZ408x",
        "outputId": "ebf962ea-c4cb-4880-9809-381930cf79b4"
      },
      "execution_count": 15,
      "outputs": [
        {
          "output_type": "stream",
          "name": "stdout",
          "text": [
            "Set 1: {1, 2, 3}\n",
            "Set 2: {4, 5, 6}\n"
          ]
        },
        {
          "output_type": "execute_result",
          "data": {
            "text/plain": [
              "True"
            ]
          },
          "metadata": {},
          "execution_count": 15
        }
      ]
    },
    {
      "cell_type": "code",
      "source": [
        "# 9. Write a Python program to find the symmetric difference between two sets.\n",
        "set1 = {1, 2, 3, 4}\n",
        "set2 = {3, 4, 5, 6}\n",
        "print(\"Set 1:\", set1)\n",
        "print(\"Set 2:\", set2)\n",
        "set1.symmetric_difference(set2)"
      ],
      "metadata": {
        "colab": {
          "base_uri": "https://localhost:8080/"
        },
        "id": "mHo1u9rV5IhM",
        "outputId": "269ef585-8941-4dbc-b6ac-5b7c9d584b79"
      },
      "execution_count": 16,
      "outputs": [
        {
          "output_type": "stream",
          "name": "stdout",
          "text": [
            "Set 1: {1, 2, 3, 4}\n",
            "Set 2: {3, 4, 5, 6}\n"
          ]
        },
        {
          "output_type": "execute_result",
          "data": {
            "text/plain": [
              "{1, 2, 5, 6}"
            ]
          },
          "metadata": {},
          "execution_count": 16
        }
      ]
    },
    {
      "cell_type": "code",
      "source": [
        "# 10. Write a Python program to check if a set is empty.\n",
        "\n",
        "def is_set_empty(set):\n",
        "    return len(set) == 0\n",
        "\n",
        "# Example usage\n",
        "empty_set = set()\n",
        "non_empty_set = {1, 2, 3}\n",
        "\n",
        "print(\"Is the set empty? :\", is_set_empty(empty_set))  # True\n",
        "print(\"Is the non-empty set empty? :\", is_set_empty(non_empty_set))  # False\n"
      ],
      "metadata": {
        "colab": {
          "base_uri": "https://localhost:8080/"
        },
        "id": "g8yM8Ihk5UM2",
        "outputId": "4ada06bd-a081-4980-fe98-2567fd130fe8"
      },
      "execution_count": 19,
      "outputs": [
        {
          "output_type": "stream",
          "name": "stdout",
          "text": [
            "Is the set empty? : True\n",
            "Is the non-empty set empty? : False\n"
          ]
        }
      ]
    }
  ]
}