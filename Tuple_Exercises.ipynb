{
  "nbformat": 4,
  "nbformat_minor": 0,
  "metadata": {
    "colab": {
      "provenance": []
    },
    "kernelspec": {
      "name": "python3",
      "display_name": "Python 3"
    },
    "language_info": {
      "name": "python"
    }
  },
  "cells": [
    {
      "cell_type": "code",
      "source": [
        "# 1. Write a Python program to find the length of a tuple.\n",
        "t1 = (10,2,40,5,8,9)\n",
        "print(len(t1))"
      ],
      "metadata": {
        "colab": {
          "base_uri": "https://localhost:8080/"
        },
        "id": "CVq6JzTy5M8J",
        "outputId": "5b4d0a24-74d2-4795-cd0b-f29212b34a57"
      },
      "execution_count": 1,
      "outputs": [
        {
          "output_type": "stream",
          "name": "stdout",
          "text": [
            "6\n"
          ]
        }
      ]
    },
    {
      "cell_type": "code",
      "source": [
        "# 2. Write a Python program to concatenate two tuples.\n",
        "\n",
        "t1 = (1,2,3,4,5)\n",
        "t2 = (6,7,8,9,10)\n",
        "t1 + t2"
      ],
      "metadata": {
        "colab": {
          "base_uri": "https://localhost:8080/"
        },
        "id": "lOq-FY8D5Xpx",
        "outputId": "73c58d50-f7ac-484b-cde0-229dbc896343"
      },
      "execution_count": 2,
      "outputs": [
        {
          "output_type": "execute_result",
          "data": {
            "text/plain": [
              "(1, 2, 3, 4, 5, 6, 7, 8, 9, 10)"
            ]
          },
          "metadata": {},
          "execution_count": 2
        }
      ]
    },
    {
      "cell_type": "code",
      "source": [
        "# 3. Write a Python program to convert a tuple to a list.\n",
        "t1 = (5,8,9,7)\n",
        "print(list(t1))"
      ],
      "metadata": {
        "colab": {
          "base_uri": "https://localhost:8080/"
        },
        "id": "dIEuDpE-5oTE",
        "outputId": "37e98e4a-ebad-4551-902c-36cd3ff040df"
      },
      "execution_count": 3,
      "outputs": [
        {
          "output_type": "stream",
          "name": "stdout",
          "text": [
            "[5, 8, 9, 7]\n"
          ]
        }
      ]
    },
    {
      "cell_type": "code",
      "source": [
        "# 4. Write a Python program to find the index of an element in a tuple.\n",
        "\n",
        "t1 = ('sneha',10,'tuple',5,7,10.5)\n",
        "t1.index(10.5)"
      ],
      "metadata": {
        "colab": {
          "base_uri": "https://localhost:8080/"
        },
        "id": "2nkkzIHR5yB9",
        "outputId": "8c4eb7f9-85c4-408f-89f1-305048603736"
      },
      "execution_count": 4,
      "outputs": [
        {
          "output_type": "execute_result",
          "data": {
            "text/plain": [
              "5"
            ]
          },
          "metadata": {},
          "execution_count": 4
        }
      ]
    },
    {
      "cell_type": "code",
      "source": [
        "# 5. Write a Python program to check if an element exists in a tuple.\n",
        "\n",
        "t1 = ('sneha',10,'tuple',5,7,10.5)\n",
        "cond = lambda n: 7 in t1\n",
        "print(cond(t1))"
      ],
      "metadata": {
        "colab": {
          "base_uri": "https://localhost:8080/"
        },
        "id": "HcAZ6pCa6IzP",
        "outputId": "5ccaba87-a046-4942-c6ab-83f0cfecc776"
      },
      "execution_count": 6,
      "outputs": [
        {
          "output_type": "stream",
          "name": "stdout",
          "text": [
            "True\n"
          ]
        }
      ]
    },
    {
      "cell_type": "code",
      "source": [
        "# 6. Write a Python program to count the number of occurrences of an element in a tuple.\n",
        "t2 = (6,66,74,55,6,2,6)\n",
        "t2.count(6)"
      ],
      "metadata": {
        "colab": {
          "base_uri": "https://localhost:8080/"
        },
        "id": "n83dJsR3TzOC",
        "outputId": "3a37f63f-5a27-4ae2-961d-0c3f18ee2b50"
      },
      "execution_count": 7,
      "outputs": [
        {
          "output_type": "execute_result",
          "data": {
            "text/plain": [
              "3"
            ]
          },
          "metadata": {},
          "execution_count": 7
        }
      ]
    },
    {
      "cell_type": "code",
      "source": [
        "# 7. Write a Python program to find the maximum and minimum elements in a tuple.\n",
        "t3 = (55,1000,1034,500,80,6,2000)\n",
        "print('Maximum number:',max(t3))\n",
        "print('Minimum number:',min(t3))"
      ],
      "metadata": {
        "colab": {
          "base_uri": "https://localhost:8080/"
        },
        "id": "-IB6f1aZUGWN",
        "outputId": "4f7c97dc-cca2-43d5-8127-fe2c6530973b"
      },
      "execution_count": 9,
      "outputs": [
        {
          "output_type": "stream",
          "name": "stdout",
          "text": [
            "Maximum number: 2000\n",
            "Minimum number: 6\n"
          ]
        }
      ]
    },
    {
      "cell_type": "code",
      "source": [
        "# 8. Write a Python program to reverse a tuple.\n",
        "t4 = ('code','pune','mumbai','oros')\n",
        "print(t4[::-1])"
      ],
      "metadata": {
        "colab": {
          "base_uri": "https://localhost:8080/"
        },
        "id": "XGYP8wNJUefw",
        "outputId": "d1a303f9-9e7e-49d9-c6b6-f69dbf9b5a34"
      },
      "execution_count": 10,
      "outputs": [
        {
          "output_type": "stream",
          "name": "stdout",
          "text": [
            "('oros', 'mumbai', 'pune', 'code')\n"
          ]
        }
      ]
    },
    {
      "cell_type": "code",
      "source": [
        "# 9. Write a Python program to check if all elements in a tuple are the same.\n",
        "\n",
        "def same(x):\n",
        "  first_element = x[0]\n",
        "  for i in x[1:]:\n",
        "    if i != first_element:\n",
        "      return False\n",
        "  return True\n",
        "tuple1 = (1, 1, 1, 1)\n",
        "print(\"Tuple 1:\", tuple1)\n",
        "print(\"All elements in Tuple 1 are the same:\", same(tuple1))\n",
        "tuple2 = (1, 2, 3, 4)\n",
        "print(\"Tuple 2:\", tuple2)\n",
        "print(\"All elements in Tuple 2 are the same:\", same(tuple2))"
      ],
      "metadata": {
        "colab": {
          "base_uri": "https://localhost:8080/"
        },
        "id": "UYonxeVaUr7V",
        "outputId": "4ba2d9e7-1590-4d6f-fced-a7f58b707469"
      },
      "execution_count": 11,
      "outputs": [
        {
          "output_type": "stream",
          "name": "stdout",
          "text": [
            "Tuple 1: (1, 1, 1, 1)\n",
            "All elements in Tuple 1 are the same: True\n",
            "Tuple 2: (1, 2, 3, 4)\n",
            "All elements in Tuple 2 are the same: False\n"
          ]
        }
      ]
    },
    {
      "cell_type": "code",
      "source": [
        "# 10. Write a Python program to create a new tuple with the elements from two existing tuples.\n",
        "\n",
        "\n",
        "tuple1 = (1, 2, 3)\n",
        "tuple2 = (4, 5, 6)\n",
        "print(\"Tuple 1:\", tuple1)\n",
        "print(\"Tuple 2:\", tuple2)\n",
        "tuple3 = tuple1 + tuple2\n",
        "print(tuple3)"
      ],
      "metadata": {
        "colab": {
          "base_uri": "https://localhost:8080/"
        },
        "id": "fMqmCsUHVz8h",
        "outputId": "606674db-0f8e-4707-dc5a-9dd765f30fa4"
      },
      "execution_count": 12,
      "outputs": [
        {
          "output_type": "stream",
          "name": "stdout",
          "text": [
            "Tuple 1: (1, 2, 3)\n",
            "Tuple 2: (4, 5, 6)\n",
            "(1, 2, 3, 4, 5, 6)\n"
          ]
        }
      ]
    }
  ]
}