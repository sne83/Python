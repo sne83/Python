{
  "nbformat": 4,
  "nbformat_minor": 0,
  "metadata": {
    "colab": {
      "provenance": []
    },
    "kernelspec": {
      "name": "python3",
      "display_name": "Python 3"
    },
    "language_info": {
      "name": "python"
    }
  },
  "cells": [
    {
      "cell_type": "code",
      "source": [
        "# 1. Write a Python program to iterate over a dictionary and print its keys and values.\n",
        "\n",
        "dict1 = {'a':1, 'b':2, 'c':3}\n",
        "print('Dictionary:',dict1)\n",
        "\n",
        "for key, value in dict1.items():\n",
        "  print(f'key:{key}, value:{value}')"
      ],
      "metadata": {
        "colab": {
          "base_uri": "https://localhost:8080/"
        },
        "id": "BIoHoU5u6Ifa",
        "outputId": "1138e36f-7dd8-447d-c70c-4468ca6d257a"
      },
      "execution_count": 6,
      "outputs": [
        {
          "output_type": "stream",
          "name": "stdout",
          "text": [
            "Dictionary: {'a': 1, 'b': 2, 'c': 3}\n",
            "key:a, value:1\n",
            "key:b, value:2\n",
            "key:c, value:3\n"
          ]
        }
      ]
    },
    {
      "cell_type": "code",
      "source": [
        "# 2. Write a Python program to check if a key exists in a dictionary.\n",
        "\n",
        "def key_exists_using_in(dictionary, key):\n",
        "    return key in dictionary\n",
        "\n",
        "my_dict = {'a': 1, 'b': 2, 'c': 3}\n",
        "print(\"Dictionary:\",my_dict)\n",
        "\n",
        "key_1 = 'a'\n",
        "print(f\"Does the key '{key_1}' exist? {key_exists_using_in(my_dict, key_1)}\")\n",
        "\n",
        "key_2 = 'd'\n",
        "print(f\"Does the key '{key_2}' exist? {key_exists_using_in(my_dict, key_2)}\")\n",
        "\n"
      ],
      "metadata": {
        "colab": {
          "base_uri": "https://localhost:8080/"
        },
        "id": "hHM5nyGD7Buw",
        "outputId": "961c71e9-ac5b-4ebe-c34d-3a769d08bd2b"
      },
      "execution_count": 11,
      "outputs": [
        {
          "output_type": "stream",
          "name": "stdout",
          "text": [
            "Dictionary: {'a': 1, 'b': 2, 'c': 3}\n",
            "Does the key 'a' exist? True\n",
            "Does the key 'd' exist? False\n"
          ]
        }
      ]
    },
    {
      "cell_type": "code",
      "source": [
        "# 3. Write a Python program to get the value associated with a key in a dictionary.\n",
        "my_dict = {'a': 1, 'b': 2, 'c': 3}\n",
        "print(\"Dictionary:\",my_dict)\n",
        "my_dict.get('b')"
      ],
      "metadata": {
        "colab": {
          "base_uri": "https://localhost:8080/"
        },
        "id": "SK6Zf7Oa8a_J",
        "outputId": "d7e5513e-3085-4e92-d349-22ccaffb49fe"
      },
      "execution_count": 12,
      "outputs": [
        {
          "output_type": "stream",
          "name": "stdout",
          "text": [
            "Dictionary: {'a': 1, 'b': 2, 'c': 3}\n"
          ]
        },
        {
          "output_type": "execute_result",
          "data": {
            "text/plain": [
              "2"
            ]
          },
          "metadata": {},
          "execution_count": 12
        }
      ]
    },
    {
      "cell_type": "code",
      "source": [
        "# 4. Write a Python program to remove a key from a dictionary.\n",
        "my_dict = {'a': 1, 'b': 2, 'c': 3}\n",
        "print(\"Dictionary:\",my_dict)\n",
        "del my_dict['c']\n",
        "print(my_dict)"
      ],
      "metadata": {
        "colab": {
          "base_uri": "https://localhost:8080/"
        },
        "id": "RzkpAs-D9Gep",
        "outputId": "6c4da1c3-5c64-44bc-88b3-956a871fcdd9"
      },
      "execution_count": 18,
      "outputs": [
        {
          "output_type": "stream",
          "name": "stdout",
          "text": [
            "Dictionary: {'a': 1, 'b': 2, 'c': 3}\n",
            "{'a': 1, 'b': 2}\n"
          ]
        }
      ]
    },
    {
      "cell_type": "code",
      "source": [
        "# 5. Write a Python program to sort a dictionary by its values.\n",
        "\n",
        "def sorting(my_dict):\n",
        "  sort1 = sorted(my_dict.items(), key = lambda x: x[1])\n",
        "  show = {k: v for k, v in sort1}\n",
        "  return show\n",
        "\n",
        "my_dict = {'b': 2, 'a': 1, 'c': 3}\n",
        "print(\"Original Dictionary:\",my_dict)\n",
        "\n",
        "sort_dict = sorting(my_dict)\n",
        "print(sort_dict)"
      ],
      "metadata": {
        "colab": {
          "base_uri": "https://localhost:8080/"
        },
        "id": "_D4je6bD98lX",
        "outputId": "3190c302-73bf-4f76-eb9b-287910eccac4"
      },
      "execution_count": 21,
      "outputs": [
        {
          "output_type": "stream",
          "name": "stdout",
          "text": [
            "Original Dictionary: {'b': 2, 'a': 1, 'c': 3}\n",
            "{'a': 1, 'b': 2, 'c': 3}\n"
          ]
        }
      ]
    },
    {
      "cell_type": "code",
      "source": [
        "# 6. Write a Python program to merge two dictionaries.\n",
        "\n",
        "def make(dict1,dict2):\n",
        "  x = dict1.copy()\n",
        "  x.update(dict2)\n",
        "  return x\n",
        "\n",
        "dict1 = {'a': 1, 'b': 2}\n",
        "dict2 = {'c': 3, 'd': 4}\n",
        "dict3 = make(dict1,dict2)\n",
        "print(dict3)\n"
      ],
      "metadata": {
        "colab": {
          "base_uri": "https://localhost:8080/"
        },
        "id": "Zz9ygEeB_Y3b",
        "outputId": "bacf006f-49ac-400d-a480-e7ba64cb58ca"
      },
      "execution_count": 31,
      "outputs": [
        {
          "output_type": "stream",
          "name": "stdout",
          "text": [
            "{'a': 1, 'b': 2, 'c': 3, 'd': 4}\n"
          ]
        }
      ]
    },
    {
      "cell_type": "code",
      "source": [
        "# 7. Write a Python program to count the frequency of each element in a dictionary.\n",
        "\n",
        "test_dict = {'ide' : 3, 'Gfg' : 3, 'code' : 2}\n",
        "\n",
        "print(\"The original dictionary : \" , str(test_dict))\n",
        "\n",
        "res=dict()\n",
        "x=list(test_dict.values())\n",
        "y=list(set(x))\n",
        "for i in y:\n",
        "    res[i]=x.count(i)\n",
        "\n",
        "print(\"The frequency dictionary : \" , str(res))\n"
      ],
      "metadata": {
        "colab": {
          "base_uri": "https://localhost:8080/"
        },
        "id": "DTZxn1KeAw3C",
        "outputId": "a468149a-afbd-4ab1-8589-ec910f636988"
      },
      "execution_count": 36,
      "outputs": [
        {
          "output_type": "stream",
          "name": "stdout",
          "text": [
            "The original dictionary :  {'ide': 3, 'Gfg': 3, 'code': 2}\n",
            "The frequency dictionary :  {2: 1, 3: 2}\n"
          ]
        }
      ]
    },
    {
      "cell_type": "code",
      "source": [
        "# 8. Write a Python program to find the length of a dictionary.\n",
        "my_dict = {'a': 1, 'b': 2, 'c': 3}\n",
        "print(\"Original Dictionary:\",my_dict)\n",
        "len(my_dict)\n"
      ],
      "metadata": {
        "colab": {
          "base_uri": "https://localhost:8080/"
        },
        "id": "I3lrHGIEBl3e",
        "outputId": "567b1fa3-5459-41d8-9371-4b686570752d"
      },
      "execution_count": 34,
      "outputs": [
        {
          "output_type": "stream",
          "name": "stdout",
          "text": [
            "Original Dictionary: {'a': 1, 'b': 2, 'c': 3}\n"
          ]
        },
        {
          "output_type": "execute_result",
          "data": {
            "text/plain": [
              "3"
            ]
          },
          "metadata": {},
          "execution_count": 34
        }
      ]
    },
    {
      "cell_type": "code",
      "source": [
        "# 9. Write a Python program to check if a dictionary is empty.\n",
        "\n",
        "empty_dict = {}\n",
        "print(bool(empty_dict))\n",
        "non_empty_dict = {'a': 1, 'b': 2}\n",
        "print(bool(non_empty_dict))\n"
      ],
      "metadata": {
        "colab": {
          "base_uri": "https://localhost:8080/"
        },
        "id": "3p72Dy_8BmXd",
        "outputId": "a58cbdd4-7ba4-4177-cb71-8604593b9376"
      },
      "execution_count": 35,
      "outputs": [
        {
          "output_type": "stream",
          "name": "stdout",
          "text": [
            "False\n",
            "True\n"
          ]
        }
      ]
    },
    {
      "cell_type": "code",
      "source": [
        "# 10. Write a Python program to find the keys with the maximum and minimum values in a dictionary.\n",
        "\n",
        "def find_key_with_max_value(dictionary):\n",
        "    if not dictionary:\n",
        "        return None\n",
        "\n",
        "    max_key = max(dictionary, key=dictionary.get)\n",
        "    return max_key\n",
        "\n",
        "def find_key_with_min_value(dictionary):\n",
        "    if not dictionary:\n",
        "        return None\n",
        "\n",
        "    min_key = min(dictionary, key=dictionary.get)\n",
        "    return min_key\n",
        "\n",
        "# Example usage\n",
        "my_dict = {'a': 10, 'b': 5, 'c': 20, 'd': 3}\n",
        "print(\"Original Dictionary:\")\n",
        "print(my_dict)\n",
        "\n",
        "max_value_key = find_key_with_max_value(my_dict)\n",
        "min_value_key = find_key_with_min_value(my_dict)\n",
        "\n",
        "print(\"Key with maximum value:\", max_value_key)\n",
        "print(\"Key with minimum value:\", min_value_key)\n"
      ],
      "metadata": {
        "colab": {
          "base_uri": "https://localhost:8080/"
        },
        "id": "JyV8sZnjBnOl",
        "outputId": "93a8a80b-933d-4b2f-aa5e-c88e03684598"
      },
      "execution_count": 37,
      "outputs": [
        {
          "output_type": "stream",
          "name": "stdout",
          "text": [
            "Original Dictionary:\n",
            "{'a': 10, 'b': 5, 'c': 20, 'd': 3}\n",
            "Key with maximum value: c\n",
            "Key with minimum value: d\n"
          ]
        }
      ]
    }
  ]
}