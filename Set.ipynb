{
  "nbformat": 4,
  "nbformat_minor": 0,
  "metadata": {
    "colab": {
      "provenance": []
    },
    "kernelspec": {
      "name": "python3",
      "display_name": "Python 3"
    },
    "language_info": {
      "name": "python"
    }
  },
  "cells": [
    {
      "cell_type": "code",
      "execution_count": 2,
      "metadata": {
        "colab": {
          "base_uri": "https://localhost:8080/"
        },
        "id": "Wvk6EbeWycut",
        "outputId": "e9a80125-084a-4b9e-8117-ef4b04809632"
      },
      "outputs": [
        {
          "output_type": "execute_result",
          "data": {
            "text/plain": [
              "{'Black', 'Blue', 'Green', 'Orange', 'Red', 'Yellow'}"
            ]
          },
          "metadata": {},
          "execution_count": 2
        }
      ],
      "source": [
        "# 1: Add a list of elements to a set\n",
        "# Given a Python list, Write a program to add all its elements into a given set.\n",
        "\n",
        "sample_set = {\"Yellow\", \"Orange\", \"Black\"}\n",
        "sample_list = [\"Blue\", \"Green\", \"Red\"]\n",
        "sample_set.update(sample_list)\n",
        "sample_set"
      ]
    },
    {
      "cell_type": "code",
      "source": [
        "#  2: Return a new set of identical items from two sets\n",
        "\n",
        "set1 = {10, 20, 30, 40, 50}\n",
        "set2 = {30, 40, 50, 60, 70}\n",
        "print(set1.intersection(set2))\n"
      ],
      "metadata": {
        "colab": {
          "base_uri": "https://localhost:8080/"
        },
        "id": "D1eL6_R8zQMv",
        "outputId": "3af65ee1-5363-4e95-8236-f46b9c1b417f"
      },
      "execution_count": 5,
      "outputs": [
        {
          "output_type": "stream",
          "name": "stdout",
          "text": [
            "{40, 50, 30}\n"
          ]
        }
      ]
    },
    {
      "cell_type": "code",
      "source": [
        "#  3: Get Only unique items from two sets\n",
        "# Write a Python program to return a new set with unique items from both sets by removing duplicates.\n",
        "\n",
        "set1 = {10, 20, 30, 40, 50}\n",
        "set2 = {30, 40, 50, 60, 70}\n",
        "print(set1.union(set2))"
      ],
      "metadata": {
        "colab": {
          "base_uri": "https://localhost:8080/"
        },
        "id": "Rpz7OSPxzyvz",
        "outputId": "212267ff-5961-48ca-fef2-3060a1b74d82"
      },
      "execution_count": 7,
      "outputs": [
        {
          "output_type": "stream",
          "name": "stdout",
          "text": [
            "{70, 40, 10, 50, 20, 60, 30}\n"
          ]
        }
      ]
    },
    {
      "cell_type": "code",
      "source": [
        "# 4: Update the first set with items that don’t exist in the second set\n",
        "# write a Python program to update the first set with items that exist only in the first set and not in the second set.\n",
        "\n",
        "set1 = {10, 20, 30}\n",
        "set2 = {20, 40, 50}\n",
        "set1.difference_update(set2)\n",
        "print(set1)"
      ],
      "metadata": {
        "colab": {
          "base_uri": "https://localhost:8080/"
        },
        "id": "1zF0HAIx0RKF",
        "outputId": "c5b89d9b-e461-4c3a-fa15-c2770bf7009f"
      },
      "execution_count": 10,
      "outputs": [
        {
          "output_type": "stream",
          "name": "stdout",
          "text": [
            "{10, 30}\n"
          ]
        }
      ]
    },
    {
      "cell_type": "code",
      "source": [
        "# 5: Remove items from the set at once\n",
        "# Write a Python program to remove items 10, 20, 30 from the following set at once.\n",
        "\n",
        "set1 = {10, 20, 30, 40, 50}\n",
        "set1.difference_update({10,20,30})\n",
        "set1"
      ],
      "metadata": {
        "colab": {
          "base_uri": "https://localhost:8080/"
        },
        "id": "X-6UDhL_0yhG",
        "outputId": "2e40aa63-8735-4feb-d83f-2bde24a454c7"
      },
      "execution_count": 12,
      "outputs": [
        {
          "output_type": "execute_result",
          "data": {
            "text/plain": [
              "{40, 50}"
            ]
          },
          "metadata": {},
          "execution_count": 12
        }
      ]
    },
    {
      "cell_type": "code",
      "source": [
        "# 6: Return a set of elements present in Set A or B, but not both\n",
        "\n",
        "set1 = {10, 20, 30, 40, 50}\n",
        "set2 = {30, 40, 50, 60, 70}\n",
        "print(set1.symmetric_difference(set2))"
      ],
      "metadata": {
        "colab": {
          "base_uri": "https://localhost:8080/"
        },
        "id": "uvKnKkSB1NtD",
        "outputId": "fe64ad8a-2d7d-4ae4-8c51-64e0dec2012d"
      },
      "execution_count": 15,
      "outputs": [
        {
          "output_type": "stream",
          "name": "stdout",
          "text": [
            "{20, 70, 10, 60}\n"
          ]
        }
      ]
    },
    {
      "cell_type": "code",
      "source": [
        "# 7: Check if two sets have any elements in common. If yes, display the common elements.\n",
        "\n",
        "set1 = {10, 20, 30, 40, 50}\n",
        "set2 = {60, 70, 80, 90, 10}\n",
        "set1 = {10, 20, 30, 40, 50}\n",
        "set2 = {60, 70, 80, 90, 10}\n",
        "\n",
        "if set1.isdisjoint(set2):\n",
        "  print(\"Two sets have no items in common\")\n",
        "else:\n",
        "  print(\"Two sets have items in common\")\n",
        "  print(set1.intersection(set2))"
      ],
      "metadata": {
        "colab": {
          "base_uri": "https://localhost:8080/"
        },
        "id": "OUU0JQcV1ruG",
        "outputId": "e646c205-af69-4039-ff4d-cab1ce090c95"
      },
      "execution_count": 16,
      "outputs": [
        {
          "output_type": "stream",
          "name": "stdout",
          "text": [
            "Two sets have items in common\n",
            "{10}\n"
          ]
        }
      ]
    },
    {
      "cell_type": "code",
      "source": [
        "# 8: Update set1 by adding items from set2, except common items\n",
        "\n",
        "set1 = {10, 20, 30, 40, 50}\n",
        "set2 = {30, 40, 50, 60, 70}\n",
        "set1.symmetric_difference_update(set2)\n",
        "set1"
      ],
      "metadata": {
        "colab": {
          "base_uri": "https://localhost:8080/"
        },
        "id": "SwrMnfpq2BwV",
        "outputId": "ea295179-e9cd-408f-b1ed-89967a39cdd2"
      },
      "execution_count": 17,
      "outputs": [
        {
          "output_type": "execute_result",
          "data": {
            "text/plain": [
              "{10, 20, 60, 70}"
            ]
          },
          "metadata": {},
          "execution_count": 17
        }
      ]
    },
    {
      "cell_type": "code",
      "source": [
        "# 9: Remove items from set1 that are not common to both set1 and set2\n",
        "\n",
        "set1 = {10, 20, 30, 40, 50}\n",
        "set2 = {30, 40, 50, 60, 70}\n",
        "set1.intersection_update(set2)\n",
        "set1"
      ],
      "metadata": {
        "colab": {
          "base_uri": "https://localhost:8080/"
        },
        "id": "dTbIaxlL2aAU",
        "outputId": "80903099-1eb0-4b2c-ad2e-09ad7e4c036c"
      },
      "execution_count": 19,
      "outputs": [
        {
          "output_type": "execute_result",
          "data": {
            "text/plain": [
              "{30, 40, 50}"
            ]
          },
          "metadata": {},
          "execution_count": 19
        }
      ]
    }
  ]
}