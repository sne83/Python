{
  "nbformat": 4,
  "nbformat_minor": 0,
  "metadata": {
    "colab": {
      "provenance": []
    },
    "kernelspec": {
      "name": "python3",
      "display_name": "Python 3"
    },
    "language_info": {
      "name": "python"
    }
  },
  "cells": [
    {
      "cell_type": "code",
      "execution_count": 1,
      "metadata": {
        "colab": {
          "base_uri": "https://localhost:8080/"
        },
        "id": "kS00b1JNPLiU",
        "outputId": "9fb2af25-51ae-4b91-8ecf-14a07630d6f4"
      },
      "outputs": [
        {
          "output_type": "stream",
          "name": "stdout",
          "text": [
            "Enter 1st number:5\n",
            "Enter 2nd number:24\n",
            "Multiplication: 120\n"
          ]
        }
      ],
      "source": [
        "# 1.accept two numbers from the user and calculate multiplication\n",
        "\n",
        "x1 = int(input('Enter 1st number:'))\n",
        "x2 = int(input('Enter 2nd number:'))\n",
        "print('Multiplication:',x1*x2)"
      ]
    },
    {
      "cell_type": "code",
      "source": [
        "# 2.print('Name', 'Is', 'James') will display Name**Is**James.\n",
        "\n",
        "print('Name','Is','James', sep = '**')"
      ],
      "metadata": {
        "colab": {
          "base_uri": "https://localhost:8080/"
        },
        "id": "qNhUs6N2Hips",
        "outputId": "6cba69d0-4d44-4fa7-d453-05cbd188ebf5"
      },
      "execution_count": 2,
      "outputs": [
        {
          "output_type": "stream",
          "name": "stdout",
          "text": [
            "Name**Is**James\n"
          ]
        }
      ]
    },
    {
      "cell_type": "code",
      "source": [
        "# 3.Convert Decimal number to octal using print() output formatting\n",
        "\n",
        "num = 8\n",
        "print('%o'%num)"
      ],
      "metadata": {
        "colab": {
          "base_uri": "https://localhost:8080/"
        },
        "id": "C2-xuKdGIeXD",
        "outputId": "15f78c24-e6f7-482a-f4e9-02985a1a1f72"
      },
      "execution_count": 3,
      "outputs": [
        {
          "output_type": "stream",
          "name": "stdout",
          "text": [
            "10\n"
          ]
        }
      ]
    },
    {
      "cell_type": "code",
      "source": [
        "# 4.Display float number with 2 decimal places using print()\n",
        "\n",
        "num = 458.541315\n",
        "print('Float number=%.2f'%num)"
      ],
      "metadata": {
        "colab": {
          "base_uri": "https://localhost:8080/"
        },
        "id": "t78wmXL3JAkA",
        "outputId": "4631200c-4278-4a23-a905-bad05b6e989f"
      },
      "execution_count": 4,
      "outputs": [
        {
          "output_type": "stream",
          "name": "stdout",
          "text": [
            "Float number=458.54\n"
          ]
        }
      ]
    },
    {
      "cell_type": "code",
      "source": [
        "# 5.Accept a list of 5 float numbers as an input from the user\n",
        "\n",
        "num = []\n",
        "for i in range(5):\n",
        "  x = float(input('Enter a number:'))\n",
        "  num.append(x)\n",
        "print(num)"
      ],
      "metadata": {
        "colab": {
          "base_uri": "https://localhost:8080/"
        },
        "id": "W-mui-n1JUS7",
        "outputId": "96714fa3-3025-4491-a1d2-9b4f79871598"
      },
      "execution_count": 7,
      "outputs": [
        {
          "output_type": "stream",
          "name": "stdout",
          "text": [
            "Enter a number:45\n",
            "Enter a number:44\n",
            "Enter a number:36\n",
            "Enter a number:85\n",
            "Enter a number:47\n",
            "[45.0, 44.0, 36.0, 85.0, 47.0]\n"
          ]
        }
      ]
    },
    {
      "cell_type": "code",
      "source": [
        "# 6: Write all content of a given file into a new file by skipping line number 5.\n",
        "\n",
        "# read test.txt\n",
        "with open(\"test.txt\", \"r\") as fp:\n",
        "    # read all lines from a file\n",
        "    lines = fp.readlines()\n",
        "\n",
        "# open new file in write mode\n",
        "with open(\"new_file.txt\", \"w\") as fp:\n",
        "    count = 0\n",
        "    # iterate each lines from a test.txt\n",
        "    for line in lines:\n",
        "        # skip 5th lines\n",
        "        if count == 4:\n",
        "            count += 1\n",
        "            continue\n",
        "        else:\n",
        "            # write current line\n",
        "            fp.write(line)\n",
        "        # in each iteration reduce the count\n",
        "        count += 1\n"
      ],
      "metadata": {
        "id": "LT_YtZUHLmq-"
      },
      "execution_count": null,
      "outputs": []
    },
    {
      "cell_type": "code",
      "source": [
        "# 7: Accept any three string from one input() call\n",
        "\n",
        "str1,str2,str3 = input('Enter three names :').split()\n",
        "print(str1)\n",
        "print(str2)\n",
        "print(str3)"
      ],
      "metadata": {
        "colab": {
          "base_uri": "https://localhost:8080/"
        },
        "id": "mtxu4fABLsZW",
        "outputId": "1db9db90-cbe1-4c41-cfdc-f6d2957182bf"
      },
      "execution_count": 12,
      "outputs": [
        {
          "output_type": "stream",
          "name": "stdout",
          "text": [
            "Enter three names :jessa kelly jhon\n",
            "jessa\n",
            "kelly\n",
            "jhon\n"
          ]
        }
      ]
    },
    {
      "cell_type": "code",
      "source": [
        "# 8: Format variables using a string.format() method.\n",
        "\n",
        "totalMoney = 1000\n",
        "quantity = 3\n",
        "price = 450\n",
        "quantity = 3\n",
        "totalMoney = 1000\n",
        "price = 450\n",
        "statement1 = \"I have {1} dollars so I can buy {0} football for {2:.2f} dollars.\"\n",
        "print(statement1.format(quantity, totalMoney, price))"
      ],
      "metadata": {
        "colab": {
          "base_uri": "https://localhost:8080/"
        },
        "id": "hQLK9jOLNFk4",
        "outputId": "e8a3415c-b54d-457f-a465-f7a4e4d77c61"
      },
      "execution_count": 13,
      "outputs": [
        {
          "output_type": "stream",
          "name": "stdout",
          "text": [
            "I have 1000 dollars so I can buy 3 football for 450.00 dollars.\n"
          ]
        }
      ]
    },
    {
      "cell_type": "code",
      "source": [
        "# 9: Check file is empty or not\n",
        "import os\n",
        "\n",
        "size = os.stat(\"test.txt\").st_size\n",
        "if size == 0:\n",
        "    print('file is empty')"
      ],
      "metadata": {
        "id": "hlD9NS11Nr_U"
      },
      "execution_count": null,
      "outputs": []
    },
    {
      "cell_type": "code",
      "source": [
        "# 10: Read line number 4 from the following file\n",
        "\n",
        "with open(\"test.txt\", \"r\") as fp:\n",
        "    # read all lines from a file\n",
        "    lines = fp.readlines()\n",
        "    # get line number 3\n",
        "    print(lines[2])"
      ],
      "metadata": {
        "id": "acBrgkqtN7jO"
      },
      "execution_count": null,
      "outputs": []
    }
  ]
}