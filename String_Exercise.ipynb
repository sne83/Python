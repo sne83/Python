{
  "nbformat": 4,
  "nbformat_minor": 0,
  "metadata": {
    "colab": {
      "provenance": []
    },
    "kernelspec": {
      "name": "python3",
      "display_name": "Python 3"
    },
    "language_info": {
      "name": "python"
    }
  },
  "cells": [
    {
      "cell_type": "code",
      "execution_count": 2,
      "metadata": {
        "colab": {
          "base_uri": "https://localhost:8080/"
        },
        "id": "l1C6-Ip0tqpo",
        "outputId": "99b7da16-db67-4651-ae19-45e50ecbdc28"
      },
      "outputs": [
        {
          "output_type": "stream",
          "name": "stdout",
          "text": [
            "original string: James\n",
            "Jms\n"
          ]
        }
      ],
      "source": [
        "# 1A: Create a string made of the first, middle and last character.\n",
        "str1 = \"James\"\n",
        "print('original string:',str1)\n",
        "res = str1[0]\n",
        "l = len(str1)\n",
        "x = int(l/2)\n",
        "res = res + str1[x]\n",
        "res = res + str1[l-1]\n",
        "\n",
        "print(res)"
      ]
    },
    {
      "cell_type": "code",
      "source": [
        "# 1B: Create a string made of the middle three characters\n",
        "def get_middle(x):\n",
        "  l = int(len(x)/2)\n",
        "  print(x[l-1:l+2])\n",
        "\n",
        "get_middle(\"JhonDipPeta\")\n",
        "get_middle(\"JaSonAy\")\n"
      ],
      "metadata": {
        "colab": {
          "base_uri": "https://localhost:8080/"
        },
        "id": "6HDI25JBuhsv",
        "outputId": "0f82a34a-5d17-4ffb-d9dc-209efecddd4e"
      },
      "execution_count": 4,
      "outputs": [
        {
          "output_type": "stream",
          "name": "stdout",
          "text": [
            "Dip\n",
            "Son\n"
          ]
        }
      ]
    },
    {
      "cell_type": "code",
      "source": [
        "# 2: Append new string in the middle of a given string\n",
        "s1 = \"Ault\"\n",
        "s2 = \"Kelly\"\n",
        "x = int(len(s1)/2)\n",
        "y = s1[0:x]\n",
        "y = y + s2\n",
        "y = y + s1[x:]\n",
        "print(y)"
      ],
      "metadata": {
        "colab": {
          "base_uri": "https://localhost:8080/"
        },
        "id": "NQzOTdzewzTx",
        "outputId": "e2ab6db7-41e1-49aa-bdb3-b5409fbcc527"
      },
      "execution_count": 6,
      "outputs": [
        {
          "output_type": "stream",
          "name": "stdout",
          "text": [
            "AuKellylt\n"
          ]
        }
      ]
    },
    {
      "cell_type": "code",
      "source": [
        "#  3: Create a new string made of the first, middle, and last characters of each input string\n",
        "s1 = \"America\"\n",
        "s2 = \"Japan\"\n",
        "\n",
        "l1 = int(len(s1)/2)\n",
        "l2 = int(len(s2)/2)\n",
        "x = s1[0]+s2[0]+s1[l1]+s2[l2]+s1[-1]+s2[-1]\n",
        "print(x)"
      ],
      "metadata": {
        "colab": {
          "base_uri": "https://localhost:8080/"
        },
        "id": "3vd6kndKyIew",
        "outputId": "5f3a7eb9-4e01-45aa-f442-9761557cf5bd"
      },
      "execution_count": 8,
      "outputs": [
        {
          "output_type": "stream",
          "name": "stdout",
          "text": [
            "AJrpan\n"
          ]
        }
      ]
    },
    {
      "cell_type": "code",
      "source": [
        "# 4: Arrange string characters such that lowercase letters should come first\n",
        "str1 = 'PyNaTive'\n",
        "lower = []\n",
        "upper = []\n",
        "for i in str1:\n",
        "    if i.islower():\n",
        "      lower.append(i)\n",
        "    else :\n",
        "      upper.append(i)\n",
        "fin = ''.join(lower + upper)\n",
        "print(fin)\n",
        "\n",
        ""
      ],
      "metadata": {
        "colab": {
          "base_uri": "https://localhost:8080/"
        },
        "id": "fsAfsqAtzXnO",
        "outputId": "2419e54e-6d7d-4f6f-b485-fd0e0d3a5b8a"
      },
      "execution_count": 16,
      "outputs": [
        {
          "output_type": "stream",
          "name": "stdout",
          "text": [
            "yaivePNT\n"
          ]
        }
      ]
    },
    {
      "cell_type": "code",
      "source": [
        "# 5: Count all letters, digits, and special symbols from a given string\n",
        "str1 = \"P@#yn26at^&i5ve\"\n",
        "d = 0\n",
        "l = 0\n",
        "sym = 0\n",
        "for i in str1:\n",
        "  if i.isdigit():\n",
        "    d+=1\n",
        "  elif i.isalpha():\n",
        "    l+=1\n",
        "  else:\n",
        "    sym+=1\n",
        "print('digit:',d)\n",
        "print('letters:',l)\n",
        "print('symbols:',sym)"
      ],
      "metadata": {
        "colab": {
          "base_uri": "https://localhost:8080/"
        },
        "id": "cmRs2yQb0qi3",
        "outputId": "494caf5c-f1ee-46d4-b6cb-1ff76a86eaa3"
      },
      "execution_count": 17,
      "outputs": [
        {
          "output_type": "stream",
          "name": "stdout",
          "text": [
            "digit: 3\n",
            "letters: 8\n",
            "symbols: 4\n"
          ]
        }
      ]
    },
    {
      "cell_type": "code",
      "source": [
        "# 6: Create a mixed String using the following rules\n",
        "\n",
        "s1 = \"Abc\"\n",
        "s2 = \"Xyz\"\n",
        "s1_length = len(s1)\n",
        "s2_length = len(s2)\n",
        "result = \"\"\n",
        "length = s1_length if s1_length > s2_length else s2_length\n",
        "s2 = s2[::-1]\n",
        "\n",
        "for i in range(length):\n",
        "  if i < s1_length:\n",
        "    print(s1[i],end = '')\n",
        "  if i < s2_length:\n",
        "    print(s2[i], end = '')\n"
      ],
      "metadata": {
        "colab": {
          "base_uri": "https://localhost:8080/"
        },
        "id": "xHbVo8L21rbQ",
        "outputId": "9926319d-3687-44d8-95a7-27fcb0f7f440"
      },
      "execution_count": 4,
      "outputs": [
        {
          "output_type": "stream",
          "name": "stdout",
          "text": [
            "AzbycX"
          ]
        }
      ]
    },
    {
      "cell_type": "code",
      "source": [
        "# 7: String characters balance Test\n",
        "# strings s1 and s2 are balanced if all the characters in the s1 are present in s2. The character’s position doesn’t matter.\n",
        "def check_balance(s1,s2):\n",
        "  flag = True\n",
        "  for char in s1:\n",
        "    if char in s2:\n",
        "      continue\n",
        "    else:\n",
        "      flag = False\n",
        "  return flag\n",
        "\n",
        "s1 = \"Yn\"\n",
        "s2 = \"PYnative\"\n",
        "flag = check_balance(s1,s2)\n",
        "print('s1 & s2 are balance:',flag)\n",
        "\n",
        "s1 = \"Ynf\"\n",
        "s2 = \"PYnative\"\n",
        "flag = check_balance(s1, s2)\n",
        "print(\"s1 and s2 are balance:\", flag)"
      ],
      "metadata": {
        "colab": {
          "base_uri": "https://localhost:8080/"
        },
        "id": "eo5A-wzMJ7QL",
        "outputId": "d72354ef-5c9a-49da-f9dc-8ce1306687ad"
      },
      "execution_count": 10,
      "outputs": [
        {
          "output_type": "stream",
          "name": "stdout",
          "text": [
            "s1 & s2 are balance: True\n",
            "s1 and s2 are balance: False\n"
          ]
        }
      ]
    },
    {
      "cell_type": "code",
      "source": [
        "# 8: Find all occurrences of a substring in a given string by ignoring the case\n",
        "\n",
        "str1 = \"Welcome to USA. usa awesome, isn't it?\"\n",
        "word = 'USA'\n",
        "str2 = str1.lower()\n",
        "print('Count of USA in str1 is ',str2.count(word.lower()))"
      ],
      "metadata": {
        "colab": {
          "base_uri": "https://localhost:8080/"
        },
        "id": "lmE9WEPFMh2U",
        "outputId": "f907d5ab-e8b8-440c-e0a6-4309fdcd0f34"
      },
      "execution_count": 13,
      "outputs": [
        {
          "output_type": "stream",
          "name": "stdout",
          "text": [
            "Count of USA in str1 is  2\n"
          ]
        }
      ]
    },
    {
      "cell_type": "code",
      "source": [
        "# 9: Calculate the sum and average of the digits present in a string\n",
        "\n",
        "str1 = \"PYnative29@#8496\"\n",
        "digit = 0\n",
        "count = 0\n",
        "for i in str1:\n",
        "  if i.isdigit():\n",
        "    digit += int(i)\n",
        "    count += 1\n",
        "\n",
        "avg = digit / count\n",
        "\n",
        "print('Sum is:',digit,'average is:',avg)\n",
        "\n",
        "\n",
        "\n"
      ],
      "metadata": {
        "colab": {
          "base_uri": "https://localhost:8080/"
        },
        "id": "ATlIflnYNfQd",
        "outputId": "d2f22ea5-4317-4aa3-bed3-9b702eb4c781"
      },
      "execution_count": 16,
      "outputs": [
        {
          "output_type": "stream",
          "name": "stdout",
          "text": [
            "Sum is: 38 average is: 6.333333333333333\n"
          ]
        }
      ]
    },
    {
      "cell_type": "code",
      "source": [
        "# 10: Write a program to count occurrences of all characters within a string\n",
        "\n",
        "str1 = \"Apple\"\n",
        "char_dict = dict()\n",
        "\n",
        "for i in str1:\n",
        "  char = str1.count(i)\n",
        "  char_dict[i]=char\n",
        "char_dict\n",
        "\n"
      ],
      "metadata": {
        "colab": {
          "base_uri": "https://localhost:8080/"
        },
        "id": "Kt6Aa7XqRonI",
        "outputId": "35649342-effd-4c06-c676-bff5d7aaf83b"
      },
      "execution_count": 18,
      "outputs": [
        {
          "output_type": "execute_result",
          "data": {
            "text/plain": [
              "{'A': 1, 'p': 2, 'l': 1, 'e': 1}"
            ]
          },
          "metadata": {},
          "execution_count": 18
        }
      ]
    },
    {
      "cell_type": "code",
      "source": [
        "# 11: Reverse a given string\n",
        "\n",
        "str1 = \"PYnative\"\n",
        "str1[::-1]"
      ],
      "metadata": {
        "colab": {
          "base_uri": "https://localhost:8080/",
          "height": 35
        },
        "id": "JwpyHDkkTNg4",
        "outputId": "963a9998-6edc-4ae5-a22f-a467813eed72"
      },
      "execution_count": 19,
      "outputs": [
        {
          "output_type": "execute_result",
          "data": {
            "text/plain": [
              "'evitanYP'"
            ],
            "application/vnd.google.colaboratory.intrinsic+json": {
              "type": "string"
            }
          },
          "metadata": {},
          "execution_count": 19
        }
      ]
    },
    {
      "cell_type": "code",
      "source": [
        "# 12: Find the last position of a given substring\n",
        "# find the last position of a substring “Emma” in a given string.\n",
        "str1 = \"Emma is a data scientist who knows Python. Emma works at google.\"\n",
        "str1.rfind('Emma')"
      ],
      "metadata": {
        "colab": {
          "base_uri": "https://localhost:8080/"
        },
        "id": "dS1ysumiTeVG",
        "outputId": "5558a5a1-2edc-45f2-ed35-ea1b1e63f5b7"
      },
      "execution_count": 21,
      "outputs": [
        {
          "output_type": "execute_result",
          "data": {
            "text/plain": [
              "43"
            ]
          },
          "metadata": {},
          "execution_count": 21
        }
      ]
    },
    {
      "cell_type": "code",
      "source": [
        "# 13: Split a string on hyphens\n",
        "str1 = 'Emma-is-a-data-scientist'\n",
        "s = str1.split('-')\n",
        "for i in s:\n",
        "  print(i)\n",
        "\n"
      ],
      "metadata": {
        "colab": {
          "base_uri": "https://localhost:8080/"
        },
        "id": "dfwkE31cYC6t",
        "outputId": "b70217c9-7dae-42d4-e5e7-1d4f53b0327e"
      },
      "execution_count": 23,
      "outputs": [
        {
          "output_type": "stream",
          "name": "stdout",
          "text": [
            "Emma\n",
            "is\n",
            "a\n",
            "data\n",
            "scientist\n"
          ]
        }
      ]
    },
    {
      "cell_type": "code",
      "source": [
        "# 14: Remove empty strings from a list of strings\n",
        "\n",
        "str_list = [\"Emma\", \"Jon\", \"\", \"Kelly\", None, \"Eric\", \"\"]\n",
        "new_str = list(filter(None,str_list))\n",
        "new_str"
      ],
      "metadata": {
        "colab": {
          "base_uri": "https://localhost:8080/"
        },
        "id": "sMosf76qZB5r",
        "outputId": "7ac1f9c2-232b-4d86-96cb-747fce88720f"
      },
      "execution_count": 27,
      "outputs": [
        {
          "output_type": "execute_result",
          "data": {
            "text/plain": [
              "['Emma', 'Jon', 'Kelly', 'Eric']"
            ]
          },
          "metadata": {},
          "execution_count": 27
        }
      ]
    },
    {
      "cell_type": "code",
      "source": [
        "# 15: Remove special symbols / punctuation from a string\n",
        "str1 = \"/*Jon is @developer & musician\"\n",
        "l = str1.strip('/*@')\n",
        "l"
      ],
      "metadata": {
        "colab": {
          "base_uri": "https://localhost:8080/",
          "height": 35
        },
        "id": "DuXpLfgdcwq4",
        "outputId": "e2efde20-9e9a-4081-96e1-08294baf5f88"
      },
      "execution_count": 28,
      "outputs": [
        {
          "output_type": "execute_result",
          "data": {
            "text/plain": [
              "'Jon is @developer & musician'"
            ],
            "application/vnd.google.colaboratory.intrinsic+json": {
              "type": "string"
            }
          },
          "metadata": {},
          "execution_count": 28
        }
      ]
    },
    {
      "cell_type": "code",
      "source": [
        "import string\n",
        "\n",
        "str1 = \"/*Jon is @developer & musician\"\n",
        "print(\"Original string is :\", str1)\n",
        "\n",
        "new_str = str1.translate(str.maketrans('', '', string.punctuation))\n",
        "\n",
        "print(\"New string is :\", new_str)"
      ],
      "metadata": {
        "colab": {
          "base_uri": "https://localhost:8080/"
        },
        "id": "SORwJhFufpgO",
        "outputId": "1b9aec82-fce1-4cc8-c3fa-70ab3ed3ec16"
      },
      "execution_count": 31,
      "outputs": [
        {
          "output_type": "stream",
          "name": "stdout",
          "text": [
            "Original string is : /*Jon is @developer & musician\n",
            "New string is : Jon is developer  musician\n"
          ]
        }
      ]
    },
    {
      "cell_type": "code",
      "source": [
        "# 16: Removal all characters from a string except integers\n",
        "\n",
        "str1 = 'I am 25 years and 10 months old'\n",
        "\n",
        "d = ''.join(i for i in str1 if i.isdigit())\n",
        "\n",
        "d"
      ],
      "metadata": {
        "colab": {
          "base_uri": "https://localhost:8080/",
          "height": 35
        },
        "id": "B2XEXWOHft1i",
        "outputId": "7950881d-6490-4349-d65b-514b65e3492f"
      },
      "execution_count": 36,
      "outputs": [
        {
          "output_type": "execute_result",
          "data": {
            "text/plain": [
              "'2510'"
            ],
            "application/vnd.google.colaboratory.intrinsic+json": {
              "type": "string"
            }
          },
          "metadata": {},
          "execution_count": 36
        }
      ]
    },
    {
      "cell_type": "code",
      "source": [
        "# 17: Find words with both alphabets and numbers\n",
        "str1 = \"Emma25 is Data scientist50 and AI Expert\"\n",
        "res = []\n",
        "l = str1.split()\n",
        "\n",
        "for i in l:\n",
        "  if any(char.isalpha() for char in i) and any(char.isdigit() for char in i):\n",
        "    res.append(i)\n",
        "\n",
        "for j in res:\n",
        "  print(j)"
      ],
      "metadata": {
        "colab": {
          "base_uri": "https://localhost:8080/"
        },
        "id": "r6iOK4JIgBVR",
        "outputId": "e07b5f00-945a-4757-d16c-a705c8bce423"
      },
      "execution_count": 41,
      "outputs": [
        {
          "output_type": "stream",
          "name": "stdout",
          "text": [
            "Emma25\n",
            "scientist50\n"
          ]
        }
      ]
    },
    {
      "cell_type": "code",
      "source": [
        "# 18: Replace each special symbol with # in the following string\n",
        "str1 = '/*Jon is @developer & musician!!'\n",
        "import string\n",
        "\n",
        "str1 = '/*Jon is @developer & musician!!'\n",
        "print(\"The original string is : \", str1)\n",
        "\n",
        "# Replace punctuations with #\n",
        "replace_char = '#'\n",
        "\n",
        "# string.punctuation to get the list of all special symbols\n",
        "for char in string.punctuation:\n",
        "    str1 = str1.replace(char, replace_char)\n",
        "\n",
        "print(\"The strings after replacement : \", str1)\n"
      ],
      "metadata": {
        "colab": {
          "base_uri": "https://localhost:8080/"
        },
        "id": "Ai0ht-vCiHsC",
        "outputId": "94c37baf-3fdd-4c49-9e47-15560d4aab1a"
      },
      "execution_count": 42,
      "outputs": [
        {
          "output_type": "stream",
          "name": "stdout",
          "text": [
            "The original string is :  /*Jon is @developer & musician!!\n",
            "The strings after replacement :  ##Jon is #developer # musician##\n"
          ]
        }
      ]
    }
  ]
}