{
  "nbformat": 4,
  "nbformat_minor": 0,
  "metadata": {
    "colab": {
      "provenance": []
    },
    "kernelspec": {
      "name": "python3",
      "display_name": "Python 3"
    },
    "language_info": {
      "name": "python"
    }
  },
  "cells": [
    {
      "cell_type": "code",
      "execution_count": null,
      "metadata": {
        "colab": {
          "base_uri": "https://localhost:8080/"
        },
        "id": "dCcYpmPXP6SQ",
        "outputId": "1470fd2e-48cf-4ef9-a121-f39983be7bb6"
      },
      "outputs": [
        {
          "output_type": "stream",
          "name": "stdout",
          "text": [
            "1\n",
            "2\n",
            "3\n",
            "4\n",
            "5\n",
            "6\n",
            "7\n",
            "8\n",
            "9\n",
            "10\n"
          ]
        }
      ],
      "source": [
        "# 1. Write a Python program to print the numbers from 1 to 10 using a while loop.\n",
        "\n",
        "num = 1\n",
        "while num < 11:\n",
        "  print(num)\n",
        "  num += 1\n"
      ]
    },
    {
      "cell_type": "code",
      "source": [
        "# 2.Python program to calculate the sum of all numbers from 1 to 100 using a while loop.\n",
        "\n",
        "sum = 0\n",
        "num = 1\n",
        "while num <= 100:\n",
        "  sum += num\n",
        "  num += 1\n",
        "print('Sum of numbers from 1 to 100:',sum)\n",
        "\n"
      ],
      "metadata": {
        "colab": {
          "base_uri": "https://localhost:8080/"
        },
        "id": "KfZwskxlQM7Y",
        "outputId": "6f7d3e78-5887-4e82-931f-c4ed7f8b2961"
      },
      "execution_count": null,
      "outputs": [
        {
          "output_type": "stream",
          "name": "stdout",
          "text": [
            "Sum of numbers from 1 to 100: 5050\n"
          ]
        }
      ]
    },
    {
      "cell_type": "code",
      "source": [
        "# 3. Write a Python program to find the factorial of a number using a while loop.\n",
        "\n",
        "def factorial(n):\n",
        "  if n < 0:\n",
        "    return 'Factorial for negative numbers not possible.'\n",
        "  elif n == 0:\n",
        "    return 1\n",
        "  else:\n",
        "    result = 1\n",
        "    while n > 0:\n",
        "      result *= n\n",
        "      n -= 1\n",
        "    return result\n",
        "num = 5\n",
        "res = factorial(num)\n",
        "print('Factorial is:',res)\n"
      ],
      "metadata": {
        "colab": {
          "base_uri": "https://localhost:8080/"
        },
        "id": "4hEZdGDHATTZ",
        "outputId": "a204d56c-6029-43ab-c5be-3c53478086c6"
      },
      "execution_count": null,
      "outputs": [
        {
          "output_type": "stream",
          "name": "stdout",
          "text": [
            "Factorial is: 120\n"
          ]
        }
      ]
    },
    {
      "cell_type": "code",
      "source": [
        "# 4. Write a Python program to print all the even numbers between 1 and 50 using a while loop.\n",
        "\n",
        "num = 2\n",
        "while num <= 50:\n",
        "  print(num, end = ' ')\n",
        "  num += 2"
      ],
      "metadata": {
        "id": "PmCBMQXhAU3f",
        "colab": {
          "base_uri": "https://localhost:8080/"
        },
        "outputId": "089670d5-4b30-4537-a0e3-7503ace1f2e9"
      },
      "execution_count": 13,
      "outputs": [
        {
          "output_type": "stream",
          "name": "stdout",
          "text": [
            "2 4 6 8 10 12 14 16 18 20 22 24 26 28 30 32 34 36 38 40 42 44 46 48 50 "
          ]
        }
      ]
    },
    {
      "cell_type": "code",
      "source": [
        "# 5. Write a Python program to iterate over a string and print each character using a while loop.\n",
        "\n",
        "str1 = 'while-loop'\n",
        "length = len(str1)\n",
        "i = 0\n",
        "while i < length:\n",
        "  print(str1[i])\n",
        "  i += 1"
      ],
      "metadata": {
        "id": "zlqVQ4rHAXPk",
        "colab": {
          "base_uri": "https://localhost:8080/"
        },
        "outputId": "6bb0509b-004c-4daf-a651-b5657cc0fb93"
      },
      "execution_count": 1,
      "outputs": [
        {
          "output_type": "stream",
          "name": "stdout",
          "text": [
            "w\n",
            "h\n",
            "i\n",
            "l\n",
            "e\n",
            "-\n",
            "l\n",
            "o\n",
            "o\n",
            "p\n"
          ]
        }
      ]
    },
    {
      "cell_type": "code",
      "source": [
        "# 6. Write a Python program to iterate over a list of tuples and print each element using a while loop.\n",
        "\n",
        "def check(tuple_list):\n",
        "  length = len(tuple_list)\n",
        "  i = 0\n",
        "  while i < length:\n",
        "    element = tuple_list[i]\n",
        "    for j in element:\n",
        "      print(j)\n",
        "    i += 1\n",
        "\n",
        "\n",
        "tuple_list = [(1, 'a'), (2, 'b', 'c'), (3, 'd', 'e', 'f')]\n",
        "check(tuple_list)\n"
      ],
      "metadata": {
        "id": "jkZF5Z9hAY3N",
        "colab": {
          "base_uri": "https://localhost:8080/"
        },
        "outputId": "d6f30a8b-20cf-490a-83ae-8aa74b451d95"
      },
      "execution_count": 14,
      "outputs": [
        {
          "output_type": "stream",
          "name": "stdout",
          "text": [
            "1\n",
            "a\n",
            "2\n",
            "b\n",
            "c\n",
            "3\n",
            "d\n",
            "e\n",
            "f\n"
          ]
        }
      ]
    },
    {
      "cell_type": "code",
      "source": [
        "# 7. Write a Python program to find the largest element in a list using a while loop.\n",
        "\n",
        "numbers = [10, 20, 5, 45, 60, 30]\n",
        "print('List:',numbers)\n",
        "largest = numbers[0]\n",
        "i = 1\n",
        "length = len(numbers)\n",
        "while i < length:\n",
        "  if numbers[i] > largest:\n",
        "    largest = numbers[i]\n",
        "  i += 1\n",
        "print('LArgest number: ', largest)\n",
        "\n"
      ],
      "metadata": {
        "id": "v18yXQslAbSW",
        "colab": {
          "base_uri": "https://localhost:8080/"
        },
        "outputId": "297b4724-04f5-4a03-884d-553d038cc59d"
      },
      "execution_count": 16,
      "outputs": [
        {
          "output_type": "stream",
          "name": "stdout",
          "text": [
            "List: [10, 20, 5, 45, 60, 30]\n",
            "LArgest number:  60\n"
          ]
        }
      ]
    },
    {
      "cell_type": "code",
      "source": [
        "# 8. Write a Python program to check if all elements in a list are even using a while loop.\n",
        "\n",
        "def func(numbers):\n",
        "  i = 0\n",
        "  length = len(numbers)\n",
        "  while i < length:\n",
        "    if numbers[i] % 2 != 0:\n",
        "      return False\n",
        "    i += 1\n",
        "\n",
        "  return True\n",
        "\n",
        "\n",
        "numbers = [2, 4, 6, 8, 10]\n",
        "result = func(numbers)\n",
        "\n",
        "if result:\n",
        "    print(\"All elements in the list are even.\")\n",
        "else:\n",
        "    print(\"Not all elements in the list are even.\")"
      ],
      "metadata": {
        "id": "OzSgdRrwAf7j",
        "colab": {
          "base_uri": "https://localhost:8080/"
        },
        "outputId": "252630de-0210-4903-c1d5-b8cbdc62029c"
      },
      "execution_count": 26,
      "outputs": [
        {
          "output_type": "stream",
          "name": "stdout",
          "text": [
            "All elements in the list are even.\n"
          ]
        }
      ]
    },
    {
      "cell_type": "code",
      "source": [
        "# 9. Write a Python program to find the common elements between two lists using a while loop.\n",
        "\n",
        "def find_common_elements(list1, list2):\n",
        "    common_elements = []\n",
        "    i = 0\n",
        "    j = 0\n",
        "\n",
        "    while i < len(list1) and j < len(list2):\n",
        "        if list1[i] == list2[j]:\n",
        "            common_elements.append(list1[i])\n",
        "            i += 1\n",
        "            j += 1\n",
        "        elif list1[i] < list2[j]:\n",
        "            i += 1\n",
        "        else:\n",
        "            j += 1\n",
        "\n",
        "    return common_elements\n",
        "\n",
        "list1 = [1, 2, 3, 4, 5]\n",
        "list2 = [3, 5, 6, 7, 8]\n",
        "common_elements = find_common_elements(list1, list2)\n",
        "\n",
        "if common_elements:\n",
        "    print(\"Common elements between the lists:\", common_elements)\n",
        "else:\n",
        "    print(\"No common elements found.\")\n"
      ],
      "metadata": {
        "id": "jgzisCriAhmz",
        "colab": {
          "base_uri": "https://localhost:8080/"
        },
        "outputId": "0777032b-f6d3-4ff8-81b8-6bb97fcb2a13"
      },
      "execution_count": 29,
      "outputs": [
        {
          "output_type": "stream",
          "name": "stdout",
          "text": [
            "Common elements between the lists: [3, 5]\n"
          ]
        }
      ]
    },
    {
      "cell_type": "code",
      "source": [
        "# 10. Write a Python program to calculate the sum of the digits of a number using a while loop.\n",
        "\n",
        "num = 5555\n",
        "sum = 0\n",
        "\n",
        "while num > 0:\n",
        "  digit = num % 10\n",
        "  sum += digit\n",
        "  num = num // 10\n",
        "\n",
        "print(sum)"
      ],
      "metadata": {
        "id": "yFuwQiHQAjy9",
        "colab": {
          "base_uri": "https://localhost:8080/"
        },
        "outputId": "dc18611f-94bd-45da-da0c-1e479164858a"
      },
      "execution_count": 28,
      "outputs": [
        {
          "output_type": "stream",
          "name": "stdout",
          "text": [
            "20\n"
          ]
        }
      ]
    }
  ]
}