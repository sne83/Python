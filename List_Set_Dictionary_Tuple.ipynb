{
  "nbformat": 4,
  "nbformat_minor": 0,
  "metadata": {
    "colab": {
      "provenance": []
    },
    "kernelspec": {
      "name": "python3",
      "display_name": "Python 3"
    },
    "language_info": {
      "name": "python"
    }
  },
  "cells": [
    {
      "cell_type": "code",
      "execution_count": null,
      "metadata": {
        "colab": {
          "base_uri": "https://localhost:8080/"
        },
        "id": "lJ0-vxjYlmXP",
        "outputId": "f021b457-7972-4965-e92e-0fcaaf1004d6"
      },
      "outputs": [
        {
          "output_type": "execute_result",
          "data": {
            "text/plain": [
              "[6, 12, 18, 4, 12, 20, 28]"
            ]
          },
          "metadata": {},
          "execution_count": 1
        }
      ],
      "source": [
        "# 1: Create a list by picking an odd-index items from the first list and even index items from the second\n",
        "l1 = [3, 6, 9, 12, 15, 18, 21]\n",
        "l2 = [4, 8, 12, 16, 20, 24, 28]\n",
        "l1_odd = l1[1::2]\n",
        "l2_even = l2[0::2]\n",
        "l1_odd + l2_even"
      ]
    },
    {
      "cell_type": "code",
      "source": [
        "# 2.remove the item present at index 4 and add it to the 2nd position and at the end of the list.\n",
        "\n",
        "list1 = [54, 44, 27, 79, 91, 41]\n",
        "l1 = list1.pop(4)\n",
        "print('List after removing item from index 4:',list1)\n",
        "list1.insert(2,l1)\n",
        "print('List after inserting it at 2nd position',list1)\n",
        "list1.append(l1)\n",
        "print('List after adding it at the end:',list1)\n"
      ],
      "metadata": {
        "id": "pRJRfIb2u-un",
        "colab": {
          "base_uri": "https://localhost:8080/"
        },
        "outputId": "54423ccc-87e6-45a0-ab22-f274a47a4fc0"
      },
      "execution_count": 7,
      "outputs": [
        {
          "output_type": "stream",
          "name": "stdout",
          "text": [
            "List after removing item from index 4: [54, 44, 27, 79, 41]\n",
            "List after inserting it at 2nd position [54, 44, 91, 27, 79, 41]\n",
            "List after adding it at the end: [54, 44, 91, 27, 79, 41, 91]\n"
          ]
        }
      ]
    },
    {
      "cell_type": "code",
      "source": [
        "#  3: Slice list into 3 equal chunks and reverse each chunk\n",
        "\n",
        "sample_list = [11, 45, 8, 23, 14, 12, 78, 45, 89]\n",
        "print('Original list:',sample_list)\n",
        "length = len(sample_list)\n",
        "chunk = int(length/3)\n",
        "start = 0\n",
        "end = chunk\n",
        "\n",
        "for i in range(3):\n",
        "  indexes = slice(start,end)\n",
        "  list_chunk = sample_list[indexes]\n",
        "  print('cunk',i,list_chunk)\n",
        "  print('Reversed:',list(reversed(list_chunk)))\n",
        "  start = end\n",
        "  end += chunk"
      ],
      "metadata": {
        "colab": {
          "base_uri": "https://localhost:8080/"
        },
        "id": "3yS4o1ctwuzY",
        "outputId": "5594a66f-b7e5-4a91-f6fe-2443fc894265"
      },
      "execution_count": 9,
      "outputs": [
        {
          "output_type": "stream",
          "name": "stdout",
          "text": [
            "Original list: [11, 45, 8, 23, 14, 12, 78, 45, 89]\n",
            "cunk 0 [11, 45, 8]\n",
            "Reversed: [8, 45, 11]\n",
            "cunk 1 [23, 14, 12]\n",
            "Reversed: [12, 14, 23]\n",
            "cunk 2 [78, 45, 89]\n",
            "Reversed: [89, 45, 78]\n"
          ]
        }
      ]
    },
    {
      "cell_type": "code",
      "source": [
        "# 4: Count the occurrence of each element from a list\n",
        "list1 = [11, 45, 8, 11, 23, 45, 23, 45, 89]\n",
        "print('List:',list1)\n",
        "count = dict()\n",
        "for i in list1:\n",
        "  if i in count:\n",
        "    count[i] += 1\n",
        "  else:\n",
        "    count[i] = 1\n",
        "print('Count',count)"
      ],
      "metadata": {
        "colab": {
          "base_uri": "https://localhost:8080/"
        },
        "id": "IrjUSxoNzGZ_",
        "outputId": "c1f34e5d-df07-465e-ccf9-c4ef47fe5046"
      },
      "execution_count": 10,
      "outputs": [
        {
          "output_type": "stream",
          "name": "stdout",
          "text": [
            "List: [11, 45, 8, 11, 23, 45, 23, 45, 89]\n",
            "Count {11: 2, 45: 3, 8: 1, 23: 2, 89: 1}\n"
          ]
        }
      ]
    },
    {
      "cell_type": "code",
      "source": [
        "# 5: Create a Python set such that it shows the element from both lists in a pair\n",
        "\n",
        "first_list = [2, 3, 4, 5, 6, 7, 8]\n",
        "second_list = [4, 9, 16, 25, 36, 49, 64]\n",
        "\n",
        "print('First:',first_list)\n",
        "print('Second:',second_list)\n",
        "new = zip(first_list,second_list)\n",
        "res = set(new)\n",
        "print(res)"
      ],
      "metadata": {
        "colab": {
          "base_uri": "https://localhost:8080/"
        },
        "id": "25QR5FawzzH0",
        "outputId": "5cdf37d3-3fa5-4cfd-d29f-fee1077a23fc"
      },
      "execution_count": 13,
      "outputs": [
        {
          "output_type": "stream",
          "name": "stdout",
          "text": [
            "First: [2, 3, 4, 5, 6, 7, 8]\n",
            "Second: [4, 9, 16, 25, 36, 49, 64]\n",
            "{(7, 49), (2, 4), (4, 16), (8, 64), (6, 36), (3, 9), (5, 25)}\n"
          ]
        }
      ]
    },
    {
      "cell_type": "code",
      "source": [
        "# 6: Find the intersection (common) of two sets and remove those elements from the first set\n",
        "\n",
        "first_set = {23, 42, 65, 57, 78, 83, 29}\n",
        "second_set = {57, 83, 29, 67, 73, 43, 48}\n",
        "s1 = first_set.intersection(second_set)\n",
        "print('Common elements:',s1)\n",
        "for i in s1:\n",
        "   first_set.remove(i)\n",
        "print(first_set)"
      ],
      "metadata": {
        "colab": {
          "base_uri": "https://localhost:8080/"
        },
        "id": "hPv1Su341i1L",
        "outputId": "aecba26d-a34b-46f9-8dc5-475a913e3d8f"
      },
      "execution_count": 17,
      "outputs": [
        {
          "output_type": "stream",
          "name": "stdout",
          "text": [
            "Common elements: {57, 83, 29}\n",
            "{65, 23, 42, 78}\n"
          ]
        }
      ]
    },
    {
      "cell_type": "code",
      "source": [
        "# 7: Check if one set is a subset or superset of another set. If found, delete all elements from that set\n",
        "\n",
        "first_set = {27, 43, 34}\n",
        "second_set = {34, 93, 22, 27, 43, 53, 48}\n",
        "\n",
        "print(\"First Set \", first_set)\n",
        "print(\"Second Set \", second_set)\n",
        "\n",
        "print(\"First set is subset of second set -\", first_set.issubset(second_set))\n",
        "print(\"Second set is subset of First set - \", second_set.issubset(first_set))\n",
        "\n",
        "print(\"First set is Super set of second set - \", first_set.issuperset(second_set))\n",
        "print(\"Second set is Super set of First set - \", second_set.issuperset(first_set))\n",
        "\n",
        "if first_set.issubset(second_set):\n",
        "    first_set.clear()\n",
        "\n",
        "if second_set.issubset(first_set):\n",
        "    second_set.clear()\n",
        "\n",
        "print(\"First Set \", first_set)\n",
        "print(\"Second Set \", second_set)"
      ],
      "metadata": {
        "colab": {
          "base_uri": "https://localhost:8080/"
        },
        "id": "mkOvqjRs24IA",
        "outputId": "accb4d2d-8a3c-47be-9b76-e3d46145bd84"
      },
      "execution_count": 18,
      "outputs": [
        {
          "output_type": "stream",
          "name": "stdout",
          "text": [
            "First Set  {27, 34, 43}\n",
            "Second Set  {48, 34, 53, 22, 27, 43, 93}\n",
            "First set is subset of second set - True\n",
            "Second set is subset of First set -  False\n",
            "First set is Super set of second set -  False\n",
            "Second set is Super set of First set -  True\n",
            "First Set  set()\n",
            "Second Set  {48, 34, 53, 22, 27, 43, 93}\n"
          ]
        }
      ]
    },
    {
      "cell_type": "code",
      "source": [
        "# 8: Iterate a given list and check if a given element exists as a key’s value in a dictionary. If not, delete it from the list\n",
        "\n",
        "roll_number = [47, 64, 69, 37, 76, 83, 95, 97]\n",
        "sample_dict = {'Jhon':47, 'Emma':69, 'Kelly':76, 'Jason':97}\n",
        "\n",
        "print(\"List:\", roll_number)\n",
        "print(\"Dictionary:\", sample_dict)\n",
        "\n",
        "roll_number[:] = (i for i in roll_number if i in sample_dict.values())\n",
        "print(roll_number)"
      ],
      "metadata": {
        "colab": {
          "base_uri": "https://localhost:8080/"
        },
        "id": "O8zpW0Pe3vuZ",
        "outputId": "c2131258-b19d-4fc4-9087-716fe7c5f586"
      },
      "execution_count": 20,
      "outputs": [
        {
          "output_type": "stream",
          "name": "stdout",
          "text": [
            "List: [47, 64, 69, 37, 76, 83, 95, 97]\n",
            "Dictionary: {'Jhon': 47, 'Emma': 69, 'Kelly': 76, 'Jason': 97}\n",
            "[47, 69, 76, 97]\n"
          ]
        }
      ]
    },
    {
      "cell_type": "code",
      "source": [
        "# 9: Get all values from the dictionary and add them to a list but don’t add duplicates\n",
        "\n",
        "speed = {'jan': 47, 'feb': 52, 'march': 47, 'April': 44, 'May': 52, 'June': 53, 'july': 54, 'Aug': 44, 'Sept': 54}\n",
        "print('Values in dict:',speed.values())\n",
        "res = list()\n",
        "for val in speed.values():\n",
        "  if val not in res:\n",
        "    res.append(val)\n",
        "print(res)"
      ],
      "metadata": {
        "colab": {
          "base_uri": "https://localhost:8080/"
        },
        "id": "tzrW89xC45rO",
        "outputId": "88e081aa-dde0-4211-89dd-e122e658a53b"
      },
      "execution_count": 22,
      "outputs": [
        {
          "output_type": "stream",
          "name": "stdout",
          "text": [
            "Values in dict: dict_values([47, 52, 47, 44, 52, 53, 54, 44, 54])\n",
            "[47, 52, 44, 53, 54]\n"
          ]
        }
      ]
    },
    {
      "cell_type": "code",
      "source": [
        "#  10: Remove duplicates from a list and create a tuple and find the minimum and maximum number\n",
        "\n",
        "sample_list = [87, 45, 41, 65, 94, 41, 99, 94]\n",
        "print(\"Original list\", sample_list)\n",
        "s = list(set(sample_list))\n",
        "print('Unique list:',s)\n",
        "a = tuple(s)\n",
        "print(a)\n",
        "print('Min:',min(a))\n",
        "print('Max:',max(a))"
      ],
      "metadata": {
        "colab": {
          "base_uri": "https://localhost:8080/"
        },
        "id": "Yt12mdig59fX",
        "outputId": "d07f5084-04ea-4434-df61-5b12afcbb2a5"
      },
      "execution_count": 30,
      "outputs": [
        {
          "output_type": "stream",
          "name": "stdout",
          "text": [
            "Original list [87, 45, 41, 65, 94, 41, 99, 94]\n",
            "Unique list: [65, 99, 41, 45, 87, 94]\n",
            "(65, 99, 41, 45, 87, 94)\n",
            "Min: 41\n",
            "Max: 99\n"
          ]
        }
      ]
    }
  ]
}