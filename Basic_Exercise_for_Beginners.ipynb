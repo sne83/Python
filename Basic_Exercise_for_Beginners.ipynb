{
  "nbformat": 4,
  "nbformat_minor": 0,
  "metadata": {
    "colab": {
      "provenance": []
    },
    "kernelspec": {
      "name": "python3",
      "display_name": "Python 3"
    },
    "language_info": {
      "name": "python"
    }
  },
  "cells": [
    {
      "cell_type": "code",
      "source": [
        "# 1. Calculate the multiplication and sum of two numbers\n",
        "# Given two integer numbers, return their product only if the product is equal to or lower than 1000. Otherwise, return their sum.\n",
        "\n",
        "def multiply_or_add(num1,num2):\n",
        "  product = num1 * num2\n",
        "\n",
        "  if product >= 1000:\n",
        "    return num1 + num2\n",
        "\n",
        "  else:\n",
        "    return product\n",
        "\n",
        "result = multiply_or_add(20,30)\n",
        "print('result is',result)\n",
        "result = multiply_or_add(40,30)\n",
        "print('result is',result)"
      ],
      "metadata": {
        "colab": {
          "base_uri": "https://localhost:8080/"
        },
        "id": "s_nzRk9KO-0L",
        "outputId": "edb14de5-16f1-43b9-b0af-1958233885d7"
      },
      "execution_count": null,
      "outputs": [
        {
          "output_type": "stream",
          "name": "stdout",
          "text": [
            "result is 600\n",
            "result is 70\n"
          ]
        }
      ]
    },
    {
      "cell_type": "code",
      "source": [
        "# 2.Print the sum of the current number and the previous number\n",
        "# Write a program to iterate the first 10 numbers, and in each iteration, print the sum of the current and previous number.\n",
        "print('Printing current and previous number sum in a range(10)')\n",
        "previous_number = 0\n",
        "\n",
        "for i in range (0,10):\n",
        "  sum = previous_number + i\n",
        "  print('Currrent number ',i,'previous number ',previous_number,'Sum is:-',sum)\n",
        "  previous_number = i\n"
      ],
      "metadata": {
        "colab": {
          "base_uri": "https://localhost:8080/"
        },
        "id": "Bv_tG6YYQY30",
        "outputId": "4d34bd67-2439-4262-f85c-e821ff180315"
      },
      "execution_count": null,
      "outputs": [
        {
          "output_type": "stream",
          "name": "stdout",
          "text": [
            "Printing current and previous number sum in a range(10)\n",
            "Currrent number  0 previous number  0 Sum is:- 0\n",
            "Currrent number  1 previous number  0 Sum is:- 1\n",
            "Currrent number  2 previous number  1 Sum is:- 3\n",
            "Currrent number  3 previous number  2 Sum is:- 5\n",
            "Currrent number  4 previous number  3 Sum is:- 7\n",
            "Currrent number  5 previous number  4 Sum is:- 9\n",
            "Currrent number  6 previous number  5 Sum is:- 11\n",
            "Currrent number  7 previous number  6 Sum is:- 13\n",
            "Currrent number  8 previous number  7 Sum is:- 15\n",
            "Currrent number  9 previous number  8 Sum is:- 17\n"
          ]
        }
      ]
    },
    {
      "cell_type": "code",
      "source": [
        "# 3: Print characters from a string that are present at an even index number\n",
        "# Write a program to accept a string from the user and display characters that are present at an even index number.\n",
        "\n",
        "s = input('Enter a string:-')\n",
        "len(s)\n",
        "for i in range (0,7,2):\n",
        "  print(s[i])\n"
      ],
      "metadata": {
        "colab": {
          "base_uri": "https://localhost:8080/"
        },
        "id": "-y7Buh-WkrSq",
        "outputId": "201d5f5a-c9ad-48c8-baef-3a3a1b7c7f2f"
      },
      "execution_count": null,
      "outputs": [
        {
          "output_type": "stream",
          "name": "stdout",
          "text": [
            "Enter a string:-pynative\n",
            "p\n",
            "n\n",
            "t\n",
            "v\n"
          ]
        }
      ]
    },
    {
      "cell_type": "code",
      "source": [
        "# 4: Remove first n characters from a string\n",
        "# Write a program to remove characters from a string starting from zero up to n and return a new string.\n",
        "\n",
        "s = \"pynative\"\n",
        "s[4:]"
      ],
      "metadata": {
        "colab": {
          "base_uri": "https://localhost:8080/",
          "height": 35
        },
        "id": "GwuYWuOEmktb",
        "outputId": "63387d87-c6b1-49d7-e608-c496f014f0e0"
      },
      "execution_count": null,
      "outputs": [
        {
          "output_type": "execute_result",
          "data": {
            "text/plain": [
              "'tive'"
            ],
            "application/vnd.google.colaboratory.intrinsic+json": {
              "type": "string"
            }
          },
          "metadata": {},
          "execution_count": 12
        }
      ]
    },
    {
      "cell_type": "code",
      "source": [
        "print('Remove first n characters from a string')\n",
        "\n",
        "def remov_char(word,n):\n",
        "  print('original:',word)\n",
        "  x = word[n:]\n",
        "  return x\n",
        "\n",
        "\n",
        "print(remov_char(\"pynative\",4))\n"
      ],
      "metadata": {
        "colab": {
          "base_uri": "https://localhost:8080/"
        },
        "id": "KiRYgT4GoT9w",
        "outputId": "110371da-efc8-4021-f264-6c60321ec221"
      },
      "execution_count": null,
      "outputs": [
        {
          "output_type": "stream",
          "name": "stdout",
          "text": [
            "Remove first n characters from a string\n",
            "original: pynative\n",
            "tive\n"
          ]
        }
      ]
    },
    {
      "cell_type": "code",
      "source": [
        "# 5: Check if the first and last number of a list is the same.\n",
        "# Write a function to return True if the first and last number of a given list is same. If numbers are different then return False.\n",
        "\n",
        "numb_x = [10, 20, 30, 40, 10]\n",
        "numb_y = [75, 65, 35, 75, 30]\n",
        "\n",
        "def same(x):\n",
        " first_num = x[0]\n",
        " last_num = x[-1]\n",
        "\n",
        " if first_num == last_num:\n",
        "  return True\n",
        " else:\n",
        "  return False\n",
        "\n",
        "\n",
        "\n",
        "print('First list:-',numb_x)\n",
        "print('second list:-',numb_y)\n",
        "print('Result is:',same(numb_x))\n",
        "print('Result is:',same(numb_y))\n",
        "\n"
      ],
      "metadata": {
        "colab": {
          "base_uri": "https://localhost:8080/"
        },
        "id": "4PIqD7stpJXM",
        "outputId": "c5c8dca4-7e86-4613-9cac-1ee1f93c730d"
      },
      "execution_count": null,
      "outputs": [
        {
          "output_type": "stream",
          "name": "stdout",
          "text": [
            "First list:- [10, 20, 30, 40, 10]\n",
            "second list:- [75, 65, 35, 75, 30]\n",
            "Result is: True\n",
            "Result is: False\n"
          ]
        }
      ]
    },
    {
      "cell_type": "code",
      "source": [
        "# 6: Display numbers divisible by 5 from a list\n",
        "# Iterate the given list of numbers and print only those numbers which are divisible by 5\n",
        "\n",
        "x = [10, 20, 33, 46, 55]\n",
        "\n",
        "for i in x:\n",
        "  if (i%5 == 0):\n",
        "    print(i)\n",
        "\n",
        "print('Numbers divisible by 5:-',y)"
      ],
      "metadata": {
        "colab": {
          "base_uri": "https://localhost:8080/"
        },
        "id": "5DSA1tAnsZj5",
        "outputId": "4ae9bcbd-28b4-4ff8-91d6-d991eb0224ec"
      },
      "execution_count": null,
      "outputs": [
        {
          "output_type": "stream",
          "name": "stdout",
          "text": [
            "10\n",
            "20\n",
            "55\n",
            "Numbers divisible by 5:- [10, 20, 55] "
          ]
        }
      ]
    },
    {
      "cell_type": "code",
      "source": [
        "# 7: Return the count of a given substring from a string\n",
        "# Write a program to find how many times substring “Emma” appears in the given string.\n",
        "\n",
        "str_x = \"Emma is good developer. Emma is a writer\"\n",
        "\n",
        "x = str_x.split()\n",
        "print(x)\n",
        "count = 0\n",
        "\n",
        "for i in x:\n",
        "  if i == 'Emma':\n",
        "    count +=1\n",
        "\n",
        "print('Emma appeared',count,'times in the list.')"
      ],
      "metadata": {
        "colab": {
          "base_uri": "https://localhost:8080/"
        },
        "id": "kRBmp_sXtjxJ",
        "outputId": "8c917474-1f73-4ebf-fec5-b657a57c5fd7"
      },
      "execution_count": null,
      "outputs": [
        {
          "output_type": "stream",
          "name": "stdout",
          "text": [
            "['Emma', 'is', 'good', 'developer.', 'Emma', 'is', 'a', 'writer']\n",
            "Emma appeared 2  times in the list.\n"
          ]
        }
      ]
    },
    {
      "cell_type": "code",
      "source": [
        "str_x = \"Emma is good developer. Emma is a writer\"\n",
        "print(str_x)\n",
        "c = str_x.count('Emma')\n",
        "print('Emma appeared',c,'times in the list.')"
      ],
      "metadata": {
        "colab": {
          "base_uri": "https://localhost:8080/"
        },
        "id": "wDP4u4RQud6A",
        "outputId": "cddb9fa2-6622-4148-9a56-ec7da356dbd9"
      },
      "execution_count": null,
      "outputs": [
        {
          "output_type": "stream",
          "name": "stdout",
          "text": [
            "Emma is good developer. Emma is a writer\n",
            "Emma appeared 2 times in the list.\n"
          ]
        }
      ]
    },
    {
      "cell_type": "code",
      "source": [
        "# 8. Print the following pattern\n",
        "'''1\n",
        "   2 2\n",
        "   3 3 3\n",
        "   4 4 4 4\n",
        "   5 5 5 5 5\n",
        "'''\n",
        "\n",
        "for i in range(5):\n",
        "  for num in range(i):\n",
        "    print(i, end=' ')\n",
        "  print('\\n')\n",
        "\n"
      ],
      "metadata": {
        "colab": {
          "base_uri": "https://localhost:8080/"
        },
        "id": "y79klNP7u_5Z",
        "outputId": "00271294-7629-4917-d88d-0136d3d73be2"
      },
      "execution_count": null,
      "outputs": [
        {
          "output_type": "stream",
          "name": "stdout",
          "text": [
            "\n",
            "\n",
            "1 \n",
            "\n",
            "2 2 \n",
            "\n",
            "3 3 3 \n",
            "\n",
            "4 4 4 4 \n",
            "\n"
          ]
        }
      ]
    },
    {
      "cell_type": "code",
      "source": [
        "# 9: Check Palindrome Number\n",
        "# Write a program to check if the given number is a palindrome number.\n",
        "n = input('Enter a number:')\n",
        "m = n[::-1]\n",
        "if n==m:\n",
        "  print(n,'is Palindrome.')\n",
        "else:\n",
        "  print(n,'is not Palindrome.')\n"
      ],
      "metadata": {
        "id": "-4L3yGQOBHL5",
        "colab": {
          "base_uri": "https://localhost:8080/"
        },
        "outputId": "fa85e8f1-3ab2-4639-d71d-2013428bbee3"
      },
      "execution_count": 43,
      "outputs": [
        {
          "output_type": "stream",
          "name": "stdout",
          "text": [
            "Enter a number:522\n",
            "522 is not Palindrome.\n"
          ]
        }
      ]
    },
    {
      "cell_type": "code",
      "source": [
        "# 10: Create a new list from two list using the following condition.\n",
        "# Given two list of numbers, write a program to create a new list such that the new list should contain odd numbers from the first list and even numbers from the second list.\n",
        "\n",
        "list1 = [10, 20, 25, 30, 35]\n",
        "list2 = [40, 45, 60, 75, 90]\n",
        "odd = list(filter(lambda num : num%2 != 0,list1))\n",
        "even = list(filter(lambda num : num%2 == 0,list2))\n",
        "print(odd+even)"
      ],
      "metadata": {
        "colab": {
          "base_uri": "https://localhost:8080/"
        },
        "id": "IkOUWKH9DzQm",
        "outputId": "a7e62762-b66a-407b-d291-3e48b1de2da9"
      },
      "execution_count": 47,
      "outputs": [
        {
          "output_type": "stream",
          "name": "stdout",
          "text": [
            "[25, 35, 40, 60, 90]\n"
          ]
        }
      ]
    },
    {
      "cell_type": "code",
      "source": [
        "# 11: Write a Program to extract each digit from an integer in the reverse order.\n",
        "# For example, If the given int is 7536, the output shall be “6 3 5 7“, with a space separating the digits.\n",
        "\n",
        "x = 7536\n",
        "print('Given number is:',x)\n",
        "\n",
        "while x > 0:\n",
        "  digit = x % 10\n",
        "  x = x // 10\n",
        "  print(digit,end=' ')\n"
      ],
      "metadata": {
        "colab": {
          "base_uri": "https://localhost:8080/"
        },
        "id": "K1XVVHVfGe7O",
        "outputId": "4ecd2baf-8953-466e-842e-a6d2893e7828"
      },
      "execution_count": 52,
      "outputs": [
        {
          "output_type": "stream",
          "name": "stdout",
          "text": [
            "Given number is: 7536\n",
            "6 3 5 7 "
          ]
        }
      ]
    },
    {
      "cell_type": "code",
      "source": [
        "# 12: Calculate income tax for the given income by adhering to the rules below"
      ],
      "metadata": {
        "id": "jVdxxXnJIb7G"
      },
      "execution_count": null,
      "outputs": []
    },
    {
      "cell_type": "code",
      "source": [
        "# 13: Print multiplication table from 1 to 10\n",
        "\n",
        "for i in range (1,11):\n",
        "  for j in range (1,11):\n",
        "    print(i*j, end = ' ' )\n",
        "  print('\\t\\t')\n",
        "\n"
      ],
      "metadata": {
        "colab": {
          "base_uri": "https://localhost:8080/"
        },
        "id": "E5wX5ydgIvkX",
        "outputId": "328fcc04-fe87-4e3b-88e9-b1e96b3c0371"
      },
      "execution_count": 63,
      "outputs": [
        {
          "output_type": "stream",
          "name": "stdout",
          "text": [
            "1 2 3 4 5 6 7 8 9 10 \t\t\n",
            "2 4 6 8 10 12 14 16 18 20 \t\t\n",
            "3 6 9 12 15 18 21 24 27 30 \t\t\n",
            "4 8 12 16 20 24 28 32 36 40 \t\t\n",
            "5 10 15 20 25 30 35 40 45 50 \t\t\n",
            "6 12 18 24 30 36 42 48 54 60 \t\t\n",
            "7 14 21 28 35 42 49 56 63 70 \t\t\n",
            "8 16 24 32 40 48 56 64 72 80 \t\t\n",
            "9 18 27 36 45 54 63 72 81 90 \t\t\n",
            "10 20 30 40 50 60 70 80 90 100 \t\t\n"
          ]
        }
      ]
    },
    {
      "cell_type": "code",
      "source": [
        "# 14.\n",
        "''' * * * * *\n",
        "    * * * *\n",
        "    * * *\n",
        "    * *\n",
        "    *\n",
        "      '''\n",
        "\n",
        "for i in range(6,0,-1):\n",
        "  for j in range(0,i-1):\n",
        "    print('*',end = ' ')\n",
        "  print('\\n')"
      ],
      "metadata": {
        "colab": {
          "base_uri": "https://localhost:8080/"
        },
        "id": "a0emKDsBK5JT",
        "outputId": "a5623997-0088-4c2e-a18e-28d9587e5986"
      },
      "execution_count": 72,
      "outputs": [
        {
          "output_type": "stream",
          "name": "stdout",
          "text": [
            "* * * * * \n",
            "\n",
            "* * * * \n",
            "\n",
            "* * * \n",
            "\n",
            "* * \n",
            "\n",
            "* \n",
            "\n",
            "\n",
            "\n"
          ]
        }
      ]
    },
    {
      "cell_type": "code",
      "source": [
        "#  15: Write a function called exponent(base, exp) that returns an int value of base raises to the power of exp.\n",
        "# Note here exp is a non-negative integer, and the base is an integer.\n",
        "\n",
        "def exponent(base,exp):\n",
        "  return (base ** exp)\n",
        "\n",
        "print(exponent(5,4))"
      ],
      "metadata": {
        "colab": {
          "base_uri": "https://localhost:8080/"
        },
        "id": "9yAnqEnNMqAQ",
        "outputId": "d50914d7-63a5-40f8-d5ae-9735673783b6"
      },
      "execution_count": 74,
      "outputs": [
        {
          "output_type": "stream",
          "name": "stdout",
          "text": [
            "625\n"
          ]
        }
      ]
    }
  ]
}