{
  "nbformat": 4,
  "nbformat_minor": 0,
  "metadata": {
    "colab": {
      "provenance": []
    },
    "kernelspec": {
      "name": "python3",
      "display_name": "Python 3"
    },
    "language_info": {
      "name": "python"
    }
  },
  "cells": [
    {
      "cell_type": "code",
      "source": [
        "# 1. Write a Python program to iterate over a range of numbers and print them.\n",
        "\n",
        "numbers = [i for i in range(10)]\n",
        "numbers"
      ],
      "metadata": {
        "colab": {
          "base_uri": "https://localhost:8080/"
        },
        "id": "rzgFB1ZncZjO",
        "outputId": "7e621f81-56aa-4dd3-e3a3-64480c5432fb"
      },
      "execution_count": 6,
      "outputs": [
        {
          "output_type": "execute_result",
          "data": {
            "text/plain": [
              "[0, 1, 2, 3, 4, 5, 6, 7, 8, 9]"
            ]
          },
          "metadata": {},
          "execution_count": 6
        }
      ]
    },
    {
      "cell_type": "code",
      "source": [
        "# 2. Write a Python program to find the sum of all numbers in a range.\n",
        "\n",
        "sum = 0\n",
        "for i in range(11):\n",
        "  sum += i\n",
        "print(sum)\n",
        ""
      ],
      "metadata": {
        "colab": {
          "base_uri": "https://localhost:8080/"
        },
        "id": "MCyISGhrdk1P",
        "outputId": "2aa683e2-8b8b-4ff2-dab9-fe0c94103522"
      },
      "execution_count": 4,
      "outputs": [
        {
          "output_type": "stream",
          "name": "stdout",
          "text": [
            "55\n"
          ]
        }
      ]
    },
    {
      "cell_type": "code",
      "source": [
        "# 3. Write a Python program to print all even numbers in a given range.\n",
        "\n",
        "even = [i for i in range(11) if (i%2==0)]\n",
        "even"
      ],
      "metadata": {
        "colab": {
          "base_uri": "https://localhost:8080/"
        },
        "id": "cqdkAgUKftAi",
        "outputId": "9d3f2c81-25c7-40b2-cb52-aa597a6f8015"
      },
      "execution_count": 7,
      "outputs": [
        {
          "output_type": "execute_result",
          "data": {
            "text/plain": [
              "[0, 2, 4, 6, 8, 10]"
            ]
          },
          "metadata": {},
          "execution_count": 7
        }
      ]
    },
    {
      "cell_type": "code",
      "source": [
        "# 4. Write a Python program to print all odd numbers in a given range.\n",
        "\n",
        "odd = [i for i in range(11) if (i%2!=0)]\n",
        "odd"
      ],
      "metadata": {
        "colab": {
          "base_uri": "https://localhost:8080/"
        },
        "id": "iwhaWe2ZgJE5",
        "outputId": "1ac2c4d6-c7a1-4f62-eaee-12061cdd1680"
      },
      "execution_count": 8,
      "outputs": [
        {
          "output_type": "execute_result",
          "data": {
            "text/plain": [
              "[1, 3, 5, 7, 9]"
            ]
          },
          "metadata": {},
          "execution_count": 8
        }
      ]
    },
    {
      "cell_type": "code",
      "source": [
        "# 5. Write a Python program to find the average of all numbers in a range.\n",
        "\n",
        "# importing mean()\n",
        "from statistics import mean\n",
        "\n",
        "def Average(lst):\n",
        "\treturn mean(lst)\n",
        "\n",
        "# Driver Code\n",
        "lst = [15, 9, 55, 41, 35, 20, 62, 49]\n",
        "average = Average(lst)\n",
        "\n",
        "# Printing average of the list\n",
        "print(\"Average of the list =\", round(average, 2))\n"
      ],
      "metadata": {
        "colab": {
          "base_uri": "https://localhost:8080/"
        },
        "id": "ZXXDuj5VgVvy",
        "outputId": "17635ebf-8b04-43b9-d075-a4d32a6b2794"
      },
      "execution_count": 16,
      "outputs": [
        {
          "output_type": "stream",
          "name": "stdout",
          "text": [
            "Average of the list = 35.75\n"
          ]
        }
      ]
    },
    {
      "cell_type": "code",
      "source": [
        "# 6. Write a Python program to check if a number is present in a given range.\n",
        "\n",
        "def is_number_in_range(number, start, end):\n",
        "    return start <= number <= end\n",
        "\n",
        "# Example usage\n",
        "start = 10\n",
        "end = 20\n",
        "number = 15\n",
        "\n",
        "print(f\"Is {number} present in the range {start} to {end}? :\", is_number_in_range(number, start, end))"
      ],
      "metadata": {
        "colab": {
          "base_uri": "https://localhost:8080/"
        },
        "id": "C9c-pQlVwHgK",
        "outputId": "1295428e-0635-4648-feb1-9d33d389516b"
      },
      "execution_count": 19,
      "outputs": [
        {
          "output_type": "stream",
          "name": "stdout",
          "text": [
            "Is 15 present in the range 10 to 20? : True\n"
          ]
        }
      ]
    },
    {
      "cell_type": "code",
      "source": [
        "# 7. Write a Python program to reverse a range of numbers and print them.\n",
        "\n",
        "def reverse_range(start,end):\n",
        "  s = list(range(end, start - 1, -1))\n",
        "  for i in s:\n",
        "    print(i,end = ' ')\n",
        "start = 1\n",
        "end = 10\n",
        "print(\"Reversed range:\")\n",
        "reverse_range(start, end)"
      ],
      "metadata": {
        "colab": {
          "base_uri": "https://localhost:8080/"
        },
        "id": "EII08fYk3aDp",
        "outputId": "4c57fe00-2e98-4845-aeb3-603f3a9eefa7"
      },
      "execution_count": 20,
      "outputs": [
        {
          "output_type": "stream",
          "name": "stdout",
          "text": [
            "Reversed range:\n",
            "10 9 8 7 6 5 4 3 2 1 "
          ]
        }
      ]
    },
    {
      "cell_type": "code",
      "source": [
        "# 8. Write a Python program to find the product of all numbers in a range.\n",
        "\n",
        "def product_of_range(start, end):\n",
        "    if start > end:\n",
        "        return None\n",
        "\n",
        "    product = 1\n",
        "    for i in range(start, end + 1):\n",
        "        product *= i\n",
        "\n",
        "    return product\n",
        "\n",
        "# Example usage\n",
        "start_range = 1\n",
        "end_range = 5\n",
        "\n",
        "product = product_of_range(start_range, end_range)\n",
        "print(f\"Product of numbers in the range {start_range} to {end_range}: {product}\")\n"
      ],
      "metadata": {
        "colab": {
          "base_uri": "https://localhost:8080/"
        },
        "id": "DGyHgXrJ5FkI",
        "outputId": "8545a621-e757-4645-e0f7-89811ee5f5fa"
      },
      "execution_count": 21,
      "outputs": [
        {
          "output_type": "stream",
          "name": "stdout",
          "text": [
            "Product of numbers in the range 1 to 5: 120\n"
          ]
        }
      ]
    },
    {
      "cell_type": "code",
      "source": [
        "# 9. Write a Python program to print the squares of all numbers in a range.\n",
        "def print_squares_of_range(start, end):\n",
        "    for i in range(start, end + 1):\n",
        "        print(f\"The square of {i} is: {i**2}\")\n",
        "\n",
        "# Example usage\n",
        "start_range = 1\n",
        "end_range = 5\n",
        "\n",
        "print(\"Squares of numbers in the range:\")\n",
        "print_squares_of_range(start_range, end_range)\n"
      ],
      "metadata": {
        "colab": {
          "base_uri": "https://localhost:8080/"
        },
        "id": "goYly-RS6jsS",
        "outputId": "ba321f05-31ae-468b-b53e-88f88296f73e"
      },
      "execution_count": 22,
      "outputs": [
        {
          "output_type": "stream",
          "name": "stdout",
          "text": [
            "Squares of numbers in the range:\n",
            "The square of 1 is: 1\n",
            "The square of 2 is: 4\n",
            "The square of 3 is: 9\n",
            "The square of 4 is: 16\n",
            "The square of 5 is: 25\n"
          ]
        }
      ]
    },
    {
      "cell_type": "code",
      "source": [
        "# 10. Write a Python program to print the cube of all numbers in a range.\n",
        "\n",
        "def print_cubes_of_range(start, end):\n",
        "    for i in range(start, end + 1):\n",
        "        print(f\"The cube of {i} is: {i**3}\")\n",
        "\n",
        "# Example usage\n",
        "start_range = 1\n",
        "end_range = 5\n",
        "\n",
        "print(\"Cubes of numbers in the range:\")\n",
        "print_cubes_of_range(start_range, end_range)\n"
      ],
      "metadata": {
        "colab": {
          "base_uri": "https://localhost:8080/"
        },
        "id": "nwzJUtL_65Kj",
        "outputId": "7f76d3e2-1357-4502-d573-cf38eebef3f2"
      },
      "execution_count": 23,
      "outputs": [
        {
          "output_type": "stream",
          "name": "stdout",
          "text": [
            "Cubes of numbers in the range:\n",
            "The cube of 1 is: 1\n",
            "The cube of 2 is: 8\n",
            "The cube of 3 is: 27\n",
            "The cube of 4 is: 64\n",
            "The cube of 5 is: 125\n"
          ]
        }
      ]
    }
  ]
}