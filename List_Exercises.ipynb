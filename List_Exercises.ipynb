{
  "nbformat": 4,
  "nbformat_minor": 0,
  "metadata": {
    "colab": {
      "provenance": []
    },
    "kernelspec": {
      "name": "python3",
      "display_name": "Python 3"
    },
    "language_info": {
      "name": "python"
    }
  },
  "cells": [
    {
      "cell_type": "code",
      "execution_count": 1,
      "metadata": {
        "colab": {
          "base_uri": "https://localhost:8080/"
        },
        "id": "7GxM61ghkIEl",
        "outputId": "968d8c18-65fa-44cd-a70b-f6a0d1ad85e6"
      },
      "outputs": [
        {
          "output_type": "stream",
          "name": "stdout",
          "text": [
            "Sum of all elements in list: 15\n"
          ]
        }
      ],
      "source": [
        "# 1. Write a Python program to find the sum of all elements in a list.\n",
        "\n",
        "list1 = [1, 2, 3, 4, 5]\n",
        "print('Sum of all elements in list:',sum(list1))"
      ]
    },
    {
      "cell_type": "code",
      "source": [
        "# 2. Write a Python program to find the maximum and minimum elements in a list.\n",
        "\n",
        "list1 = [1, 2, 3, 4, 5]\n",
        "print('Maximum no:',max(list1))\n",
        "print('Minimum no:',min(list1))"
      ],
      "metadata": {
        "colab": {
          "base_uri": "https://localhost:8080/"
        },
        "id": "E4267UCukw1m",
        "outputId": "c7437eb4-3abb-433a-c5ee-71c6e80e3425"
      },
      "execution_count": 3,
      "outputs": [
        {
          "output_type": "stream",
          "name": "stdout",
          "text": [
            "Maximum no: 5\n",
            "Minimum no: 1\n"
          ]
        }
      ]
    },
    {
      "cell_type": "code",
      "source": [
        "# 3. Write a Python program to remove duplicates from a list.\n",
        "\n",
        "list1 = [1, 2, 3, 2, 4, 1, 5]\n",
        "print('Original list:',list1)\n",
        "list2 = list(set(list1))\n",
        "print('New list after dublicates are removed:',list2)"
      ],
      "metadata": {
        "colab": {
          "base_uri": "https://localhost:8080/"
        },
        "id": "n0xGWbz6lFuE",
        "outputId": "a2b7d38a-b4ba-4190-e79c-787d1860b111"
      },
      "execution_count": 5,
      "outputs": [
        {
          "output_type": "stream",
          "name": "stdout",
          "text": [
            "Original list: [1, 2, 3, 2, 4, 1, 5]\n",
            "New list after dublicates are removed: [1, 2, 3, 4, 5]\n"
          ]
        }
      ]
    },
    {
      "cell_type": "code",
      "source": [
        "# 4. Write a Python program to check if a list is sorted in ascending order.\n",
        "\n",
        "def list_sort(x):\n",
        "  # Iterate through the list and check if each element is less than or equal to its successor.\n",
        "  for i in range(len(x)-1):\n",
        "    if x[i] > x[i + 1]:\n",
        "      return False\n",
        "  return True\n",
        "\n",
        "# Example usage\n",
        "ascending_list = [1, 2, 3, 4, 5]\n",
        "print('Is the list sorted in ascending order:',list_sort(ascending_list))\n",
        "\n",
        "non_ascending_list = [5, 3, 2, 1]\n",
        "print('Is the list sorted in ascending order:',list_sort(non_ascending_list))"
      ],
      "metadata": {
        "colab": {
          "base_uri": "https://localhost:8080/"
        },
        "id": "qXZ2Tvw3lzUK",
        "outputId": "0d91556e-0a60-4931-a451-5b4de664cd26"
      },
      "execution_count": 7,
      "outputs": [
        {
          "output_type": "stream",
          "name": "stdout",
          "text": [
            "Is the list sorted in ascending order: True\n",
            "Is the list sorted in ascending order: False\n"
          ]
        }
      ]
    },
    {
      "cell_type": "code",
      "source": [
        "# 5. Write a Python program to find the second largest element in a list.\n",
        "\n",
        "list1 = [5, 2, 8, 1, 3, 7]\n",
        "print(\"List:\", list1)\n",
        "list2 = set(list1)\n",
        "list2.remove(max(list2))\n",
        "print('Second largest element:',max(list2))\n"
      ],
      "metadata": {
        "colab": {
          "base_uri": "https://localhost:8080/"
        },
        "id": "NwBwanIfngYf",
        "outputId": "ab275eb9-efa8-460e-dbf0-5f996377c6f3"
      },
      "execution_count": 12,
      "outputs": [
        {
          "output_type": "stream",
          "name": "stdout",
          "text": [
            "List: [5, 2, 8, 1, 3, 7]\n",
            "Second largest element: 7\n"
          ]
        }
      ]
    },
    {
      "cell_type": "code",
      "source": [
        "# 6. Write a Python program to sort a list of strings in alphabetical order.\n",
        "\n",
        "sample_strings = [\"apple\", \"banana\", \"cherry\", \"date\", \"banana\", \"apple\"]\n",
        "print(\"Original list of strings:\", sample_strings)\n",
        "list2 = sorted(sample_strings)\n",
        "print('Sorted list in ascending order:',list2)"
      ],
      "metadata": {
        "colab": {
          "base_uri": "https://localhost:8080/"
        },
        "id": "KkBJ85KSsMI1",
        "outputId": "180da9f7-2c38-431d-bddf-0cde237c6c7c"
      },
      "execution_count": 14,
      "outputs": [
        {
          "output_type": "stream",
          "name": "stdout",
          "text": [
            "Original list of strings: ['apple', 'banana', 'cherry', 'date', 'banana', 'apple']\n",
            "Sorted list in ascending order: ['apple', 'apple', 'banana', 'banana', 'cherry', 'date']\n"
          ]
        }
      ]
    },
    {
      "cell_type": "code",
      "source": [
        "# 7. Write a Python program to find the common elements between two lists.\n",
        "\n",
        "list1 = [1, 2, 3, 4, 5]\n",
        "list2 = [3, 4, 5, 6, 7]\n",
        "print(\"List 1:\", list1)\n",
        "print(\"List 2:\", list2)\n",
        "set1 = set(list1)\n",
        "set2 = set(list2)\n",
        "common = set1.intersection(set2)\n",
        "print('Common elementis:',list(common))\n"
      ],
      "metadata": {
        "colab": {
          "base_uri": "https://localhost:8080/"
        },
        "id": "qJc23QpBs0J3",
        "outputId": "6f7a137f-39a9-4141-ab48-4371dbe88f07"
      },
      "execution_count": 16,
      "outputs": [
        {
          "output_type": "stream",
          "name": "stdout",
          "text": [
            "List 1: [1, 2, 3, 4, 5]\n",
            "List 2: [3, 4, 5, 6, 7]\n",
            "Common elementis: [3, 4, 5]\n"
          ]
        }
      ]
    },
    {
      "cell_type": "code",
      "source": [
        "# 8. Write a Python program to remove the nth occurrence of an element from a list.\n",
        "\n",
        "def remove_nth_occurrence(lst,element,n):\n",
        "  count = 0\n",
        "  index_to_remove = None\n",
        "\n",
        "  # Iterate through the list to find the nth occurrence of the element\n",
        "  for i in range(len(lst)):\n",
        "    if lst[i] == element:\n",
        "      count += 1\n",
        "\n",
        "      if count == n:\n",
        "        index_to_remove = i\n",
        "        break\n",
        "\n",
        "  # If nth occurrence is found, remove the element at the found index\n",
        "  if index_to_remove is not None:\n",
        "    del lst[index_to_remove]\n",
        "    return True\n",
        "  else:\n",
        "    return False\n",
        "\n",
        "\n",
        "sample_list = [1, 2, 3, 2, 4, 2, 5]\n",
        "print(\"Original list:\", sample_list)\n",
        "element_to_remove = 2\n",
        "nth_occurrence = 2\n",
        "\n",
        "if remove_nth_occurrence(sample_list, element_to_remove, nth_occurrence):\n",
        "\n",
        "    print(f\"List after removing {nth_occurrence} occurrence(s) of {element_to_remove}: {sample_list}\")\n",
        "else:\n",
        "    print(f\"Element {element_to_remove} does not appear {nth_occurrence} times in the list.\")\n"
      ],
      "metadata": {
        "colab": {
          "base_uri": "https://localhost:8080/"
        },
        "id": "HGfkUVJ4tDpE",
        "outputId": "f970027c-3e2d-4024-e420-13526c3e05c2"
      },
      "execution_count": 17,
      "outputs": [
        {
          "output_type": "stream",
          "name": "stdout",
          "text": [
            "Original list: [1, 2, 3, 2, 4, 2, 5]\n",
            "List after removing 2 occurrence(s) of 2: [1, 2, 3, 4, 2, 5]\n"
          ]
        }
      ]
    },
    {
      "cell_type": "code",
      "source": [
        "# 9. Write a Python program to find the difference between two lists.\n",
        "\n",
        "list1 = [1, 2, 3, 4, 5]\n",
        "list2 = [3, 4, 5, 6, 7]\n",
        "print(\"List 1:\", list1)\n",
        "print(\"List 2:\", list2)\n",
        "set1 = set(list1)\n",
        "set2 = set(list2)\n",
        "difference1 = list(set1.difference(set2))\n",
        "difference2 = list(set2.difference(set1))\n",
        "print(\"Elements in List 1 but not in List 2:\", difference1)\n",
        "print(\"Elements in List 2 but not in List 1:\", difference2)"
      ],
      "metadata": {
        "colab": {
          "base_uri": "https://localhost:8080/"
        },
        "id": "JC5n7qx2tE0n",
        "outputId": "4ee2c46f-3d76-4f93-e5ef-877e9b9dee66"
      },
      "execution_count": 18,
      "outputs": [
        {
          "output_type": "stream",
          "name": "stdout",
          "text": [
            "List 1: [1, 2, 3, 4, 5]\n",
            "List 2: [3, 4, 5, 6, 7]\n",
            "Elements in List 1 but not in List 2: [1, 2]\n",
            "Elements in List 2 but not in List 1: [6, 7]\n"
          ]
        }
      ]
    },
    {
      "cell_type": "code",
      "source": [
        "# 10. Write a Python program to remove the elements of a list that are divisible by 3.\n",
        "list1 = [1, 2, 3, 4, 5, 6, 7, 8, 9]\n",
        "list2 = [i for i in list1 if (i % 3 != 0)]\n",
        "list2"
      ],
      "metadata": {
        "colab": {
          "base_uri": "https://localhost:8080/"
        },
        "id": "gMfkBEZBtIjn",
        "outputId": "b4ed34d7-b1e9-43a0-bb71-d2f586b2a39a"
      },
      "execution_count": 19,
      "outputs": [
        {
          "output_type": "execute_result",
          "data": {
            "text/plain": [
              "[1, 2, 4, 5, 7, 8]"
            ]
          },
          "metadata": {},
          "execution_count": 19
        }
      ]
    }
  ]
}