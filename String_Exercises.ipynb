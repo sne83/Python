{
  "nbformat": 4,
  "nbformat_minor": 0,
  "metadata": {
    "colab": {
      "provenance": []
    },
    "kernelspec": {
      "name": "python3",
      "display_name": "Python 3"
    },
    "language_info": {
      "name": "python"
    }
  },
  "cells": [
    {
      "cell_type": "code",
      "execution_count": null,
      "metadata": {
        "colab": {
          "base_uri": "https://localhost:8080/"
        },
        "id": "XN12I6uzN-yV",
        "outputId": "0dd86c92-d010-4af6-d93e-25459102c140"
      },
      "outputs": [
        {
          "output_type": "stream",
          "name": "stdout",
          "text": [
            "Count of str1: 6\n",
            "count of str2: 14\n"
          ]
        }
      ],
      "source": [
        "# 1. Write a Python program to count the number of characters in a string.\n",
        "\n",
        "str1 = 'Akshay'\n",
        "print('Count of str1:',len(str1))\n",
        "str2 = 'My name is sweety'\n",
        "str2_count = len([i for i in str2 if i.isalpha()])\n",
        "print('count of str2:',str2_count)\n"
      ]
    },
    {
      "cell_type": "code",
      "source": [
        "# 2. Write a Python program to reverse a string.\n",
        "\n",
        "str2 = 'My name is sweety'\n",
        "str2[::-1]"
      ],
      "metadata": {
        "colab": {
          "base_uri": "https://localhost:8080/",
          "height": 35
        },
        "id": "5gWRXzdvOKvb",
        "outputId": "551ff19d-a880-4f19-ba35-a6ac966400e3"
      },
      "execution_count": null,
      "outputs": [
        {
          "output_type": "execute_result",
          "data": {
            "text/plain": [
              "'yteews si eman yM'"
            ],
            "application/vnd.google.colaboratory.intrinsic+json": {
              "type": "string"
            }
          },
          "metadata": {},
          "execution_count": 2
        }
      ]
    },
    {
      "cell_type": "code",
      "source": [
        "# 3. Write a Python program to check if a string is a palindrome.\n",
        "\n",
        "def pal(n):\n",
        "  h = n[::-1]\n",
        "  if n == h:\n",
        "    return True\n",
        "  else:\n",
        "    return False\n",
        "\n",
        "print(pal('DAD'))\n",
        "print(pal('string'))"
      ],
      "metadata": {
        "colab": {
          "base_uri": "https://localhost:8080/"
        },
        "id": "kEnX7kYNON07",
        "outputId": "7f99230c-31d0-4918-feeb-a38df041b829"
      },
      "execution_count": null,
      "outputs": [
        {
          "output_type": "stream",
          "name": "stdout",
          "text": [
            "True\n",
            "False\n"
          ]
        }
      ]
    },
    {
      "cell_type": "code",
      "source": [
        "# 4. Write a Python program to remove all the vowels from a string.\n",
        "\n",
        "def vowel_remo(s):\n",
        "  vowels = []\n",
        "  result = [i for i in s if i.lower() not in 'aeiou']\n",
        "  print(''.join(result))\n",
        "s = vowel_remo('My name is gitHub')"
      ],
      "metadata": {
        "colab": {
          "base_uri": "https://localhost:8080/"
        },
        "id": "CFcI7lN5OS3k",
        "outputId": "e4c9fdc7-745c-4cb9-b239-02f662e04809"
      },
      "execution_count": null,
      "outputs": [
        {
          "output_type": "stream",
          "name": "stdout",
          "text": [
            "My nm s gtHb\n"
          ]
        }
      ]
    },
    {
      "cell_type": "code",
      "source": [
        "# 5. Write a Python program to find the first non-repeating character in a string.\n",
        "\n",
        "s = 'character'\n",
        "index = ' '\n",
        "\n",
        "if len(s) == 0:\n",
        "  print('Empty string')\n",
        "\n",
        "for i in s:\n",
        "  if s.count(i) == 1:\n",
        "    index += i\n",
        "    break\n",
        "\n",
        "print('first non-repeating character in a string:',i)\n"
      ],
      "metadata": {
        "colab": {
          "base_uri": "https://localhost:8080/"
        },
        "id": "DB47osazOX4w",
        "outputId": "07d78b83-6567-4532-c862-8e8ab4e6af66"
      },
      "execution_count": null,
      "outputs": [
        {
          "output_type": "stream",
          "name": "stdout",
          "text": [
            "first non-repeating character in a string: h\n"
          ]
        }
      ]
    },
    {
      "cell_type": "code",
      "source": [
        "# 6. Write a Python program to capitalize the first letter of each word in a string.\n",
        "\n",
        "s = 'my name is siddharth.'\n",
        "print(s.title())"
      ],
      "metadata": {
        "colab": {
          "base_uri": "https://localhost:8080/"
        },
        "id": "Zak7nGwiSg9d",
        "outputId": "72efac0d-712c-4022-b770-29eefdf02b14"
      },
      "execution_count": null,
      "outputs": [
        {
          "output_type": "stream",
          "name": "stdout",
          "text": [
            "My Name Is Siddharth.\n"
          ]
        }
      ]
    },
    {
      "cell_type": "code",
      "source": [
        "# 7. Write a Python program to check if a string is an anagram of another string.\n",
        "\n",
        "def anagram(a,b):\n",
        "\n",
        "  if (sorted(a) == sorted(b)):\n",
        "    print('str1 is anagram of str2')\n",
        "  else:\n",
        "    print('not anagram')\n",
        "\n",
        "s1 = 'listen'\n",
        "s2 = 'silent'\n",
        "anagram(s1,s2)"
      ],
      "metadata": {
        "colab": {
          "base_uri": "https://localhost:8080/"
        },
        "id": "PaYv_gCeTdqV",
        "outputId": "5cbd192a-1018-40c9-ea57-18a6cc183cb9"
      },
      "execution_count": null,
      "outputs": [
        {
          "output_type": "stream",
          "name": "stdout",
          "text": [
            "str1 is anagram of str2\n"
          ]
        }
      ]
    },
    {
      "cell_type": "code",
      "source": [
        "# 8. Write a Python program to find the most frequent character in a string.\n",
        "\n",
        "str1 = 'python-frequent'\n",
        "count = {}\n",
        "\n",
        "for i in str1:\n",
        "  if i in count:\n",
        "    count[i] += 1\n",
        "  else:\n",
        "    count[i] = 1\n",
        "\n",
        "result = max(count, key = count.get)\n",
        "print(result)"
      ],
      "metadata": {
        "colab": {
          "base_uri": "https://localhost:8080/"
        },
        "id": "9xH1qO4bHtet",
        "outputId": "dc9d58e2-2d45-44c0-9807-7ad358f025ad"
      },
      "execution_count": null,
      "outputs": [
        {
          "output_type": "stream",
          "name": "stdout",
          "text": [
            "t\n"
          ]
        }
      ]
    },
    {
      "cell_type": "code",
      "source": [
        "# 9. Write a Python program to check if a string is a valid email address.\n",
        "\n",
        "import re\n",
        "\n",
        "# Make a regular expression\n",
        "# for validating an Email\n",
        "regex = r'\\b[A-Za-z0-9._%+-]+@[A-Za-z0-9.-]+\\.[A-Z|a-z]{2,7}\\b'\n",
        "\n",
        "# Define a function for\n",
        "# for validating an Email\n",
        "def check(email):\n",
        "\n",
        "\t# pass the regular expression\n",
        "\t# and the string into the fullmatch() method\n",
        "\tif(re.fullmatch(regex, email)):\n",
        "\t\tprint(\"Valid Email\")\n",
        "\n",
        "\telse:\n",
        "\t\tprint(\"Invalid Email\")\n",
        "\n",
        "# Driver Code\n",
        "if __name__ == '__main__':\n",
        "\n",
        "\t# Enter the email\n",
        "\temail = \"ankitrai326@gmail.com\"\n",
        "\n",
        "\t# calling run function\n",
        "\tcheck(email)\n",
        "\n",
        "\temail = \"my.ownsite@our-earth.org\"\n",
        "\tcheck(email)\n",
        "\n",
        "\temail = \"ankitrai326.com\"\n",
        "\tcheck(email)\n"
      ],
      "metadata": {
        "colab": {
          "base_uri": "https://localhost:8080/"
        },
        "id": "53GTnRLgkL-J",
        "outputId": "57e803b2-32cd-4c0d-bde7-451acfa14230"
      },
      "execution_count": null,
      "outputs": [
        {
          "output_type": "stream",
          "name": "stdout",
          "text": [
            "Valid Email\n",
            "Valid Email\n",
            "Invalid Email\n"
          ]
        }
      ]
    },
    {
      "cell_type": "code",
      "source": [
        "# 10. Write a Python program to find the length of the longest substring without repeating characters.\n",
        "\n",
        "'''The sliding window approach - technique used for efficiently processing arrays,\n",
        "   strings, / other sequential data by maintaining a \"window\" or a range of elements that slide over the data in a certain way.\n",
        "'''\n",
        "def long_substring(s):\n",
        "\n",
        "  # Dictionary to store the last seen index of each character\n",
        "  char_to_index = {}\n",
        "  max_length = 0\n",
        "  start = 0\n",
        "\n",
        "  for i in range(len(s)):\n",
        "    if s[i] in char_to_index and char_to_index[s[i]] >= start:\n",
        "      start = char_to_index[s[i]] + 1\n",
        "\n",
        "    char_to_index[s[i]] = i\n",
        "    max_length = max(max_length, i - start + 1)\n",
        "\n",
        "\n",
        "  return max_length\n",
        "\n",
        "input_string = \"abcabcbb\"\n",
        "print('Input string',input_string)\n",
        "print('Longest substring without repeating characters:',long_substring(input_string))"
      ],
      "metadata": {
        "colab": {
          "base_uri": "https://localhost:8080/"
        },
        "id": "NjtyjTcUmyiS",
        "outputId": "f55aaa15-ad02-4cd4-dc69-674c454bfea8"
      },
      "execution_count": null,
      "outputs": [
        {
          "output_type": "stream",
          "name": "stdout",
          "text": [
            "Input string abcabcbb\n",
            "Longest substring without repeating characters: 3\n"
          ]
        }
      ]
    }
  ]
}