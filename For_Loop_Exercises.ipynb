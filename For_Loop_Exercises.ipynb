{
  "nbformat": 4,
  "nbformat_minor": 0,
  "metadata": {
    "colab": {
      "provenance": []
    },
    "kernelspec": {
      "name": "python3",
      "display_name": "Python 3"
    },
    "language_info": {
      "name": "python"
    }
  },
  "cells": [
    {
      "cell_type": "code",
      "execution_count": 1,
      "metadata": {
        "colab": {
          "base_uri": "https://localhost:8080/"
        },
        "id": "kE4ffaZlFgKu",
        "outputId": "4e5cabc7-4f57-4a72-8c72-b75500be61f0"
      },
      "outputs": [
        {
          "output_type": "stream",
          "name": "stdout",
          "text": [
            "1 2 3 4 5 6 7 8 9 10 "
          ]
        }
      ],
      "source": [
        "# 1. Write a Python program to print the numbers from 1 to 10 using a for loop.\n",
        "\n",
        "for i in range(1,11):\n",
        "  print(i,end = ' ')"
      ]
    },
    {
      "cell_type": "code",
      "source": [
        "# 2. Write a Python program to calculate the sum of all numbers in a list using a for loop.\n",
        "\n",
        "list1 = [1,2,3,4,5,6]\n",
        "print(list1)\n",
        "sum = 0\n",
        "for i in list1:\n",
        "  sum += i\n",
        "print('sum:',sum)"
      ],
      "metadata": {
        "colab": {
          "base_uri": "https://localhost:8080/"
        },
        "id": "PcsSoO1qFvUx",
        "outputId": "5177fee7-89ef-46d0-eabe-ab93d5f0c0c6"
      },
      "execution_count": 3,
      "outputs": [
        {
          "output_type": "stream",
          "name": "stdout",
          "text": [
            "[1, 2, 3, 4, 5, 6]\n",
            "sum: 21\n"
          ]
        }
      ]
    },
    {
      "cell_type": "code",
      "source": [
        "# 3. Write a Python program to find the factorial of a number using a for loop.\n",
        "\n",
        "def factorial(n):\n",
        "\n",
        "  if n < 0:\n",
        "    return 'Factorial is not possible for negative number.'\n",
        "\n",
        "  elif n == 0 or n == 1:\n",
        "    return 1\n",
        "\n",
        "  else:\n",
        "      result = 1\n",
        "      for i in range(1, n + 1):\n",
        "        result *= i\n",
        "      return result\n",
        "\n",
        "num = 5\n",
        "factorial_check = factorial(num)\n",
        "print(factorial_check)\n",
        "\n"
      ],
      "metadata": {
        "colab": {
          "base_uri": "https://localhost:8080/"
        },
        "id": "avrca5CZFxOT",
        "outputId": "c6753688-1c4c-429f-9050-3bbd90170be3"
      },
      "execution_count": 10,
      "outputs": [
        {
          "output_type": "stream",
          "name": "stdout",
          "text": [
            "120\n"
          ]
        }
      ]
    },
    {
      "cell_type": "code",
      "source": [
        "# 4. Python program to print all the even numbers between 1 and 50 using a for loop.\n",
        "\n",
        "for i in range(1,51):\n",
        "  if i % 2 == 0:\n",
        "     print(i, end = ' ')\n"
      ],
      "metadata": {
        "colab": {
          "base_uri": "https://localhost:8080/"
        },
        "id": "_gZdFfzBFzaO",
        "outputId": "578f5c4a-6440-466c-a716-5d8634bba69e"
      },
      "execution_count": 14,
      "outputs": [
        {
          "output_type": "stream",
          "name": "stdout",
          "text": [
            "2 4 6 8 10 12 14 16 18 20 22 24 26 28 30 32 34 36 38 40 42 44 46 48 50 "
          ]
        }
      ]
    },
    {
      "cell_type": "code",
      "source": [
        "# 5. Python program to iterate over a string and print each character using a for loop.\n",
        "\n",
        "str1 = 'computer'\n",
        "for i in str1:\n",
        "  print(i)"
      ],
      "metadata": {
        "colab": {
          "base_uri": "https://localhost:8080/"
        },
        "id": "xWsQh-HvF2fV",
        "outputId": "77fdfe5f-3aac-4b74-e9f8-ab11042ed6fb"
      },
      "execution_count": 17,
      "outputs": [
        {
          "output_type": "stream",
          "name": "stdout",
          "text": [
            "c\n",
            "o\n",
            "m\n",
            "p\n",
            "u\n",
            "t\n",
            "e\n",
            "r\n"
          ]
        }
      ]
    },
    {
      "cell_type": "code",
      "source": [
        "# 6. Python program to iterate over a list of tuples and print each element using a for loop.\n",
        "\n",
        "list1 = [(1, 'a'), (2, 'b'), (3, 'c')]\n",
        "print('Element in list of tuple')\n",
        "for tup in list1:\n",
        "  for i in tup:\n",
        "    print(i)"
      ],
      "metadata": {
        "colab": {
          "base_uri": "https://localhost:8080/"
        },
        "id": "GKyuNlQSF4O0",
        "outputId": "19616743-5b75-4a50-ee66-f19ad9d96539"
      },
      "execution_count": 20,
      "outputs": [
        {
          "output_type": "stream",
          "name": "stdout",
          "text": [
            "Element in list of tuple\n",
            "1\n",
            "a\n",
            "2\n",
            "b\n",
            "3\n",
            "c\n"
          ]
        }
      ]
    },
    {
      "cell_type": "code",
      "source": [
        "# 7. Python program to find the largest element in a list using a for loop.\n",
        "\n",
        "def largest(lst):\n",
        "  large = lst[0]\n",
        "\n",
        "  for i in lst[1:]:\n",
        "    if i > large:\n",
        "      large = i\n",
        "  return large\n",
        "numbers = [10, 5, 8, 20, 15, 25]\n",
        "check = largest(numbers)\n",
        "print('Largest:',check)"
      ],
      "metadata": {
        "colab": {
          "base_uri": "https://localhost:8080/"
        },
        "id": "x7QgMl3zF5sh",
        "outputId": "7f384f9c-0b55-4878-860b-bd60350af804"
      },
      "execution_count": 25,
      "outputs": [
        {
          "output_type": "stream",
          "name": "stdout",
          "text": [
            "Largest: 25\n"
          ]
        }
      ]
    },
    {
      "cell_type": "code",
      "source": [
        "# 8. Python program to check if all elements in a list are even using a for loop.\n",
        "\n",
        "def are_all_elements_even(lst):\n",
        "    for item in lst:\n",
        "        if item % 2 != 0:\n",
        "            return False\n",
        "    return True\n",
        "\n",
        "# Example usage\n",
        "numbers = [2, 4, 6, 8, 10]\n",
        "\n",
        "if are_all_elements_even(numbers):\n",
        "    print(\"All elements in the list are even.\")\n",
        "else:\n",
        "    print(\"Not all elements in the list are even.\")\n"
      ],
      "metadata": {
        "colab": {
          "base_uri": "https://localhost:8080/"
        },
        "id": "j4bThBEbF7Iv",
        "outputId": "345b521b-1d97-41bc-f0aa-c9350f3711a4"
      },
      "execution_count": 26,
      "outputs": [
        {
          "output_type": "stream",
          "name": "stdout",
          "text": [
            "All elements in the list are even.\n"
          ]
        }
      ]
    },
    {
      "cell_type": "code",
      "source": [
        "# 9. Python program to find the common elements between two lists using a for loop.\n",
        "\n",
        "common_element = []\n",
        "def common(list1,list2):\n",
        "  for item1 in list1:\n",
        "    for item2 in list2:\n",
        "      if item1 == item2:\n",
        "        common_element.append(item1)\n",
        "\n",
        "list1 = [1, 2, 3, 4, 5]\n",
        "list2 = [3, 4, 5, 6, 7]\n",
        "result = common(list1,list2)\n",
        "print(common_element)"
      ],
      "metadata": {
        "colab": {
          "base_uri": "https://localhost:8080/"
        },
        "id": "OxiGDMS_F9IO",
        "outputId": "549823fa-80cf-4bee-c166-0b57fa7bdfbe"
      },
      "execution_count": 28,
      "outputs": [
        {
          "output_type": "stream",
          "name": "stdout",
          "text": [
            "[3, 4, 5]\n"
          ]
        }
      ]
    },
    {
      "cell_type": "code",
      "source": [
        "# 10. Write a Python program to calculate the sum of the digits of a number using a for loop.\n",
        "\n",
        "def sum(n):\n",
        "  addition = 0\n",
        "\n",
        "  while n > 0:\n",
        "\n",
        "    digit = n % 10\n",
        "    addition += digit\n",
        "    n //= 10\n",
        "  return addition\n",
        "\n",
        "number = 12345\n",
        "result = sum(number)\n",
        "print(result)\n"
      ],
      "metadata": {
        "colab": {
          "base_uri": "https://localhost:8080/"
        },
        "id": "QJu7sZLDF_BF",
        "outputId": "756af34e-7df8-4b89-b868-0861cd855818"
      },
      "execution_count": 29,
      "outputs": [
        {
          "output_type": "stream",
          "name": "stdout",
          "text": [
            "15\n"
          ]
        }
      ]
    }
  ]
}