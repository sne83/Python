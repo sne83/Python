{
  "nbformat": 4,
  "nbformat_minor": 0,
  "metadata": {
    "colab": {
      "provenance": [],
      "authorship_tag": "ABX9TyNr14WDYHO1Ma5EuzvtMmlP"
    },
    "kernelspec": {
      "name": "python3",
      "display_name": "Python 3"
    },
    "language_info": {
      "name": "python"
    }
  },
  "cells": [
    {
      "cell_type": "code",
      "execution_count": 1,
      "metadata": {
        "colab": {
          "base_uri": "https://localhost:8080/"
        },
        "id": "Z1tOgYubvCcn",
        "outputId": "a628d469-c794-43e6-f913-277d98d768e1"
      },
      "outputs": [
        {
          "output_type": "stream",
          "name": "stdout",
          "text": [
            "Enter the email:dhsk\n",
            "Enter the password:ooonbu\n",
            "Incorrect credentials\n"
          ]
        }
      ],
      "source": [
        "# Correct email - campusx@gmail.com\n",
        "# password - 1234\n",
        "\n",
        "email = input('Enter the email:')\n",
        "password = input('Enter the password:')\n",
        "\n",
        "if email == 'campusx@gmail.com' and password == '1234':\n",
        "  print('Welcome')\n",
        "else:\n",
        "  print('Incorrect credentials')"
      ]
    },
    {
      "cell_type": "code",
      "source": [
        "email = input('Enter the email:')\n",
        "password = input('Enter the password:')\n",
        "\n",
        "if email == 'campusx@gmail.com' and password == '1234':\n",
        "  print('Welcome')\n",
        "else:\n",
        "  print('Incorrect credentials')"
      ],
      "metadata": {
        "colab": {
          "base_uri": "https://localhost:8080/"
        },
        "id": "OYzbyLVNwCAp",
        "outputId": "f6494330-edcd-4be5-b39f-8dd2202f199f"
      },
      "execution_count": 2,
      "outputs": [
        {
          "output_type": "stream",
          "name": "stdout",
          "text": [
            "Enter the email:campusx@gmail.com\n",
            "Enter the password:1234\n",
            "Welcome\n"
          ]
        }
      ]
    },
    {
      "cell_type": "code",
      "source": [
        "# if email is correct but wrong password : give one more chance\n",
        "\n",
        "email = input('Enter the email:')\n",
        "password = input('Enter the password:')\n",
        "\n",
        "if email == 'campusx@gmail.com' and password == '1234':\n",
        "  print('Welcome')\n",
        "\n",
        "elif email == 'campusx@gmail.com' and password != '1234':\n",
        "  print('Password incorrect')\n",
        "  password = input('Enter password again: ')\n",
        "\n",
        "  if password == '1234':                # nested if-else\n",
        "    print('Finally correct')\n",
        "  else:\n",
        "    print('Still incorrect')\n",
        "else:\n",
        "  print('Incorrect credentials')"
      ],
      "metadata": {
        "colab": {
          "base_uri": "https://localhost:8080/"
        },
        "id": "IXIrCSjRwKfT",
        "outputId": "9e32a694-4709-4086-e495-c2596ba1b34c"
      },
      "execution_count": 5,
      "outputs": [
        {
          "output_type": "stream",
          "name": "stdout",
          "text": [
            "Enter the email:campusx@gmail.com\n",
            "Enter the password:1598\n",
            "Password incorrect\n",
            "Enter password again: 1234\n",
            "Finally correct\n"
          ]
        }
      ]
    },
    {
      "cell_type": "code",
      "source": [
        "# Check if email has @ sign\n",
        "email = input('Enter the email: ')\n",
        "if '@' in email:\n",
        "  password = input('Enter the password:')\n",
        "\n",
        "  if email == 'campusx@gmail.com' and password == '1234':\n",
        "    print('Welcome')\n",
        "\n",
        "  elif email == 'campusx@gmail.com' and password != '1234':\n",
        "    print('Password incorrect')\n",
        "    password = input('Enter password again: ')\n",
        "\n",
        "    if password == '1234':                # nested if-else\n",
        "      print('Finally correct')\n",
        "    else:\n",
        "      print('Still incorrect')\n",
        "  else:\n",
        "    print('Incorrect credentials')\n",
        "else:\n",
        "  print('Email is incorrect.')"
      ],
      "metadata": {
        "colab": {
          "base_uri": "https://localhost:8080/"
        },
        "id": "nwpXb0nmxjh_",
        "outputId": "001d999a-b340-404c-c00d-c96ddf87efcb"
      },
      "execution_count": 6,
      "outputs": [
        {
          "output_type": "stream",
          "name": "stdout",
          "text": [
            "Enter the email: campusxgmail\n",
            "Email is incorrect.\n"
          ]
        }
      ]
    }
  ]
}