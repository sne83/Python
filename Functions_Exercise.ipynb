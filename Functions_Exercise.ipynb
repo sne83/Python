{
  "nbformat": 4,
  "nbformat_minor": 0,
  "metadata": {
    "colab": {
      "provenance": []
    },
    "kernelspec": {
      "name": "python3",
      "display_name": "Python 3"
    },
    "language_info": {
      "name": "python"
    }
  },
  "cells": [
    {
      "cell_type": "code",
      "execution_count": 2,
      "metadata": {
        "colab": {
          "base_uri": "https://localhost:8080/"
        },
        "id": "3fgREHl7bbfx",
        "outputId": "16534986-0e5b-407e-ca10-59a320c2c773"
      },
      "outputs": [
        {
          "output_type": "stream",
          "name": "stdout",
          "text": [
            "sneha 18\n"
          ]
        }
      ],
      "source": [
        "# 1: Create a function in Python\n",
        "\n",
        "def first(name,age):\n",
        "  print(name,age)\n",
        "\n",
        "\n",
        "first('sneha',18)"
      ]
    },
    {
      "cell_type": "code",
      "source": [
        "#  2: Create a function with variable length of arguments\n",
        "\n",
        "def func1(*n):\n",
        "  #for i in n:\n",
        "     print(n)\n",
        "\n",
        "func1(20,40,60)\n",
        "func1(10,30,50,70)"
      ],
      "metadata": {
        "colab": {
          "base_uri": "https://localhost:8080/"
        },
        "id": "pxVwnKc4cwMv",
        "outputId": "4a7cb6d2-fff7-405e-ee65-00d275a98667"
      },
      "execution_count": 6,
      "outputs": [
        {
          "output_type": "stream",
          "name": "stdout",
          "text": [
            "(20, 40, 60)\n",
            "(10, 30, 50, 70)\n"
          ]
        }
      ]
    },
    {
      "cell_type": "code",
      "source": [
        "# 3: Return multiple values from a function\n",
        "def calculation(a, b):\n",
        "    return a+b, a-b\n",
        "\n",
        "add, sub = calculation(40, 10)\n",
        "print(add,sub)"
      ],
      "metadata": {
        "colab": {
          "base_uri": "https://localhost:8080/"
        },
        "id": "j_bmBGP3dxjI",
        "outputId": "31c286f3-9dfe-4b81-cd33-aa229e2d15be"
      },
      "execution_count": 8,
      "outputs": [
        {
          "output_type": "stream",
          "name": "stdout",
          "text": [
            "50 30\n"
          ]
        }
      ]
    },
    {
      "cell_type": "code",
      "source": [
        "# 4. Write a program to create a function show_employee() using the following conditions.\n",
        "   # It should accept the employee’s name and salary and display both.\n",
        "   # If the salary is missing in the function call then assign default value 9000 to salary\n",
        "def show_employee(name,salary=9000):\n",
        "  print('name:',name,',salary:', salary)\n",
        "\n",
        "\n",
        "show_employee(\"Ben\", 12000)\n",
        "show_employee(\"Jessa\")"
      ],
      "metadata": {
        "colab": {
          "base_uri": "https://localhost:8080/"
        },
        "id": "HP16B-hJeRk8",
        "outputId": "f922362a-7114-4a17-81f3-2f5b751089b3"
      },
      "execution_count": 12,
      "outputs": [
        {
          "output_type": "stream",
          "name": "stdout",
          "text": [
            "name: Ben ,salary: 12000\n",
            "name: Jessa ,salary: 9000\n"
          ]
        }
      ]
    },
    {
      "cell_type": "code",
      "source": [
        "# 5: Create an inner function to calculate the addition in the following way\n",
        "\n",
        "def outer(a,b):\n",
        "\n",
        "  def addition(a,b):\n",
        "    return a+b\n",
        "\n",
        "  result = addition(a,b)\n",
        "  return result + 5\n",
        "\n",
        "final = outer(5,10)\n",
        "print(final)\n"
      ],
      "metadata": {
        "colab": {
          "base_uri": "https://localhost:8080/"
        },
        "id": "SEtjW9qefPVL",
        "outputId": "95d07754-81f5-4b47-ac63-a6cec03dca18"
      },
      "execution_count": 14,
      "outputs": [
        {
          "output_type": "stream",
          "name": "stdout",
          "text": [
            "20\n"
          ]
        }
      ]
    },
    {
      "cell_type": "code",
      "source": [
        "# 6. create a recursive function to calculate the sum of numbers from 0 to 10.\n",
        "\n",
        "# A recursive function is a function that calls itself again and again.\n",
        "def addition(num):\n",
        "  if num:\n",
        "    return num + addition(num-1)\n",
        "  else:\n",
        "    return 0\n",
        "\n",
        "res = addition(10)\n",
        "print(res)\n"
      ],
      "metadata": {
        "colab": {
          "base_uri": "https://localhost:8080/"
        },
        "id": "GqhiphCwmIPH",
        "outputId": "e44769b2-1888-4b47-d9d0-ebbca5a88d62"
      },
      "execution_count": 16,
      "outputs": [
        {
          "output_type": "stream",
          "name": "stdout",
          "text": [
            "55\n"
          ]
        }
      ]
    },
    {
      "cell_type": "code",
      "source": [
        "#  7: Assign a different name to function and call it through the new name\n",
        "def display_student(name,age):\n",
        "  print(name,age)\n",
        "\n",
        "display_student('Emma',28)\n",
        "display_tudent = display_student\n",
        "display_tudent('Akshay',25)\n"
      ],
      "metadata": {
        "colab": {
          "base_uri": "https://localhost:8080/"
        },
        "id": "8Euc3DF7nQ_m",
        "outputId": "421ee0d7-f33b-432a-afc9-6271fb43654e"
      },
      "execution_count": 18,
      "outputs": [
        {
          "output_type": "stream",
          "name": "stdout",
          "text": [
            "Emma 28\n",
            "Akshay 25\n"
          ]
        }
      ]
    },
    {
      "cell_type": "code",
      "source": [
        "# 8.Generate a Python list of all the even numbers between 4 to 30\n",
        "\n",
        "print(list(range(4,31,2)))"
      ],
      "metadata": {
        "colab": {
          "base_uri": "https://localhost:8080/"
        },
        "id": "a4u4iycCoFAW",
        "outputId": "caa43e07-ac8b-43eb-ef25-ea20e4ad80ee"
      },
      "execution_count": 22,
      "outputs": [
        {
          "output_type": "stream",
          "name": "stdout",
          "text": [
            "[4, 6, 8, 10, 12, 14, 16, 18, 20, 22, 24, 26, 28, 30]\n"
          ]
        }
      ]
    },
    {
      "cell_type": "code",
      "source": [
        "# 9: Find the largest item from a given list\n",
        "x = [4, 6, 8, 24, 12, 2]\n",
        "print(max(x))"
      ],
      "metadata": {
        "colab": {
          "base_uri": "https://localhost:8080/"
        },
        "id": "gGRUBt8NtXDx",
        "outputId": "376143c2-0968-4d7b-cf1b-764eefb0a698"
      },
      "execution_count": 23,
      "outputs": [
        {
          "output_type": "stream",
          "name": "stdout",
          "text": [
            "24\n"
          ]
        }
      ]
    }
  ]
}