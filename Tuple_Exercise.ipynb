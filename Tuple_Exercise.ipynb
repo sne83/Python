{
  "nbformat": 4,
  "nbformat_minor": 0,
  "metadata": {
    "colab": {
      "provenance": []
    },
    "kernelspec": {
      "name": "python3",
      "display_name": "Python 3"
    },
    "language_info": {
      "name": "python"
    }
  },
  "cells": [
    {
      "cell_type": "code",
      "execution_count": 1,
      "metadata": {
        "colab": {
          "base_uri": "https://localhost:8080/"
        },
        "id": "aB5NZu0WQCr2",
        "outputId": "10f6444e-8c68-41b1-fa51-aa63d570d4b3"
      },
      "outputs": [
        {
          "output_type": "execute_result",
          "data": {
            "text/plain": [
              "(50, 40, 30, 20, 10)"
            ]
          },
          "metadata": {},
          "execution_count": 1
        }
      ],
      "source": [
        "# 1: Reverse the tuple\n",
        "\n",
        "tuple1 = (10, 20, 30, 40, 50)\n",
        "tuple1[::-1]"
      ]
    },
    {
      "cell_type": "code",
      "source": [
        "# 2: Access value 20 from the tuple\n",
        "# The given tuple is a nested tuple. write a Python program to print the value 20.\n",
        "\n",
        "tuple1 = (\"Orange\", [10, 20, 30], (5, 15, 25))\n",
        "tuple1[1][1]"
      ],
      "metadata": {
        "colab": {
          "base_uri": "https://localhost:8080/"
        },
        "id": "h0TeoYMfQcDS",
        "outputId": "de8e90af-af5e-447b-c1a2-c13c8a0d448c"
      },
      "execution_count": 2,
      "outputs": [
        {
          "output_type": "execute_result",
          "data": {
            "text/plain": [
              "20"
            ]
          },
          "metadata": {},
          "execution_count": 2
        }
      ]
    },
    {
      "cell_type": "code",
      "source": [
        "# 3:\n",
        "tuple1= (50, )\n",
        "print(tuple1)"
      ],
      "metadata": {
        "colab": {
          "base_uri": "https://localhost:8080/"
        },
        "id": "8GdApH79QrQ2",
        "outputId": "22456058-f229-4af1-e3f7-b16b94c078c7"
      },
      "execution_count": 3,
      "outputs": [
        {
          "output_type": "stream",
          "name": "stdout",
          "text": [
            "(50,)\n"
          ]
        }
      ]
    },
    {
      "cell_type": "code",
      "source": [
        "# 4: Unpack the tuple into 4 variables\n",
        "\n",
        "tuple1 = (10, 20, 30, 40)\n",
        "a, b, c, d = tuple1\n",
        "print(a)\n",
        "print(b)\n",
        "print(c)\n",
        "print(d)"
      ],
      "metadata": {
        "colab": {
          "base_uri": "https://localhost:8080/"
        },
        "id": "XmubjLS0Qyp2",
        "outputId": "11ffc7f8-7de0-4bfd-b156-a54165ddddcc"
      },
      "execution_count": 4,
      "outputs": [
        {
          "output_type": "stream",
          "name": "stdout",
          "text": [
            "10\n",
            "20\n",
            "30\n",
            "40\n"
          ]
        }
      ]
    },
    {
      "cell_type": "code",
      "source": [
        "#  5: Swap two tuples in Python\n",
        "\n",
        "tuple1 = (11, 22)\n",
        "tuple2 = (99, 88)\n",
        "tuple1, tuple2 = tuple2, tuple1\n",
        "print(tuple2)\n",
        "print(tuple1)"
      ],
      "metadata": {
        "colab": {
          "base_uri": "https://localhost:8080/"
        },
        "id": "aIqeeDXZQ_JB",
        "outputId": "4907e6f0-2c83-46cd-9a4a-3e4ab29a899f"
      },
      "execution_count": 5,
      "outputs": [
        {
          "output_type": "stream",
          "name": "stdout",
          "text": [
            "(11, 22)\n",
            "(99, 88)\n"
          ]
        }
      ]
    },
    {
      "cell_type": "code",
      "source": [
        "#  6: Copy specific elements from one tuple to a new tuple\n",
        "# Write a program to copy elements 44 and 55 from the following tuple into a new tuple.\n",
        "\n",
        "tuple1 = (11, 22, 33, 44, 55, 66)\n",
        "tuple2 = tuple1[3:-1]\n",
        "tuple2\n"
      ],
      "metadata": {
        "colab": {
          "base_uri": "https://localhost:8080/"
        },
        "id": "5NntM5lPRLhV",
        "outputId": "686bdf46-39f8-4c6f-a124-debba3002a84"
      },
      "execution_count": 1,
      "outputs": [
        {
          "output_type": "execute_result",
          "data": {
            "text/plain": [
              "(44, 55)"
            ]
          },
          "metadata": {},
          "execution_count": 1
        }
      ]
    },
    {
      "cell_type": "code",
      "source": [
        "# 7: Modify the tuple\n",
        "# Given is a nested tuple. Write a program to modify the first item (22) of a list inside a following tuple to 222\n",
        "tuple1 = (11, [22, 33], 44, 55)\n",
        "tuple1[1][0] = 222\n",
        "tuple1"
      ],
      "metadata": {
        "colab": {
          "base_uri": "https://localhost:8080/"
        },
        "id": "BS61sO6GuaiT",
        "outputId": "d507aeb6-692e-488d-e881-1c7ef6d0d9bb"
      },
      "execution_count": 3,
      "outputs": [
        {
          "output_type": "execute_result",
          "data": {
            "text/plain": [
              "(11, [222, 33], 44, 55)"
            ]
          },
          "metadata": {},
          "execution_count": 3
        }
      ]
    },
    {
      "cell_type": "code",
      "source": [
        "# 8: Sort a tuple of tuples by 2nd item\n",
        "\n",
        "tuple1 = (('a', 23),('b', 37),('c', 11), ('d',29))\n",
        "tuple1 = tuple(sorted(list(tuple1), key = lambda x:x[1]))\n",
        "tuple1\n"
      ],
      "metadata": {
        "colab": {
          "base_uri": "https://localhost:8080/"
        },
        "id": "4_ee5lTgu6Ol",
        "outputId": "b5403e3f-f073-4fef-b3cb-e6bf16213486"
      },
      "execution_count": 8,
      "outputs": [
        {
          "output_type": "execute_result",
          "data": {
            "text/plain": [
              "(('c', 11), ('a', 23), ('d', 29), ('b', 37))"
            ]
          },
          "metadata": {},
          "execution_count": 8
        }
      ]
    },
    {
      "cell_type": "code",
      "source": [
        "# 9: Counts the number of occurrences of item 50 from a tuple\n",
        "\n",
        "tuple1 = (50, 10, 60, 70, 50)\n",
        "tuple1.count(50)"
      ],
      "metadata": {
        "colab": {
          "base_uri": "https://localhost:8080/"
        },
        "id": "N1uPL_GAxSxx",
        "outputId": "5da86acf-756d-4b0c-f42a-efb957db84c8"
      },
      "execution_count": 9,
      "outputs": [
        {
          "output_type": "execute_result",
          "data": {
            "text/plain": [
              "2"
            ]
          },
          "metadata": {},
          "execution_count": 9
        }
      ]
    },
    {
      "cell_type": "code",
      "source": [
        "# 10: Check if all items in the tuple are the same\n",
        "def check(t):\n",
        "  return all(i == t[0] for i in t)\n",
        "\n",
        "tuple1 = (45, 45, 45, 45)\n",
        "print(check(tuple1))"
      ],
      "metadata": {
        "colab": {
          "base_uri": "https://localhost:8080/"
        },
        "id": "x5gH4JnYxijZ",
        "outputId": "57bd8aae-019a-4184-f708-d935a5f38293"
      },
      "execution_count": 10,
      "outputs": [
        {
          "output_type": "stream",
          "name": "stdout",
          "text": [
            "True\n"
          ]
        }
      ]
    }
  ]
}